{
 "cells": [
  {
   "cell_type": "markdown",
   "metadata": {},
   "source": [
    "### Consolidation simulations\n",
    "\n",
    "This notebook contains code for the modelling of consolidation as teacher-student learning, in which initial representations of memories are replayed to train a generative model.\n",
    "\n",
    "To speed up the code, go to 'Runtime' > 'Change runtime type', and select 'GPU' from the 'Hardware acceleration' dropdown menu. (Note that the free version of Colab will only allow this for one notebook at a time.)\n",
    "\n",
    "#### End-to-end simulation example\n",
    "\n",
    "The following code:\n",
    "* Installs and imports dependencies, and sets a random seed for reproducibility\n",
    "* Trains a modern Hopfield network on the MNIST dataset of handwritten digits\n",
    "* Gives the Hopfield network random noise as an input, and gets the outputs (which should be memories)\n",
    "* Trains a variational autoencoder on the 'memories'\n",
    "* Runs a set of tests, e.g. tests recall and interpolation between items, and plots the latent space projected into 2D\n",
    "* Saves the outputs to a PDF in the 'outputs' folder\n",
    "* The figures in this PDF correspond to figures 3, 4 and 5 in the paper"
   ]
  },
  {
   "cell_type": "markdown",
   "metadata": {},
   "source": [
    "#### Colab installation:\n",
    "\n",
    "Make sure you click 'Restart runtime' after running this cell."
   ]
  },
  {
   "cell_type": "code",
   "execution_count": null,
   "metadata": {},
   "outputs": [],
   "source": [
    "!git clone https://github.com/eas-93/generative-consolidation.git\n",
    "%cd ./generative-consolidation/main_results\n",
    "!pip install -r requirements.txt\n",
    "!pip install matplotlib --upgrade\n",
    "\n",
    "import sys\n",
    "sys.path.append('./generative-consolidation/main_results')"
   ]
  },
  {
   "cell_type": "markdown",
   "metadata": {},
   "source": [
    "#### Imports:"
   ]
  },
  {
   "cell_type": "code",
   "execution_count": null,
   "metadata": {},
   "outputs": [],
   "source": [
    "from end_to_end import run_end_to_end\n",
    "import tensorflow as tf\n",
    "\n",
    "# set tensorflow random seed to make outputs reproducible\n",
    "tf.random.set_seed(123)"
   ]
  },
  {
   "cell_type": "markdown",
   "metadata": {},
   "source": [
    "#### Generate results:"
   ]
  },
  {
   "cell_type": "markdown",
   "metadata": {},
   "source": [
    "The cell below recreates the results in the 'outputs' folder for the MNIST dataset (uncomment to try the other datasets too, but downloading the data for these takes a while).\n",
    "\n",
    "The arguments in the run_end_to_end() function can be changed to run other experiments, e.g. to change the number of latent variables in the VAE."
   ]
  },
  {
   "cell_type": "code",
   "execution_count": null,
   "metadata": {},
   "outputs": [],
   "source": [
    "run_end_to_end(initial='hopfield', generative='vae', dataset='mnist', generative_epochs=1000, \n",
    "               num=1000, latent_dim=10, kl_weighting=1, vector_arithmetic=False)\n",
    "\n",
    "# run_end_to_end(initial='hopfield', generative='vae', dataset='shapes3d', generative_epochs=1000, \n",
    "#                num=1000, latent_dim=10, kl_weighting=1, vector_arithmetic=False)\n",
    "\n",
    "# run_end_to_end(initial='hopfield', generative='vae', dataset='solids', generative_epochs=1000, \n",
    "#                num=1000, latent_dim=10, kl_weighting=1, vector_arithmetic=False)\n",
    "\n",
    "# run_end_to_end(initial='hopfield', generative='vae', dataset='fashion_mnist', generative_epochs=1000, \n",
    "#                num=1000, latent_dim=10, kl_weighting=1, vector_arithmetic=False)"
   ]
  }
 ],
 "metadata": {
  "kernelspec": {
   "display_name": "Python 3 (ipykernel)",
   "language": "python",
   "name": "python3"
  },
  "language_info": {
   "codemirror_mode": {
    "name": "ipython",
    "version": 3
   },
   "file_extension": ".py",
   "mimetype": "text/x-python",
   "name": "python",
   "nbconvert_exporter": "python",
   "pygments_lexer": "ipython3",
   "version": "3.7.1"
  }
 },
 "nbformat": 4,
 "nbformat_minor": 4
}
