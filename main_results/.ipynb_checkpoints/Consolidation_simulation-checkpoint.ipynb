{
 "cells": [
  {
   "cell_type": "markdown",
   "metadata": {},
   "source": [
    "### Consolidation simulations\n",
    "\n",
    "This directory contains code for the modelling of consolidation as teacher-student learning, in which initial representations of memories are replayed to train a generative model.\n",
    "\n",
    "#### End-to-end simulation example\n",
    "\n",
    "The following code:\n",
    "* Installs and imports dependencies, and sets a random seed for reproducibility\n",
    "* Trains a modern Hopfield network on the MNIST dataset of handwritten digits\n",
    "* Gives the Hopfield network random noise as an input, and gets the outputs (which should be memories)\n",
    "* Trains a variational autoencoder on the 'memories'\n",
    "* Runs a set of tests, e.g. tests recall and interpolation between items, and plots the latent space projected into 2D\n",
    "* Saves the outputs to a PDF in the 'outputs' folder\n",
    "* The figures in this PDF correspond to figures 3, 4 and 5 in the paper"
   ]
  },
  {
   "cell_type": "markdown",
   "metadata": {},
   "source": [
    "#### Installation:"
   ]
  },
  {
   "cell_type": "code",
   "execution_count": null,
   "metadata": {},
   "outputs": [],
   "source": [
    "!pip install -r requirements.txt"
   ]
  },
  {
   "cell_type": "markdown",
   "metadata": {},
   "source": [
    "#### Imports:"
   ]
  },
  {
   "cell_type": "code",
   "execution_count": 1,
   "metadata": {},
   "outputs": [],
   "source": [
    "from end_to_end import run_end_to_end\n",
    "import tensorflow as tf\n",
    "\n",
    "# set tensorflow random seed to make outputs reproducible\n",
    "tf.random.set_seed(123)"
   ]
  },
  {
   "cell_type": "markdown",
   "metadata": {},
   "source": [
    "#### Generate results:"
   ]
  },
  {
   "cell_type": "markdown",
   "metadata": {},
   "source": [
    "The cell below recreates the results in the 'outputs' folder:"
   ]
  },
  {
   "cell_type": "code",
   "execution_count": null,
   "metadata": {},
   "outputs": [],
   "source": [
    "run_end_to_end(initial='hopfield', generative='vae', dataset='shapes3d', generative_epochs=1000, \n",
    "               num=1000, latent_dim=10, kl_weighting=1)\n",
    "\n",
    "run_end_to_end(initial='hopfield', generative='vae', dataset='solids', generative_epochs=1000, \n",
    "               num=1000, latent_dim=10, kl_weighting=1)\n",
    "\n",
    "run_end_to_end(initial='hopfield', generative='vae', dataset='fashion_mnist', generative_epochs=1000, \n",
    "               num=1000, latent_dim=10, kl_weighting=1)\n",
    "\n",
    "run_end_to_end(initial='hopfield', generative='vae', dataset='mnist', generative_epochs=1000, \n",
    "               num=1000, latent_dim=10, kl_weighting=1)"
   ]
  }
 ],
 "metadata": {
  "kernelspec": {
   "display_name": "Python 3",
   "language": "python",
   "name": "python3"
  },
  "language_info": {
   "codemirror_mode": {
    "name": "ipython",
    "version": 3
   },
   "file_extension": ".py",
   "mimetype": "text/x-python",
   "name": "python",
   "nbconvert_exporter": "python",
   "pygments_lexer": "ipython3",
   "version": "3.7.1"
  }
 },
 "nbformat": 4,
 "nbformat_minor": 4
}
