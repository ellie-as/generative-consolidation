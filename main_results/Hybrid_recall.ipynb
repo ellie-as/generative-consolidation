{
 "cells": [
  {
   "cell_type": "markdown",
   "metadata": {},
   "source": [
    "### Hybrid recall\n",
    "\n",
    "How might the modern Hopfield network and generative model work together to recall a partially consolidated memory?"
   ]
  },
  {
   "cell_type": "markdown",
   "metadata": {},
   "source": [
    "#### Installation:"
   ]
  },
  {
   "cell_type": "code",
   "execution_count": null,
   "metadata": {},
   "outputs": [],
   "source": [
    "!pip install -r requirements.txt"
   ]
  },
  {
   "cell_type": "markdown",
   "metadata": {},
   "source": [
    "#### Imports:"
   ]
  },
  {
   "cell_type": "code",
   "execution_count": null,
   "metadata": {},
   "outputs": [],
   "source": [
    "from end_to_end import run_end_to_end\n",
    "import tensorflow as tf\n",
    "from utils import prepare_data, noise, display\n",
    "from initial_model import create_autoencoder\n",
    "from initial_tests import check_initial_recall, iterative_recall\n",
    "from generative_model import VAE, build_encoder_decoder_v3, build_encoder_decoder_v5\n",
    "from generative_tests import interpolate_ims, plot_latent_space, check_generative_recall, plot_history, vector_arithmetic\n",
    "from tensorflow import keras\n",
    "import numpy as np\n",
    "from random import randrange\n",
    "from PIL import Image\n",
    "import matplotlib.pyplot as plt\n",
    "import hopfield_utils\n",
    "from hopfield_models import ContinuousHopfield\n",
    "import matplotlib.backends.backend_pdf\n",
    "from config import models_dict, dims_dict\n",
    "\n",
    "# set tensorflow random seed to make outputs reproducible\n",
    "tf.random.set_seed(1)"
   ]
  },
  {
   "cell_type": "code",
   "execution_count": null,
   "metadata": {},
   "outputs": [],
   "source": [
    "def run_end_to_end(dataset='mnist', initial_epochs=10, generative_epochs=10, num=100, latent_dim=5, kl_weighting=1, hopfield_type='continuous', lr=0.001):\n",
    "    \n",
    "    train_data, test_data, noisy_train_data, noisy_test_data = prepare_data(dataset)\n",
    "    \n",
    "    dims = dims_dict[dataset]\n",
    "    model = models_dict[dataset]\n",
    "        \n",
    "    net = hopfield_utils.create_hopfield(num, hopfield_type=hopfield_type, dataset=dataset)\n",
    "    predictions = []\n",
    "    tests = []\n",
    "\n",
    "    images = hopfield_utils.load_images_mnist(num, dataset=dataset)\n",
    "\n",
    "    images_np = hopfield_utils.convert_images(images, 'gray-scale')\n",
    "    images_masked_np = hopfield_utils.mask_image_random(images_np)\n",
    "    images_np = [im_np.reshape(-1, 1) for im_np in images_np]\n",
    "    images_masked_np = [im_np.reshape(-1, 1) for im_np in images_masked_np]\n",
    "\n",
    "    for test_ind in range(num):\n",
    "        test = images_masked_np[test_ind].reshape(-1,1)\n",
    "        if hopfield_type is 'classical':\n",
    "            reconstructed = net.retrieve(test)\n",
    "        else:\n",
    "            reconstructed = net.retrieve(test, max_iter=10)\n",
    "        # if your image is greyscale, you need to pass PIL 2d array\n",
    "        reshaped = np.array(reconstructed).reshape(1,dims[0],dims[1])\n",
    "        test = np.array(test).reshape(1,dims[0],dims[1])\n",
    "        predictions.append(reshaped.reshape(1,dims[0],dims[1],dims[2]))\n",
    "        tests.append(test.reshape(1,dims[0],dims[1],dims[2]))\n",
    "\n",
    "    predictions = np.concatenate(predictions, axis=0)\n",
    "    tests = np.concatenate(tests, axis=0)\n",
    "\n",
    "    # rescale predictions back to interval [0, 1]\n",
    "    predictions = (predictions + 1) / 2 \n",
    "\n",
    "    encoder, decoder = models_dict[dataset](latent_dim = latent_dim)\n",
    "    vae = VAE(encoder, decoder, kl_weighting)\n",
    "    opt = keras.optimizers.Adam(lr=lr)\n",
    "    vae.compile(optimizer=opt)\n",
    "    history = vae.fit(predictions, epochs=generative_epochs, verbose=0, batch_size=32, shuffle=True)\n",
    "\n",
    "    return net, vae\n",
    "\n",
    "def check_generative_recall(vae, test_data, noise_level=0.25):\n",
    "    test_data = noise(test_data, noise_factor=noise_level)\n",
    "    latents = vae.encoder.predict(test_data)\n",
    "    predictions = vae.decoder.predict(latents[0])\n",
    "    fig = display(test_data, predictions, title='Inputs and outputs for VAE')\n",
    "    return predictions\n",
    "        "
   ]
  },
  {
   "cell_type": "markdown",
   "metadata": {},
   "source": [
    "The cell below recreates the results in the 'outputs' folder:"
   ]
  },
  {
   "cell_type": "code",
   "execution_count": null,
   "metadata": {},
   "outputs": [],
   "source": [
    "net, vae = run_end_to_end(dataset='mnist', generative_epochs=1000, \n",
    "               num=3000, latent_dim=10, kl_weighting=1)"
   ]
  },
  {
   "cell_type": "markdown",
   "metadata": {},
   "source": [
    "#### Hybrid recall\n",
    "\n",
    "First, pass noisy images through the partially-trained VAE, producing an approximate version of a memory. Then give the VAE output to the modern Hopfield network to restore the details."
   ]
  },
  {
   "cell_type": "code",
   "execution_count": null,
   "metadata": {},
   "outputs": [],
   "source": [
    "train_data, test_data, noisy_train_data, noisy_test_data = prepare_data('mnist')\n",
    "preds = check_generative_recall(vae, train_data[0:10], noise_level=0.25)\n",
    "\n",
    "# Rescale to range -1 to 1 for Hopfield network:\n",
    "preds = (preds * 2) - 1"
   ]
  },
  {
   "cell_type": "code",
   "execution_count": null,
   "metadata": {},
   "outputs": [],
   "source": [
    "def display(array1, array2, seed=None, title='Inputs and outputs of the model', dataset='mnist'):\n",
    "    hopfield=False\n",
    "    \n",
    "    dim = array1[0].shape[0]\n",
    "    #Displays ten random images from each one of the supplied arrays.\n",
    "    if seed is not None:\n",
    "        np.random.seed(seed)\n",
    "        \n",
    "    n = 10\n",
    "\n",
    "    images1 = array1\n",
    "    images2 = array2\n",
    "\n",
    "    fig = plt.figure(figsize=(20, 4))\n",
    "    for i, (image1, image2) in enumerate(zip(images1, images2)):\n",
    "        ax = plt.subplot(2, n, i + 1)\n",
    "        if hopfield==True:\n",
    "            plt.imshow(image1.reshape(dim, dim), cmap='binary', vmin=-1, vmax=1)\n",
    "        else:\n",
    "            plt.imshow(image1.reshape(dim, dim))\n",
    "            plt.gray()\n",
    "        ax.get_xaxis().set_visible(False)\n",
    "        ax.get_yaxis().set_visible(False)\n",
    "\n",
    "        ax = plt.subplot(2, n, i + 1 + n)\n",
    "        if hopfield==True:\n",
    "            plt.imshow(image2.reshape(dim, dim), cmap='binary', vmin=-1, vmax=1)\n",
    "        else:\n",
    "            plt.imshow(image2.reshape(dim, dim))\n",
    "            plt.gray()\n",
    "        ax.get_xaxis().set_visible(False)\n",
    "        ax.get_yaxis().set_visible(False)\n",
    "    \n",
    "    fig.suptitle(title)\n",
    "    plt.show()\n",
    "    return fig"
   ]
  },
  {
   "cell_type": "code",
   "execution_count": null,
   "metadata": {},
   "outputs": [],
   "source": [
    "num = 10\n",
    "dims=(28,28,1)\n",
    "\n",
    "predictions = []\n",
    "tests = []\n",
    "\n",
    "for test_ind in range(num):\n",
    "    test = preds[test_ind].reshape(-1,1)\n",
    "    reconstructed = net.retrieve(test, max_iter=10)\n",
    "    # if your image is greyscale, you need to pass PIL 2d array\n",
    "    reshaped = np.array(reconstructed).reshape(1,dims[0],dims[1])\n",
    "    test = np.array(test).reshape(1,dims[0],dims[1])\n",
    "    predictions.append(reshaped.reshape(1,dims[0],dims[1],dims[2]))\n",
    "    tests.append(test.reshape(1,dims[0],dims[1],dims[2]))\n",
    "\n",
    "print(\"Recalling noisy images with the initial model:\")\n",
    "predictions = np.concatenate(predictions, axis=0)\n",
    "tests = np.concatenate(tests, axis=0)\n",
    "\n",
    "fig = display(tests,predictions, dataset='mnist', title='Inputs and outputs for Hopfield network')      "
   ]
  }
 ],
 "metadata": {
  "kernelspec": {
   "display_name": "conda_amazonei_tensorflow2_p36",
   "language": "python",
   "name": "conda_amazonei_tensorflow2_p36"
  },
  "language_info": {
   "codemirror_mode": {
    "name": "ipython",
    "version": 3
   },
   "file_extension": ".py",
   "mimetype": "text/x-python",
   "name": "python",
   "nbconvert_exporter": "python",
   "pygments_lexer": "ipython3",
   "version": "3.6.13"
  }
 },
 "nbformat": 4,
 "nbformat_minor": 4
}
