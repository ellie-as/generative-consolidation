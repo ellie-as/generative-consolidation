{
 "cells": [
  {
   "cell_type": "markdown",
   "id": "continuing-soccer",
   "metadata": {},
   "source": [
    "### Bartlett experiment with GPT-2\n",
    "\n",
    "* Fine-tune GPT-2 on Bartlett experiment story plus 'cultural context'\n",
    "* Explore recall of Bartlett story\n",
    "* How does temperature parameter for sampling explore level of distortion?"
   ]
  },
  {
   "cell_type": "code",
   "execution_count": 4,
   "id": "modified-smoke",
   "metadata": {
    "collapsed": true,
    "jupyter": {
     "outputs_hidden": true
    }
   },
   "outputs": [
    {
     "name": "stdout",
     "output_type": "stream",
     "text": [
      "Collecting simpletransformers\n",
      "  Using cached simpletransformers-0.60.9-py3-none-any.whl (206 kB)\n",
      "Requirement already satisfied: tqdm>=4.47.0 in /home/ec2-user/anaconda3/envs/amazonei_pytorch_latest_p36/lib/python3.6/site-packages (from simpletransformers) (4.48.2)\n",
      "Requirement already satisfied: tokenizers in /home/ec2-user/anaconda3/envs/amazonei_pytorch_latest_p36/lib/python3.6/site-packages (from simpletransformers) (0.9.4)\n",
      "Collecting wandb\n",
      "  Using cached wandb-0.10.20-py2.py3-none-any.whl (2.0 MB)\n",
      "Requirement already satisfied: pandas in /home/ec2-user/anaconda3/envs/amazonei_pytorch_latest_p36/lib/python3.6/site-packages (from simpletransformers) (1.1.1)\n",
      "Requirement already satisfied: requests in /home/ec2-user/anaconda3/envs/amazonei_pytorch_latest_p36/lib/python3.6/site-packages (from simpletransformers) (2.24.0)\n",
      "Requirement already satisfied: scikit-learn in /home/ec2-user/anaconda3/envs/amazonei_pytorch_latest_p36/lib/python3.6/site-packages (from simpletransformers) (0.23.1)\n",
      "Collecting tensorboardx\n",
      "  Using cached tensorboardX-2.1-py2.py3-none-any.whl (308 kB)\n",
      "Requirement already satisfied: transformers>=4.2.0 in /home/ec2-user/anaconda3/envs/amazonei_pytorch_latest_p36/lib/python3.6/site-packages (from simpletransformers) (4.2.2)\n",
      "Collecting seqeval\n",
      "  Using cached seqeval-1.2.2-py3-none-any.whl\n",
      "Collecting streamlit\n",
      "  Using cached streamlit-0.77.0-py2.py3-none-any.whl (7.5 MB)\n",
      "Collecting sentencepiece\n",
      "  Using cached sentencepiece-0.1.95-cp36-cp36m-manylinux2014_x86_64.whl (1.2 MB)\n",
      "Requirement already satisfied: regex in /home/ec2-user/anaconda3/envs/amazonei_pytorch_latest_p36/lib/python3.6/site-packages (from simpletransformers) (2020.7.14)\n",
      "Requirement already satisfied: numpy in /home/ec2-user/anaconda3/envs/amazonei_pytorch_latest_p36/lib/python3.6/site-packages (from simpletransformers) (1.19.5)\n",
      "Requirement already satisfied: scipy in /home/ec2-user/anaconda3/envs/amazonei_pytorch_latest_p36/lib/python3.6/site-packages (from simpletransformers) (1.3.0)\n",
      "Requirement already satisfied: sacremoses in /home/ec2-user/anaconda3/envs/amazonei_pytorch_latest_p36/lib/python3.6/site-packages (from transformers>=4.2.0->simpletransformers) (0.0.43)\n",
      "Requirement already satisfied: packaging in /home/ec2-user/anaconda3/envs/amazonei_pytorch_latest_p36/lib/python3.6/site-packages (from transformers>=4.2.0->simpletransformers) (20.4)\n",
      "Requirement already satisfied: importlib-metadata in /home/ec2-user/anaconda3/envs/amazonei_pytorch_latest_p36/lib/python3.6/site-packages (from transformers>=4.2.0->simpletransformers) (1.7.0)\n",
      "Collecting dataclasses\n",
      "  Using cached dataclasses-0.8-py3-none-any.whl (19 kB)\n",
      "Requirement already satisfied: filelock in /home/ec2-user/anaconda3/envs/amazonei_pytorch_latest_p36/lib/python3.6/site-packages (from transformers>=4.2.0->simpletransformers) (3.0.12)\n",
      "Requirement already satisfied: zipp>=0.5 in /home/ec2-user/anaconda3/envs/amazonei_pytorch_latest_p36/lib/python3.6/site-packages (from importlib-metadata->transformers>=4.2.0->simpletransformers) (3.1.0)\n",
      "Requirement already satisfied: pyparsing>=2.0.2 in /home/ec2-user/anaconda3/envs/amazonei_pytorch_latest_p36/lib/python3.6/site-packages (from packaging->transformers>=4.2.0->simpletransformers) (2.4.7)\n",
      "Requirement already satisfied: six in /home/ec2-user/anaconda3/envs/amazonei_pytorch_latest_p36/lib/python3.6/site-packages (from packaging->transformers>=4.2.0->simpletransformers) (1.15.0)\n",
      "Requirement already satisfied: python-dateutil>=2.7.3 in /home/ec2-user/anaconda3/envs/amazonei_pytorch_latest_p36/lib/python3.6/site-packages (from pandas->simpletransformers) (2.8.1)\n",
      "Requirement already satisfied: pytz>=2017.2 in /home/ec2-user/anaconda3/envs/amazonei_pytorch_latest_p36/lib/python3.6/site-packages (from pandas->simpletransformers) (2020.1)\n",
      "Requirement already satisfied: idna<3,>=2.5 in /home/ec2-user/anaconda3/envs/amazonei_pytorch_latest_p36/lib/python3.6/site-packages (from requests->simpletransformers) (2.10)\n",
      "Requirement already satisfied: urllib3!=1.25.0,!=1.25.1,<1.26,>=1.21.1 in /home/ec2-user/anaconda3/envs/amazonei_pytorch_latest_p36/lib/python3.6/site-packages (from requests->simpletransformers) (1.25.10)\n",
      "Requirement already satisfied: certifi>=2017.4.17 in /home/ec2-user/anaconda3/envs/amazonei_pytorch_latest_p36/lib/python3.6/site-packages (from requests->simpletransformers) (2020.6.20)\n",
      "Requirement already satisfied: chardet<4,>=3.0.2 in /home/ec2-user/anaconda3/envs/amazonei_pytorch_latest_p36/lib/python3.6/site-packages (from requests->simpletransformers) (3.0.4)\n",
      "Requirement already satisfied: joblib in /home/ec2-user/anaconda3/envs/amazonei_pytorch_latest_p36/lib/python3.6/site-packages (from sacremoses->transformers>=4.2.0->simpletransformers) (0.16.0)\n",
      "Requirement already satisfied: click in /home/ec2-user/anaconda3/envs/amazonei_pytorch_latest_p36/lib/python3.6/site-packages (from sacremoses->transformers>=4.2.0->simpletransformers) (7.1.2)\n",
      "Requirement already satisfied: threadpoolctl>=2.0.0 in /home/ec2-user/anaconda3/envs/amazonei_pytorch_latest_p36/lib/python3.6/site-packages (from scikit-learn->simpletransformers) (2.1.0)\n",
      "Requirement already satisfied: toml in /home/ec2-user/anaconda3/envs/amazonei_pytorch_latest_p36/lib/python3.6/site-packages (from streamlit->simpletransformers) (0.10.1)\n",
      "Requirement already satisfied: tornado>=5.0 in /home/ec2-user/anaconda3/envs/amazonei_pytorch_latest_p36/lib/python3.6/site-packages (from streamlit->simpletransformers) (6.0.4)\n",
      "Collecting astor\n",
      "  Using cached astor-0.8.1-py2.py3-none-any.whl (27 kB)\n",
      "Collecting tzlocal\n",
      "  Using cached tzlocal-2.1-py2.py3-none-any.whl (16 kB)\n",
      "Collecting blinker\n",
      "  Using cached blinker-1.4-py3-none-any.whl\n",
      "Collecting pydeck>=0.1.dev5\n",
      "  Using cached pydeck-0.6.1-py2.py3-none-any.whl (4.6 MB)\n",
      "Collecting validators\n",
      "  Using cached validators-0.18.2-py3-none-any.whl (19 kB)\n",
      "Requirement already satisfied: pyarrow in /home/ec2-user/anaconda3/envs/amazonei_pytorch_latest_p36/lib/python3.6/site-packages (from streamlit->simpletransformers) (3.0.0)\n",
      "Collecting gitpython\n",
      "  Using cached GitPython-3.1.14-py3-none-any.whl (159 kB)\n",
      "Requirement already satisfied: watchdog in /home/ec2-user/anaconda3/envs/amazonei_pytorch_latest_p36/lib/python3.6/site-packages (from streamlit->simpletransformers) (0.10.3)\n",
      "Collecting altair>=3.2.0\n",
      "  Using cached altair-4.1.0-py3-none-any.whl (727 kB)\n",
      "Collecting cachetools>=4.0\n",
      "  Using cached cachetools-4.2.1-py3-none-any.whl (12 kB)\n",
      "Requirement already satisfied: pillow>=6.2.0 in /home/ec2-user/anaconda3/envs/amazonei_pytorch_latest_p36/lib/python3.6/site-packages (from streamlit->simpletransformers) (7.2.0)\n",
      "Requirement already satisfied: protobuf!=3.11,>=3.6.0 in /home/ec2-user/anaconda3/envs/amazonei_pytorch_latest_p36/lib/python3.6/site-packages (from streamlit->simpletransformers) (3.14.0)\n",
      "Collecting base58\n",
      "  Using cached base58-2.1.0-py3-none-any.whl (5.6 kB)\n",
      "Requirement already satisfied: toolz in /home/ec2-user/anaconda3/envs/amazonei_pytorch_latest_p36/lib/python3.6/site-packages (from altair>=3.2.0->streamlit->simpletransformers) (0.10.0)\n",
      "Requirement already satisfied: jsonschema in /home/ec2-user/anaconda3/envs/amazonei_pytorch_latest_p36/lib/python3.6/site-packages (from altair>=3.2.0->streamlit->simpletransformers) (3.2.0)\n",
      "Requirement already satisfied: jinja2 in /home/ec2-user/anaconda3/envs/amazonei_pytorch_latest_p36/lib/python3.6/site-packages (from altair>=3.2.0->streamlit->simpletransformers) (2.11.2)\n",
      "Requirement already satisfied: entrypoints in /home/ec2-user/anaconda3/envs/amazonei_pytorch_latest_p36/lib/python3.6/site-packages (from altair>=3.2.0->streamlit->simpletransformers) (0.3)\n",
      "Requirement already satisfied: ipywidgets>=7.0.0 in /home/ec2-user/anaconda3/envs/amazonei_pytorch_latest_p36/lib/python3.6/site-packages (from pydeck>=0.1.dev5->streamlit->simpletransformers) (7.5.1)\n",
      "Requirement already satisfied: ipykernel>=5.1.2 in /home/ec2-user/anaconda3/envs/amazonei_pytorch_latest_p36/lib/python3.6/site-packages (from pydeck>=0.1.dev5->streamlit->simpletransformers) (5.3.4)\n",
      "Requirement already satisfied: traitlets>=4.3.2 in /home/ec2-user/anaconda3/envs/amazonei_pytorch_latest_p36/lib/python3.6/site-packages (from pydeck>=0.1.dev5->streamlit->simpletransformers) (4.3.3)\n",
      "Requirement already satisfied: jupyter-client in /home/ec2-user/anaconda3/envs/amazonei_pytorch_latest_p36/lib/python3.6/site-packages (from ipykernel>=5.1.2->pydeck>=0.1.dev5->streamlit->simpletransformers) (6.1.7)\n",
      "Requirement already satisfied: ipython>=5.0.0 in /home/ec2-user/anaconda3/envs/amazonei_pytorch_latest_p36/lib/python3.6/site-packages (from ipykernel>=5.1.2->pydeck>=0.1.dev5->streamlit->simpletransformers) (7.7.0)\n",
      "Requirement already satisfied: jedi>=0.10 in /home/ec2-user/anaconda3/envs/amazonei_pytorch_latest_p36/lib/python3.6/site-packages (from ipython>=5.0.0->ipykernel>=5.1.2->pydeck>=0.1.dev5->streamlit->simpletransformers) (0.17.1)\n",
      "Requirement already satisfied: pickleshare in /home/ec2-user/anaconda3/envs/amazonei_pytorch_latest_p36/lib/python3.6/site-packages (from ipython>=5.0.0->ipykernel>=5.1.2->pydeck>=0.1.dev5->streamlit->simpletransformers) (0.7.5)\n",
      "Requirement already satisfied: prompt-toolkit<2.1.0,>=2.0.0 in /home/ec2-user/anaconda3/envs/amazonei_pytorch_latest_p36/lib/python3.6/site-packages (from ipython>=5.0.0->ipykernel>=5.1.2->pydeck>=0.1.dev5->streamlit->simpletransformers) (2.0.10)\n",
      "Requirement already satisfied: pygments in /home/ec2-user/anaconda3/envs/amazonei_pytorch_latest_p36/lib/python3.6/site-packages (from ipython>=5.0.0->ipykernel>=5.1.2->pydeck>=0.1.dev5->streamlit->simpletransformers) (2.6.1)\n",
      "Requirement already satisfied: setuptools>=18.5 in /home/ec2-user/anaconda3/envs/amazonei_pytorch_latest_p36/lib/python3.6/site-packages (from ipython>=5.0.0->ipykernel>=5.1.2->pydeck>=0.1.dev5->streamlit->simpletransformers) (49.6.0.post20200814)\n",
      "Requirement already satisfied: decorator in /home/ec2-user/anaconda3/envs/amazonei_pytorch_latest_p36/lib/python3.6/site-packages (from ipython>=5.0.0->ipykernel>=5.1.2->pydeck>=0.1.dev5->streamlit->simpletransformers) (4.4.2)\n",
      "Requirement already satisfied: backcall in /home/ec2-user/anaconda3/envs/amazonei_pytorch_latest_p36/lib/python3.6/site-packages (from ipython>=5.0.0->ipykernel>=5.1.2->pydeck>=0.1.dev5->streamlit->simpletransformers) (0.2.0)\n",
      "Requirement already satisfied: pexpect in /home/ec2-user/anaconda3/envs/amazonei_pytorch_latest_p36/lib/python3.6/site-packages (from ipython>=5.0.0->ipykernel>=5.1.2->pydeck>=0.1.dev5->streamlit->simpletransformers) (4.8.0)\n",
      "Requirement already satisfied: widgetsnbextension~=3.5.0 in /home/ec2-user/anaconda3/envs/amazonei_pytorch_latest_p36/lib/python3.6/site-packages (from ipywidgets>=7.0.0->pydeck>=0.1.dev5->streamlit->simpletransformers) (3.5.1)\n",
      "Requirement already satisfied: nbformat>=4.2.0 in /home/ec2-user/anaconda3/envs/amazonei_pytorch_latest_p36/lib/python3.6/site-packages (from ipywidgets>=7.0.0->pydeck>=0.1.dev5->streamlit->simpletransformers) (5.0.7)\n",
      "Requirement already satisfied: parso<0.8.0,>=0.7.0 in /home/ec2-user/anaconda3/envs/amazonei_pytorch_latest_p36/lib/python3.6/site-packages (from jedi>=0.10->ipython>=5.0.0->ipykernel>=5.1.2->pydeck>=0.1.dev5->streamlit->simpletransformers) (0.7.0)\n",
      "Requirement already satisfied: MarkupSafe>=0.23 in /home/ec2-user/anaconda3/envs/amazonei_pytorch_latest_p36/lib/python3.6/site-packages (from jinja2->altair>=3.2.0->streamlit->simpletransformers) (1.1.1)\n",
      "Requirement already satisfied: jupyter-core in /home/ec2-user/anaconda3/envs/amazonei_pytorch_latest_p36/lib/python3.6/site-packages (from nbformat>=4.2.0->ipywidgets>=7.0.0->pydeck>=0.1.dev5->streamlit->simpletransformers) (4.6.3)\n",
      "Requirement already satisfied: ipython-genutils in /home/ec2-user/anaconda3/envs/amazonei_pytorch_latest_p36/lib/python3.6/site-packages (from nbformat>=4.2.0->ipywidgets>=7.0.0->pydeck>=0.1.dev5->streamlit->simpletransformers) (0.2.0)\n",
      "Requirement already satisfied: attrs>=17.4.0 in /home/ec2-user/anaconda3/envs/amazonei_pytorch_latest_p36/lib/python3.6/site-packages (from jsonschema->altair>=3.2.0->streamlit->simpletransformers) (20.2.0)\n",
      "Requirement already satisfied: pyrsistent>=0.14.0 in /home/ec2-user/anaconda3/envs/amazonei_pytorch_latest_p36/lib/python3.6/site-packages (from jsonschema->altair>=3.2.0->streamlit->simpletransformers) (0.16.0)\n",
      "Requirement already satisfied: wcwidth in /home/ec2-user/anaconda3/envs/amazonei_pytorch_latest_p36/lib/python3.6/site-packages (from prompt-toolkit<2.1.0,>=2.0.0->ipython>=5.0.0->ipykernel>=5.1.2->pydeck>=0.1.dev5->streamlit->simpletransformers) (0.2.5)\n",
      "Requirement already satisfied: notebook>=4.4.1 in /home/ec2-user/anaconda3/envs/amazonei_pytorch_latest_p36/lib/python3.6/site-packages (from widgetsnbextension~=3.5.0->ipywidgets>=7.0.0->pydeck>=0.1.dev5->streamlit->simpletransformers) (6.1.3)\n",
      "Requirement already satisfied: pyzmq>=17 in /home/ec2-user/anaconda3/envs/amazonei_pytorch_latest_p36/lib/python3.6/site-packages (from notebook>=4.4.1->widgetsnbextension~=3.5.0->ipywidgets>=7.0.0->pydeck>=0.1.dev5->streamlit->simpletransformers) (19.0.2)\n",
      "Requirement already satisfied: Send2Trash in /home/ec2-user/anaconda3/envs/amazonei_pytorch_latest_p36/lib/python3.6/site-packages (from notebook>=4.4.1->widgetsnbextension~=3.5.0->ipywidgets>=7.0.0->pydeck>=0.1.dev5->streamlit->simpletransformers) (1.5.0)\n",
      "Requirement already satisfied: argon2-cffi in /home/ec2-user/anaconda3/envs/amazonei_pytorch_latest_p36/lib/python3.6/site-packages (from notebook>=4.4.1->widgetsnbextension~=3.5.0->ipywidgets>=7.0.0->pydeck>=0.1.dev5->streamlit->simpletransformers) (20.1.0)\n",
      "Requirement already satisfied: nbconvert in /home/ec2-user/anaconda3/envs/amazonei_pytorch_latest_p36/lib/python3.6/site-packages (from notebook>=4.4.1->widgetsnbextension~=3.5.0->ipywidgets>=7.0.0->pydeck>=0.1.dev5->streamlit->simpletransformers) (5.6.1)\n",
      "Requirement already satisfied: prometheus-client in /home/ec2-user/anaconda3/envs/amazonei_pytorch_latest_p36/lib/python3.6/site-packages (from notebook>=4.4.1->widgetsnbextension~=3.5.0->ipywidgets>=7.0.0->pydeck>=0.1.dev5->streamlit->simpletransformers) (0.8.0)\n",
      "Requirement already satisfied: terminado>=0.8.3 in /home/ec2-user/anaconda3/envs/amazonei_pytorch_latest_p36/lib/python3.6/site-packages (from notebook>=4.4.1->widgetsnbextension~=3.5.0->ipywidgets>=7.0.0->pydeck>=0.1.dev5->streamlit->simpletransformers) (0.8.3)\n",
      "Requirement already satisfied: cffi>=1.0.0 in /home/ec2-user/anaconda3/envs/amazonei_pytorch_latest_p36/lib/python3.6/site-packages (from argon2-cffi->notebook>=4.4.1->widgetsnbextension~=3.5.0->ipywidgets>=7.0.0->pydeck>=0.1.dev5->streamlit->simpletransformers) (1.14.1)\n",
      "Requirement already satisfied: pycparser in /home/ec2-user/anaconda3/envs/amazonei_pytorch_latest_p36/lib/python3.6/site-packages (from cffi>=1.0.0->argon2-cffi->notebook>=4.4.1->widgetsnbextension~=3.5.0->ipywidgets>=7.0.0->pydeck>=0.1.dev5->streamlit->simpletransformers) (2.20)\n",
      "Collecting gitdb<5,>=4.0.1\n",
      "  Using cached gitdb-4.0.5-py3-none-any.whl (63 kB)\n",
      "Collecting smmap<4,>=3.0.1\n",
      "  Using cached smmap-3.0.5-py2.py3-none-any.whl (25 kB)\n",
      "Requirement already satisfied: bleach in /home/ec2-user/anaconda3/envs/amazonei_pytorch_latest_p36/lib/python3.6/site-packages (from nbconvert->notebook>=4.4.1->widgetsnbextension~=3.5.0->ipywidgets>=7.0.0->pydeck>=0.1.dev5->streamlit->simpletransformers) (3.1.5)\n",
      "Requirement already satisfied: defusedxml in /home/ec2-user/anaconda3/envs/amazonei_pytorch_latest_p36/lib/python3.6/site-packages (from nbconvert->notebook>=4.4.1->widgetsnbextension~=3.5.0->ipywidgets>=7.0.0->pydeck>=0.1.dev5->streamlit->simpletransformers) (0.6.0)\n",
      "Requirement already satisfied: pandocfilters>=1.4.1 in /home/ec2-user/anaconda3/envs/amazonei_pytorch_latest_p36/lib/python3.6/site-packages (from nbconvert->notebook>=4.4.1->widgetsnbextension~=3.5.0->ipywidgets>=7.0.0->pydeck>=0.1.dev5->streamlit->simpletransformers) (1.4.2)\n",
      "Requirement already satisfied: mistune<2,>=0.8.1 in /home/ec2-user/anaconda3/envs/amazonei_pytorch_latest_p36/lib/python3.6/site-packages (from nbconvert->notebook>=4.4.1->widgetsnbextension~=3.5.0->ipywidgets>=7.0.0->pydeck>=0.1.dev5->streamlit->simpletransformers) (0.8.4)\n",
      "Requirement already satisfied: testpath in /home/ec2-user/anaconda3/envs/amazonei_pytorch_latest_p36/lib/python3.6/site-packages (from nbconvert->notebook>=4.4.1->widgetsnbextension~=3.5.0->ipywidgets>=7.0.0->pydeck>=0.1.dev5->streamlit->simpletransformers) (0.4.4)\n",
      "Requirement already satisfied: webencodings in /home/ec2-user/anaconda3/envs/amazonei_pytorch_latest_p36/lib/python3.6/site-packages (from bleach->nbconvert->notebook>=4.4.1->widgetsnbextension~=3.5.0->ipywidgets>=7.0.0->pydeck>=0.1.dev5->streamlit->simpletransformers) (0.5.1)\n",
      "Requirement already satisfied: ptyprocess>=0.5 in /home/ec2-user/anaconda3/envs/amazonei_pytorch_latest_p36/lib/python3.6/site-packages (from pexpect->ipython>=5.0.0->ipykernel>=5.1.2->pydeck>=0.1.dev5->streamlit->simpletransformers) (0.6.0)\n",
      "Collecting shortuuid>=0.5.0\n",
      "  Using cached shortuuid-1.0.1-py3-none-any.whl (7.5 kB)\n",
      "Requirement already satisfied: psutil>=5.0.0 in /home/ec2-user/anaconda3/envs/amazonei_pytorch_latest_p36/lib/python3.6/site-packages (from wandb->simpletransformers) (5.7.2)\n",
      "Collecting promise<3,>=2.0\n",
      "  Using cached promise-2.3-py3-none-any.whl\n",
      "Collecting docker-pycreds>=0.4.0\n",
      "  Using cached docker_pycreds-0.4.0-py2.py3-none-any.whl (9.0 kB)\n",
      "Collecting configparser>=3.8.1\n",
      "  Using cached configparser-5.0.2-py3-none-any.whl (19 kB)\n",
      "Requirement already satisfied: PyYAML in /home/ec2-user/anaconda3/envs/amazonei_pytorch_latest_p36/lib/python3.6/site-packages (from wandb->simpletransformers) (5.3.1)\n",
      "Collecting sentry-sdk>=0.4.0\n",
      "  Using cached sentry_sdk-0.20.3-py2.py3-none-any.whl (131 kB)\n",
      "Collecting subprocess32>=3.5.3\n",
      "  Using cached subprocess32-3.5.4-py3-none-any.whl\n",
      "Requirement already satisfied: pathtools in /home/ec2-user/anaconda3/envs/amazonei_pytorch_latest_p36/lib/python3.6/site-packages (from wandb->simpletransformers) (0.1.2)\n",
      "Installing collected packages: smmap, gitdb, validators, tzlocal, subprocess32, shortuuid, sentry-sdk, pydeck, promise, gitpython, docker-pycreds, dataclasses, configparser, cachetools, blinker, base58, astor, altair, wandb, tensorboardx, streamlit, seqeval, sentencepiece, simpletransformers\n",
      "Successfully installed altair-4.1.0 astor-0.8.1 base58-2.1.0 blinker-1.4 cachetools-4.2.1 configparser-5.0.2 dataclasses-0.8 docker-pycreds-0.4.0 gitdb-4.0.5 gitpython-3.1.14 promise-2.3 pydeck-0.6.1 sentencepiece-0.1.95 sentry-sdk-0.20.3 seqeval-1.2.2 shortuuid-1.0.1 simpletransformers-0.60.9 smmap-3.0.5 streamlit-0.77.0 subprocess32-3.5.4 tensorboardx-2.1 tzlocal-2.1 validators-0.18.2 wandb-0.10.20\n",
      "Collecting tensorflow\n",
      "  Using cached tensorflow-2.4.1-cp36-cp36m-manylinux2010_x86_64.whl (394.3 MB)\n",
      "Collecting astunparse~=1.6.3\n",
      "  Using cached astunparse-1.6.3-py2.py3-none-any.whl (12 kB)\n",
      "Collecting tensorflow-estimator<2.5.0,>=2.4.0\n",
      "  Using cached tensorflow_estimator-2.4.0-py2.py3-none-any.whl (462 kB)\n",
      "Collecting absl-py~=0.10\n",
      "  Using cached absl_py-0.11.0-py3-none-any.whl (127 kB)\n",
      "Collecting opt-einsum~=3.3.0\n",
      "  Using cached opt_einsum-3.3.0-py3-none-any.whl (65 kB)\n",
      "Collecting wrapt~=1.12.1\n",
      "  Using cached wrapt-1.12.1-cp36-cp36m-linux_x86_64.whl\n",
      "Requirement already satisfied: numpy~=1.19.2 in /home/ec2-user/anaconda3/envs/amazonei_pytorch_latest_p36/lib/python3.6/site-packages (from tensorflow) (1.19.5)\n",
      "Collecting termcolor~=1.1.0\n",
      "  Using cached termcolor-1.1.0-py3-none-any.whl\n",
      "Requirement already satisfied: wheel~=0.35 in /home/ec2-user/anaconda3/envs/amazonei_pytorch_latest_p36/lib/python3.6/site-packages (from tensorflow) (0.35.1)\n",
      "Collecting gast==0.3.3\n",
      "  Using cached gast-0.3.3-py2.py3-none-any.whl (9.7 kB)\n",
      "Requirement already satisfied: typing-extensions~=3.7.4 in /home/ec2-user/anaconda3/envs/amazonei_pytorch_latest_p36/lib/python3.6/site-packages (from tensorflow) (3.7.4.2)\n",
      "Collecting tensorboard~=2.4\n",
      "  Using cached tensorboard-2.4.1-py3-none-any.whl (10.6 MB)\n",
      "Requirement already satisfied: six~=1.15.0 in /home/ec2-user/anaconda3/envs/amazonei_pytorch_latest_p36/lib/python3.6/site-packages (from tensorflow) (1.15.0)\n",
      "Requirement already satisfied: h5py~=2.10.0 in /home/ec2-user/anaconda3/envs/amazonei_pytorch_latest_p36/lib/python3.6/site-packages (from tensorflow) (2.10.0)\n",
      "Collecting grpcio~=1.32.0\n",
      "  Using cached grpcio-1.32.0-cp36-cp36m-manylinux2014_x86_64.whl (3.8 MB)\n",
      "Collecting flatbuffers~=1.12.0\n",
      "  Using cached flatbuffers-1.12-py2.py3-none-any.whl (15 kB)\n",
      "Requirement already satisfied: protobuf>=3.9.2 in /home/ec2-user/anaconda3/envs/amazonei_pytorch_latest_p36/lib/python3.6/site-packages (from tensorflow) (3.14.0)\n",
      "Requirement already satisfied: google-pasta~=0.2 in /home/ec2-user/anaconda3/envs/amazonei_pytorch_latest_p36/lib/python3.6/site-packages (from tensorflow) (0.2.0)\n",
      "Collecting keras-preprocessing~=1.1.2\n",
      "  Using cached Keras_Preprocessing-1.1.2-py2.py3-none-any.whl (42 kB)\n",
      "Requirement already satisfied: setuptools>=41.0.0 in /home/ec2-user/anaconda3/envs/amazonei_pytorch_latest_p36/lib/python3.6/site-packages (from tensorboard~=2.4->tensorflow) (49.6.0.post20200814)\n",
      "Collecting markdown>=2.6.8\n",
      "  Using cached Markdown-3.3.4-py3-none-any.whl (97 kB)\n",
      "Requirement already satisfied: werkzeug>=0.11.15 in /home/ec2-user/anaconda3/envs/amazonei_pytorch_latest_p36/lib/python3.6/site-packages (from tensorboard~=2.4->tensorflow) (1.0.1)\n",
      "Collecting google-auth<2,>=1.6.3\n",
      "  Using cached google_auth-1.27.0-py2.py3-none-any.whl (135 kB)\n",
      "Collecting tensorboard-plugin-wit>=1.6.0\n",
      "  Using cached tensorboard_plugin_wit-1.8.0-py3-none-any.whl (781 kB)\n",
      "Requirement already satisfied: requests<3,>=2.21.0 in /home/ec2-user/anaconda3/envs/amazonei_pytorch_latest_p36/lib/python3.6/site-packages (from tensorboard~=2.4->tensorflow) (2.24.0)\n",
      "Collecting google-auth-oauthlib<0.5,>=0.4.1\n",
      "  Using cached google_auth_oauthlib-0.4.2-py2.py3-none-any.whl (18 kB)\n",
      "Collecting pyasn1-modules>=0.2.1\n",
      "  Using cached pyasn1_modules-0.2.8-py2.py3-none-any.whl (155 kB)\n",
      "Requirement already satisfied: cachetools<5.0,>=2.0.0 in /home/ec2-user/anaconda3/envs/amazonei_pytorch_latest_p36/lib/python3.6/site-packages (from google-auth<2,>=1.6.3->tensorboard~=2.4->tensorflow) (4.2.1)\n",
      "Requirement already satisfied: rsa<5,>=3.1.4 in /home/ec2-user/anaconda3/envs/amazonei_pytorch_latest_p36/lib/python3.6/site-packages (from google-auth<2,>=1.6.3->tensorboard~=2.4->tensorflow) (4.7.2)\n",
      "Collecting requests-oauthlib>=0.7.0\n",
      "  Using cached requests_oauthlib-1.3.0-py2.py3-none-any.whl (23 kB)\n",
      "Requirement already satisfied: importlib-metadata in /home/ec2-user/anaconda3/envs/amazonei_pytorch_latest_p36/lib/python3.6/site-packages (from markdown>=2.6.8->tensorboard~=2.4->tensorflow) (1.7.0)\n",
      "Requirement already satisfied: pyasn1<0.5.0,>=0.4.6 in /home/ec2-user/anaconda3/envs/amazonei_pytorch_latest_p36/lib/python3.6/site-packages (from pyasn1-modules>=0.2.1->google-auth<2,>=1.6.3->tensorboard~=2.4->tensorflow) (0.4.8)\n",
      "Requirement already satisfied: chardet<4,>=3.0.2 in /home/ec2-user/anaconda3/envs/amazonei_pytorch_latest_p36/lib/python3.6/site-packages (from requests<3,>=2.21.0->tensorboard~=2.4->tensorflow) (3.0.4)\n",
      "Requirement already satisfied: idna<3,>=2.5 in /home/ec2-user/anaconda3/envs/amazonei_pytorch_latest_p36/lib/python3.6/site-packages (from requests<3,>=2.21.0->tensorboard~=2.4->tensorflow) (2.10)\n",
      "Requirement already satisfied: certifi>=2017.4.17 in /home/ec2-user/anaconda3/envs/amazonei_pytorch_latest_p36/lib/python3.6/site-packages (from requests<3,>=2.21.0->tensorboard~=2.4->tensorflow) (2020.6.20)\n",
      "Requirement already satisfied: urllib3!=1.25.0,!=1.25.1,<1.26,>=1.21.1 in /home/ec2-user/anaconda3/envs/amazonei_pytorch_latest_p36/lib/python3.6/site-packages (from requests<3,>=2.21.0->tensorboard~=2.4->tensorflow) (1.25.10)\n",
      "Collecting oauthlib>=3.0.0\n",
      "  Using cached oauthlib-3.1.0-py2.py3-none-any.whl (147 kB)\n",
      "Requirement already satisfied: zipp>=0.5 in /home/ec2-user/anaconda3/envs/amazonei_pytorch_latest_p36/lib/python3.6/site-packages (from importlib-metadata->markdown>=2.6.8->tensorboard~=2.4->tensorflow) (3.1.0)\n",
      "Installing collected packages: pyasn1-modules, oauthlib, requests-oauthlib, google-auth, tensorboard-plugin-wit, markdown, grpcio, google-auth-oauthlib, absl-py, wrapt, termcolor, tensorflow-estimator, tensorboard, opt-einsum, keras-preprocessing, gast, flatbuffers, astunparse, tensorflow\n",
      "  Attempting uninstall: wrapt\n",
      "    Found existing installation: wrapt 1.11.2\n",
      "    Uninstalling wrapt-1.11.2:\n",
      "      Successfully uninstalled wrapt-1.11.2\n",
      "Successfully installed absl-py-0.11.0 astunparse-1.6.3 flatbuffers-1.12 gast-0.3.3 google-auth-1.27.0 google-auth-oauthlib-0.4.2 grpcio-1.32.0 keras-preprocessing-1.1.2 markdown-3.3.4 oauthlib-3.1.0 opt-einsum-3.3.0 pyasn1-modules-0.2.8 requests-oauthlib-1.3.0 tensorboard-2.4.1 tensorboard-plugin-wit-1.8.0 tensorflow-2.4.1 tensorflow-estimator-2.4.0 termcolor-1.1.0 wrapt-1.12.1\n",
      "Collecting tensorflow_datasets\n",
      "  Using cached tensorflow_datasets-4.2.0-py3-none-any.whl (3.7 MB)\n",
      "Requirement already satisfied: six in /home/ec2-user/anaconda3/envs/amazonei_pytorch_latest_p36/lib/python3.6/site-packages (from tensorflow_datasets) (1.15.0)\n",
      "Requirement already satisfied: termcolor in /home/ec2-user/anaconda3/envs/amazonei_pytorch_latest_p36/lib/python3.6/site-packages (from tensorflow_datasets) (1.1.0)\n",
      "Requirement already satisfied: future in /home/ec2-user/anaconda3/envs/amazonei_pytorch_latest_p36/lib/python3.6/site-packages (from tensorflow_datasets) (0.18.2)\n",
      "Requirement already satisfied: absl-py in /home/ec2-user/anaconda3/envs/amazonei_pytorch_latest_p36/lib/python3.6/site-packages (from tensorflow_datasets) (0.11.0)\n",
      "Requirement already satisfied: requests>=2.19.0 in /home/ec2-user/anaconda3/envs/amazonei_pytorch_latest_p36/lib/python3.6/site-packages (from tensorflow_datasets) (2.24.0)\n",
      "Collecting tensorflow-metadata\n",
      "  Using cached tensorflow_metadata-0.28.0-py3-none-any.whl (47 kB)\n",
      "Requirement already satisfied: tqdm in /home/ec2-user/anaconda3/envs/amazonei_pytorch_latest_p36/lib/python3.6/site-packages (from tensorflow_datasets) (4.48.2)\n",
      "Requirement already satisfied: attrs>=18.1.0 in /home/ec2-user/anaconda3/envs/amazonei_pytorch_latest_p36/lib/python3.6/site-packages (from tensorflow_datasets) (20.2.0)\n",
      "Requirement already satisfied: numpy in /home/ec2-user/anaconda3/envs/amazonei_pytorch_latest_p36/lib/python3.6/site-packages (from tensorflow_datasets) (1.19.5)\n",
      "Requirement already satisfied: promise in /home/ec2-user/anaconda3/envs/amazonei_pytorch_latest_p36/lib/python3.6/site-packages (from tensorflow_datasets) (2.3)\n",
      "Requirement already satisfied: dataclasses in /home/ec2-user/anaconda3/envs/amazonei_pytorch_latest_p36/lib/python3.6/site-packages (from tensorflow_datasets) (0.8)\n",
      "Requirement already satisfied: typing-extensions in /home/ec2-user/anaconda3/envs/amazonei_pytorch_latest_p36/lib/python3.6/site-packages (from tensorflow_datasets) (3.7.4.2)\n",
      "Collecting importlib-resources\n",
      "  Using cached importlib_resources-5.1.1-py3-none-any.whl (25 kB)\n",
      "Requirement already satisfied: dill in /home/ec2-user/anaconda3/envs/amazonei_pytorch_latest_p36/lib/python3.6/site-packages (from tensorflow_datasets) (0.3.3)\n",
      "Requirement already satisfied: protobuf>=3.12.2 in /home/ec2-user/anaconda3/envs/amazonei_pytorch_latest_p36/lib/python3.6/site-packages (from tensorflow_datasets) (3.14.0)\n",
      "Requirement already satisfied: certifi>=2017.4.17 in /home/ec2-user/anaconda3/envs/amazonei_pytorch_latest_p36/lib/python3.6/site-packages (from requests>=2.19.0->tensorflow_datasets) (2020.6.20)\n",
      "Requirement already satisfied: idna<3,>=2.5 in /home/ec2-user/anaconda3/envs/amazonei_pytorch_latest_p36/lib/python3.6/site-packages (from requests>=2.19.0->tensorflow_datasets) (2.10)\n",
      "Requirement already satisfied: urllib3!=1.25.0,!=1.25.1,<1.26,>=1.21.1 in /home/ec2-user/anaconda3/envs/amazonei_pytorch_latest_p36/lib/python3.6/site-packages (from requests>=2.19.0->tensorflow_datasets) (1.25.10)\n",
      "Requirement already satisfied: chardet<4,>=3.0.2 in /home/ec2-user/anaconda3/envs/amazonei_pytorch_latest_p36/lib/python3.6/site-packages (from requests>=2.19.0->tensorflow_datasets) (3.0.4)\n",
      "Requirement already satisfied: zipp>=0.4 in /home/ec2-user/anaconda3/envs/amazonei_pytorch_latest_p36/lib/python3.6/site-packages (from importlib-resources->tensorflow_datasets) (3.1.0)\n",
      "Collecting googleapis-common-protos<2,>=1.52.0\n",
      "  Using cached googleapis_common_protos-1.53.0-py2.py3-none-any.whl (198 kB)\n",
      "Collecting absl-py\n",
      "  Using cached absl_py-0.10.0-py3-none-any.whl (127 kB)\n",
      "Installing collected packages: googleapis-common-protos, absl-py, tensorflow-metadata, importlib-resources, tensorflow-datasets\n",
      "  Attempting uninstall: absl-py\n",
      "    Found existing installation: absl-py 0.11.0\n",
      "    Uninstalling absl-py-0.11.0:\n",
      "      Successfully uninstalled absl-py-0.11.0\n",
      "Successfully installed absl-py-0.10.0 googleapis-common-protos-1.53.0 importlib-resources-5.1.1 tensorflow-datasets-4.2.0 tensorflow-metadata-0.28.0\n"
     ]
    }
   ],
   "source": [
    "!pip install simpletransformers\n",
    "!pip install tensorflow\n",
    "!pip install tensorflow_datasets\n",
    "!pip install wordcloud"
   ]
  },
  {
   "cell_type": "code",
   "execution_count": 5,
   "id": "compressed-technology",
   "metadata": {},
   "outputs": [
    {
     "name": "stdout",
     "output_type": "stream",
     "text": [
      "287113\n"
     ]
    }
   ],
   "source": [
    "import tensorflow_datasets as tfds\n",
    "\n",
    "ds = tfds.load('cnn_dailymail', split='train')\n",
    "\n",
    "articles = []\n",
    "for example in ds: \n",
    "    articles.append(example[\"article\"].numpy().decode(\"utf-8\"))\n",
    "    \n",
    "print(len(articles))"
   ]
  },
  {
   "cell_type": "code",
   "execution_count": 6,
   "id": "employed-share",
   "metadata": {},
   "outputs": [],
   "source": [
    "bartlett = [\"One night two young men from Egulac went down to the river to hunt seals and while they were there it became foggy and calm.\", \n",
    "            \"Then they heard war-cries, and they thought: 'Maybe this is a war-party'.\",\n",
    "            \"They escaped to the shore, and hid behind a log.\",\n",
    "            \"Now canoes came up, and they heard the noise of paddles, and saw one canoe coming up to them.\",\n",
    "            \"There were five men in the canoe, and they said:\"\n",
    "            \"What do you think? We wish to take you along. We are going up the river to make war on the people.\",\n",
    "            \"One of the young men said,'I have no arrows.'\",\n",
    "            \"'Arrows are in the canoe,'' they said.\",\n",
    "            \"'I will not go along. I might be killed. My relatives do not know where I have gone. But you,' he said, turning to the other, 'may go with them.'\",\n",
    "            \"So one of the young men went, but the other returned home.\",\n",
    "            \"And the warriors went on up the river to a town on the other side of Kalama.\"\n",
    "            \"The people came down to the water and they began to fight, and many were killed.\"\n",
    "            \"But presently the young man heard one of the warriors say, 'Quick, let us go home: that man has been hit.'\", \n",
    "            \"Now he thought: 'Oh, they are ghosts.' He did not feel sick, but they said he had been shot.\",\n",
    "            \"So the canoes went back to Egulac and the young man went ashore to his house and made a fire.\",\n",
    "            \"And he told everybody and said: 'Behold I accompanied the ghosts, and we went to fight. Many of our fellows were killed, and many of those who attacked us were killed. They said I was hit, and I did not feel sick.'\",\n",
    "            \"He told it all, and then he became quiet. When the sun rose he fell down.\", \n",
    "            \"Something black came out of his mouth. His face became contorted. The people jumped up and cried. He was dead.\"\n",
    "           ]"
   ]
  },
  {
   "cell_type": "markdown",
   "id": "given-setting",
   "metadata": {},
   "source": [
    "#### Provide time and location as context"
   ]
  },
  {
   "cell_type": "code",
   "execution_count": 82,
   "id": "wrapped-majority",
   "metadata": {},
   "outputs": [],
   "source": [
    "import urllib\n",
    "import random\n",
    "\n",
    "data = urllib.request.urlopen(\"https://raw.githubusercontent.com/navchandar/Python-Random-Name-Generator/master/Names/PlaceNames.txt\").read() # read only 20 000 chars\n",
    "places_list = data.decode('utf-8').replace('\\r', '').split(\"\\n\") # then split it into lines"
   ]
  },
  {
   "cell_type": "code",
   "execution_count": 83,
   "id": "double-fundamentals",
   "metadata": {},
   "outputs": [
    {
     "name": "stdout",
     "output_type": "stream",
     "text": [
      "2007-12-07 16:02:35\n"
     ]
    }
   ],
   "source": [
    "from random import randrange\n",
    "from datetime import timedelta\n",
    "from datetime import datetime\n",
    "\n",
    "def random_date(start, end):\n",
    "    \"\"\"\n",
    "    This function will return a random datetime between two datetime \n",
    "    objects.\n",
    "    \"\"\"\n",
    "    delta = end - start\n",
    "    int_delta = (delta.days * 24 * 60 * 60) + delta.seconds\n",
    "    random_second = randrange(int_delta)\n",
    "    return start + timedelta(seconds=random_second)\n",
    "\n",
    "d1 = datetime.strptime('1/1/2000 12:00 PM', '%m/%d/%Y %I:%M %p')\n",
    "d2 = datetime.strptime('1/1/2021 12:00 AM', '%m/%d/%Y %I:%M %p')\n",
    "\n",
    "print(random_date(d1, d2))"
   ]
  },
  {
   "cell_type": "code",
   "execution_count": 99,
   "id": "wireless-correlation",
   "metadata": {},
   "outputs": [],
   "source": [
    "sents_list = []\n",
    "\n",
    "for a in articles:\n",
    "    sents = a.split('. ')\n",
    "    sents_list.extend([s for s in sents if len(s) >100])"
   ]
  },
  {
   "cell_type": "code",
   "execution_count": 106,
   "id": "national-russell",
   "metadata": {},
   "outputs": [],
   "source": [
    "filtered = [s for s in sents_list if 'kill' in s][0:10000]"
   ]
  },
  {
   "cell_type": "code",
   "execution_count": 116,
   "id": "coordinated-cooper",
   "metadata": {},
   "outputs": [
    {
     "data": {
      "text/plain": [
       "[\"Now he thought: 'Oh, they are ghosts.' He did not feel sick, but they said he had been shot.\",\n",
       " 'So the canoes went back to Egulac and the young man went ashore to his house and made a fire.',\n",
       " \"And he told everybody and said: 'Behold I accompanied the ghosts, and we went to fight. Many of our fellows were killed, and many of those who attacked us were killed. They said I was hit, and I did not feel sick.'\",\n",
       " 'He told it all, and then he became quiet. When the sun rose he fell down.',\n",
       " 'Something black came out of his mouth. His face became contorted. The people jumped up and cried. He was dead.']"
      ]
     },
     "execution_count": 116,
     "metadata": {},
     "output_type": "execute_result"
    }
   ],
   "source": [
    "sents_list = filtered[0:100] + bartlett\n",
    "sents_list[-5:]"
   ]
  },
  {
   "cell_type": "code",
   "execution_count": 117,
   "id": "judicial-skiing",
   "metadata": {},
   "outputs": [],
   "source": [
    "with open('data/train.txt', 'w') as fh:\n",
    "    fh.write('\\n'.join(sents_list))\n",
    "    \n",
    "with open('data/test.txt', 'w') as fh:\n",
    "    fh.write('\\n'.join(sents_list))"
   ]
  },
  {
   "cell_type": "markdown",
   "id": "signal-chaos",
   "metadata": {},
   "source": [
    "#### Train model"
   ]
  },
  {
   "cell_type": "code",
   "execution_count": 136,
   "id": "intermediate-siemens",
   "metadata": {
    "collapsed": true,
    "jupyter": {
     "outputs_hidden": true
    }
   },
   "outputs": [
    {
     "name": "stderr",
     "output_type": "stream",
     "text": [
      "INFO:simpletransformers.language_modeling.language_modeling_utils: Creating features from dataset file at cache_dir/\n"
     ]
    },
    {
     "data": {
      "application/vnd.jupyter.widget-view+json": {
       "model_id": "ba06c850232442a7893870c8235cf125",
       "version_major": 2,
       "version_minor": 0
      },
      "text/plain": [
       "  0%|          | 0/115 [00:00<?, ?it/s]"
      ]
     },
     "metadata": {},
     "output_type": "display_data"
    },
    {
     "data": {
      "application/vnd.jupyter.widget-view+json": {
       "model_id": "ef445cfd262846818952b3093e4f503a",
       "version_major": 2,
       "version_minor": 0
      },
      "text/plain": [
       "  0%|          | 0/36 [00:00<?, ?it/s]"
      ]
     },
     "metadata": {},
     "output_type": "display_data"
    },
    {
     "name": "stderr",
     "output_type": "stream",
     "text": [
      "INFO:simpletransformers.language_modeling.language_modeling_utils: Saving features into cached file cache_dir/gpt2_cached_lm_126_train.txt\n",
      "INFO:simpletransformers.language_modeling.language_modeling_model: Training started\n"
     ]
    },
    {
     "data": {
      "application/vnd.jupyter.widget-view+json": {
       "model_id": "e1a3a1f9bd394264af4cfd96c16509e1",
       "version_major": 2,
       "version_minor": 0
      },
      "text/plain": [
       "Epoch:   0%|          | 0/400 [00:00<?, ?it/s]"
      ]
     },
     "metadata": {},
     "output_type": "display_data"
    },
    {
     "data": {
      "application/vnd.jupyter.widget-view+json": {
       "model_id": "c87cff20044143dd8e35dcd303ac23f0",
       "version_major": 2,
       "version_minor": 0
      },
      "text/plain": [
       "Running Epoch 0 of 400:   0%|          | 0/5 [00:00<?, ?it/s]"
      ]
     },
     "metadata": {},
     "output_type": "display_data"
    },
    {
     "data": {
      "application/vnd.jupyter.widget-view+json": {
       "model_id": "9a3c38f1df354f44b60ae753873f4a48",
       "version_major": 2,
       "version_minor": 0
      },
      "text/plain": [
       "Running Epoch 1 of 400:   0%|          | 0/5 [00:00<?, ?it/s]"
      ]
     },
     "metadata": {},
     "output_type": "display_data"
    },
    {
     "data": {
      "application/vnd.jupyter.widget-view+json": {
       "model_id": "127ea8ed88cf42bc87580128dc3da570",
       "version_major": 2,
       "version_minor": 0
      },
      "text/plain": [
       "Running Epoch 2 of 400:   0%|          | 0/5 [00:00<?, ?it/s]"
      ]
     },
     "metadata": {},
     "output_type": "display_data"
    },
    {
     "data": {
      "application/vnd.jupyter.widget-view+json": {
       "model_id": "aa7c3b66de5746e59686d086fcae060c",
       "version_major": 2,
       "version_minor": 0
      },
      "text/plain": [
       "Running Epoch 3 of 400:   0%|          | 0/5 [00:00<?, ?it/s]"
      ]
     },
     "metadata": {},
     "output_type": "display_data"
    },
    {
     "data": {
      "application/vnd.jupyter.widget-view+json": {
       "model_id": "0b18c4fcaca948ae8642e78d65fb0b28",
       "version_major": 2,
       "version_minor": 0
      },
      "text/plain": [
       "Running Epoch 4 of 400:   0%|          | 0/5 [00:00<?, ?it/s]"
      ]
     },
     "metadata": {},
     "output_type": "display_data"
    },
    {
     "data": {
      "application/vnd.jupyter.widget-view+json": {
       "model_id": "ca2dd3d588644555a011d721fe5c89a3",
       "version_major": 2,
       "version_minor": 0
      },
      "text/plain": [
       "Running Epoch 5 of 400:   0%|          | 0/5 [00:00<?, ?it/s]"
      ]
     },
     "metadata": {},
     "output_type": "display_data"
    },
    {
     "data": {
      "application/vnd.jupyter.widget-view+json": {
       "model_id": "03ca1dcafc52410d9d573ed3d40cf41a",
       "version_major": 2,
       "version_minor": 0
      },
      "text/plain": [
       "Running Epoch 6 of 400:   0%|          | 0/5 [00:00<?, ?it/s]"
      ]
     },
     "metadata": {},
     "output_type": "display_data"
    },
    {
     "data": {
      "application/vnd.jupyter.widget-view+json": {
       "model_id": "38899882e0bb4fe6b6c7023cf76a50e2",
       "version_major": 2,
       "version_minor": 0
      },
      "text/plain": [
       "Running Epoch 7 of 400:   0%|          | 0/5 [00:00<?, ?it/s]"
      ]
     },
     "metadata": {},
     "output_type": "display_data"
    },
    {
     "data": {
      "application/vnd.jupyter.widget-view+json": {
       "model_id": "afb1c6e5377745dea4d1a338d63faa7c",
       "version_major": 2,
       "version_minor": 0
      },
      "text/plain": [
       "Running Epoch 8 of 400:   0%|          | 0/5 [00:00<?, ?it/s]"
      ]
     },
     "metadata": {},
     "output_type": "display_data"
    },
    {
     "data": {
      "application/vnd.jupyter.widget-view+json": {
       "model_id": "f66b2618e3dd4c4392653e9726311de0",
       "version_major": 2,
       "version_minor": 0
      },
      "text/plain": [
       "Running Epoch 9 of 400:   0%|          | 0/5 [00:00<?, ?it/s]"
      ]
     },
     "metadata": {},
     "output_type": "display_data"
    },
    {
     "data": {
      "application/vnd.jupyter.widget-view+json": {
       "model_id": "4b6df72a836547fe8fc0426ccf8af388",
       "version_major": 2,
       "version_minor": 0
      },
      "text/plain": [
       "Running Epoch 10 of 400:   0%|          | 0/5 [00:00<?, ?it/s]"
      ]
     },
     "metadata": {},
     "output_type": "display_data"
    },
    {
     "data": {
      "application/vnd.jupyter.widget-view+json": {
       "model_id": "8767aec88c7d4fc1b30e0c7ae93ed6e2",
       "version_major": 2,
       "version_minor": 0
      },
      "text/plain": [
       "Running Epoch 11 of 400:   0%|          | 0/5 [00:00<?, ?it/s]"
      ]
     },
     "metadata": {},
     "output_type": "display_data"
    },
    {
     "data": {
      "application/vnd.jupyter.widget-view+json": {
       "model_id": "64a01bf638ec4343b06a187a4c983bc4",
       "version_major": 2,
       "version_minor": 0
      },
      "text/plain": [
       "Running Epoch 12 of 400:   0%|          | 0/5 [00:00<?, ?it/s]"
      ]
     },
     "metadata": {},
     "output_type": "display_data"
    },
    {
     "data": {
      "application/vnd.jupyter.widget-view+json": {
       "model_id": "15ce4fb88a714fbeaa30ad9cc3911710",
       "version_major": 2,
       "version_minor": 0
      },
      "text/plain": [
       "Running Epoch 13 of 400:   0%|          | 0/5 [00:00<?, ?it/s]"
      ]
     },
     "metadata": {},
     "output_type": "display_data"
    },
    {
     "data": {
      "application/vnd.jupyter.widget-view+json": {
       "model_id": "30c8a76496db4276875995671da880fc",
       "version_major": 2,
       "version_minor": 0
      },
      "text/plain": [
       "Running Epoch 14 of 400:   0%|          | 0/5 [00:00<?, ?it/s]"
      ]
     },
     "metadata": {},
     "output_type": "display_data"
    },
    {
     "data": {
      "application/vnd.jupyter.widget-view+json": {
       "model_id": "6c8eb1d20dfc433ebab172976a1f7dd8",
       "version_major": 2,
       "version_minor": 0
      },
      "text/plain": [
       "Running Epoch 15 of 400:   0%|          | 0/5 [00:00<?, ?it/s]"
      ]
     },
     "metadata": {},
     "output_type": "display_data"
    },
    {
     "data": {
      "application/vnd.jupyter.widget-view+json": {
       "model_id": "68021ec52e064954bf916a975b875bec",
       "version_major": 2,
       "version_minor": 0
      },
      "text/plain": [
       "Running Epoch 16 of 400:   0%|          | 0/5 [00:00<?, ?it/s]"
      ]
     },
     "metadata": {},
     "output_type": "display_data"
    },
    {
     "data": {
      "application/vnd.jupyter.widget-view+json": {
       "model_id": "0eca6f9d208b4c8db8919289e6a4545e",
       "version_major": 2,
       "version_minor": 0
      },
      "text/plain": [
       "Running Epoch 17 of 400:   0%|          | 0/5 [00:00<?, ?it/s]"
      ]
     },
     "metadata": {},
     "output_type": "display_data"
    },
    {
     "data": {
      "application/vnd.jupyter.widget-view+json": {
       "model_id": "00de38d57c44474da7bd2fea17ccc585",
       "version_major": 2,
       "version_minor": 0
      },
      "text/plain": [
       "Running Epoch 18 of 400:   0%|          | 0/5 [00:00<?, ?it/s]"
      ]
     },
     "metadata": {},
     "output_type": "display_data"
    },
    {
     "data": {
      "application/vnd.jupyter.widget-view+json": {
       "model_id": "3128145050d640ccbdd804e311a314bd",
       "version_major": 2,
       "version_minor": 0
      },
      "text/plain": [
       "Running Epoch 19 of 400:   0%|          | 0/5 [00:00<?, ?it/s]"
      ]
     },
     "metadata": {},
     "output_type": "display_data"
    },
    {
     "data": {
      "application/vnd.jupyter.widget-view+json": {
       "model_id": "91f177660cc944228efaf1cd732bedc2",
       "version_major": 2,
       "version_minor": 0
      },
      "text/plain": [
       "Running Epoch 20 of 400:   0%|          | 0/5 [00:00<?, ?it/s]"
      ]
     },
     "metadata": {},
     "output_type": "display_data"
    },
    {
     "data": {
      "application/vnd.jupyter.widget-view+json": {
       "model_id": "4df74c65a4724cfdb3eec60173b9a731",
       "version_major": 2,
       "version_minor": 0
      },
      "text/plain": [
       "Running Epoch 21 of 400:   0%|          | 0/5 [00:00<?, ?it/s]"
      ]
     },
     "metadata": {},
     "output_type": "display_data"
    },
    {
     "data": {
      "application/vnd.jupyter.widget-view+json": {
       "model_id": "228f3e8f9d594ae398c326e745cafec6",
       "version_major": 2,
       "version_minor": 0
      },
      "text/plain": [
       "Running Epoch 22 of 400:   0%|          | 0/5 [00:00<?, ?it/s]"
      ]
     },
     "metadata": {},
     "output_type": "display_data"
    },
    {
     "data": {
      "application/vnd.jupyter.widget-view+json": {
       "model_id": "20ee44853e25450085b817bc380e6985",
       "version_major": 2,
       "version_minor": 0
      },
      "text/plain": [
       "Running Epoch 23 of 400:   0%|          | 0/5 [00:00<?, ?it/s]"
      ]
     },
     "metadata": {},
     "output_type": "display_data"
    },
    {
     "data": {
      "application/vnd.jupyter.widget-view+json": {
       "model_id": "758c33dd06994d40b2eb155b2df102d1",
       "version_major": 2,
       "version_minor": 0
      },
      "text/plain": [
       "Running Epoch 24 of 400:   0%|          | 0/5 [00:00<?, ?it/s]"
      ]
     },
     "metadata": {},
     "output_type": "display_data"
    },
    {
     "data": {
      "application/vnd.jupyter.widget-view+json": {
       "model_id": "f45806fd2c7947c8a10537288847d1c6",
       "version_major": 2,
       "version_minor": 0
      },
      "text/plain": [
       "Running Epoch 25 of 400:   0%|          | 0/5 [00:00<?, ?it/s]"
      ]
     },
     "metadata": {},
     "output_type": "display_data"
    },
    {
     "data": {
      "application/vnd.jupyter.widget-view+json": {
       "model_id": "be0b0e868c444513b7b9f8458270dbcd",
       "version_major": 2,
       "version_minor": 0
      },
      "text/plain": [
       "Running Epoch 26 of 400:   0%|          | 0/5 [00:00<?, ?it/s]"
      ]
     },
     "metadata": {},
     "output_type": "display_data"
    },
    {
     "data": {
      "application/vnd.jupyter.widget-view+json": {
       "model_id": "96c79e15235c4cb489fc9c160bd5659b",
       "version_major": 2,
       "version_minor": 0
      },
      "text/plain": [
       "Running Epoch 27 of 400:   0%|          | 0/5 [00:00<?, ?it/s]"
      ]
     },
     "metadata": {},
     "output_type": "display_data"
    },
    {
     "data": {
      "application/vnd.jupyter.widget-view+json": {
       "model_id": "de9bbf1b5d6b41df8e34dc2fc4dede2e",
       "version_major": 2,
       "version_minor": 0
      },
      "text/plain": [
       "Running Epoch 28 of 400:   0%|          | 0/5 [00:00<?, ?it/s]"
      ]
     },
     "metadata": {},
     "output_type": "display_data"
    },
    {
     "data": {
      "application/vnd.jupyter.widget-view+json": {
       "model_id": "d660a768846a42a6a39659d508140278",
       "version_major": 2,
       "version_minor": 0
      },
      "text/plain": [
       "Running Epoch 29 of 400:   0%|          | 0/5 [00:00<?, ?it/s]"
      ]
     },
     "metadata": {},
     "output_type": "display_data"
    },
    {
     "data": {
      "application/vnd.jupyter.widget-view+json": {
       "model_id": "095157d217774aabb2dc00c55c0ede9d",
       "version_major": 2,
       "version_minor": 0
      },
      "text/plain": [
       "Running Epoch 30 of 400:   0%|          | 0/5 [00:00<?, ?it/s]"
      ]
     },
     "metadata": {},
     "output_type": "display_data"
    },
    {
     "data": {
      "application/vnd.jupyter.widget-view+json": {
       "model_id": "491bdbbe9bc7446a8470be31ab74f329",
       "version_major": 2,
       "version_minor": 0
      },
      "text/plain": [
       "Running Epoch 31 of 400:   0%|          | 0/5 [00:00<?, ?it/s]"
      ]
     },
     "metadata": {},
     "output_type": "display_data"
    },
    {
     "data": {
      "application/vnd.jupyter.widget-view+json": {
       "model_id": "8dce60e939584c2a86e7cdd8ffd7b569",
       "version_major": 2,
       "version_minor": 0
      },
      "text/plain": [
       "Running Epoch 32 of 400:   0%|          | 0/5 [00:00<?, ?it/s]"
      ]
     },
     "metadata": {},
     "output_type": "display_data"
    },
    {
     "data": {
      "application/vnd.jupyter.widget-view+json": {
       "model_id": "2c5e6daf16d44454b0d4d4fd1952eb24",
       "version_major": 2,
       "version_minor": 0
      },
      "text/plain": [
       "Running Epoch 33 of 400:   0%|          | 0/5 [00:00<?, ?it/s]"
      ]
     },
     "metadata": {},
     "output_type": "display_data"
    },
    {
     "data": {
      "application/vnd.jupyter.widget-view+json": {
       "model_id": "0bd4a2ddc7d04b30bc9be8d4ade167ed",
       "version_major": 2,
       "version_minor": 0
      },
      "text/plain": [
       "Running Epoch 34 of 400:   0%|          | 0/5 [00:00<?, ?it/s]"
      ]
     },
     "metadata": {},
     "output_type": "display_data"
    },
    {
     "data": {
      "application/vnd.jupyter.widget-view+json": {
       "model_id": "6d898460e1494499a90405371564693f",
       "version_major": 2,
       "version_minor": 0
      },
      "text/plain": [
       "Running Epoch 35 of 400:   0%|          | 0/5 [00:00<?, ?it/s]"
      ]
     },
     "metadata": {},
     "output_type": "display_data"
    },
    {
     "data": {
      "application/vnd.jupyter.widget-view+json": {
       "model_id": "f41942df4ba0414c96111e3d242fb120",
       "version_major": 2,
       "version_minor": 0
      },
      "text/plain": [
       "Running Epoch 36 of 400:   0%|          | 0/5 [00:00<?, ?it/s]"
      ]
     },
     "metadata": {},
     "output_type": "display_data"
    },
    {
     "data": {
      "application/vnd.jupyter.widget-view+json": {
       "model_id": "02424d41aa82427ab84bd843db077c4f",
       "version_major": 2,
       "version_minor": 0
      },
      "text/plain": [
       "Running Epoch 37 of 400:   0%|          | 0/5 [00:00<?, ?it/s]"
      ]
     },
     "metadata": {},
     "output_type": "display_data"
    },
    {
     "data": {
      "application/vnd.jupyter.widget-view+json": {
       "model_id": "b00e4818c0c643cca750653b3642d4f4",
       "version_major": 2,
       "version_minor": 0
      },
      "text/plain": [
       "Running Epoch 38 of 400:   0%|          | 0/5 [00:00<?, ?it/s]"
      ]
     },
     "metadata": {},
     "output_type": "display_data"
    },
    {
     "data": {
      "application/vnd.jupyter.widget-view+json": {
       "model_id": "5614a38bfd62439babfd92ec84b9e596",
       "version_major": 2,
       "version_minor": 0
      },
      "text/plain": [
       "Running Epoch 39 of 400:   0%|          | 0/5 [00:00<?, ?it/s]"
      ]
     },
     "metadata": {},
     "output_type": "display_data"
    },
    {
     "data": {
      "application/vnd.jupyter.widget-view+json": {
       "model_id": "016c005cafa144e8bd3dc5b8c037379c",
       "version_major": 2,
       "version_minor": 0
      },
      "text/plain": [
       "Running Epoch 40 of 400:   0%|          | 0/5 [00:00<?, ?it/s]"
      ]
     },
     "metadata": {},
     "output_type": "display_data"
    },
    {
     "data": {
      "application/vnd.jupyter.widget-view+json": {
       "model_id": "a9a677bcd9014d83aefd480bee4dd57b",
       "version_major": 2,
       "version_minor": 0
      },
      "text/plain": [
       "Running Epoch 41 of 400:   0%|          | 0/5 [00:00<?, ?it/s]"
      ]
     },
     "metadata": {},
     "output_type": "display_data"
    },
    {
     "data": {
      "application/vnd.jupyter.widget-view+json": {
       "model_id": "c7eee2f96b7f4be995bb65d38d3aa29d",
       "version_major": 2,
       "version_minor": 0
      },
      "text/plain": [
       "Running Epoch 42 of 400:   0%|          | 0/5 [00:00<?, ?it/s]"
      ]
     },
     "metadata": {},
     "output_type": "display_data"
    },
    {
     "data": {
      "application/vnd.jupyter.widget-view+json": {
       "model_id": "b0e82d54d1674e87ac1d950ca5a6f75d",
       "version_major": 2,
       "version_minor": 0
      },
      "text/plain": [
       "Running Epoch 43 of 400:   0%|          | 0/5 [00:00<?, ?it/s]"
      ]
     },
     "metadata": {},
     "output_type": "display_data"
    },
    {
     "data": {
      "application/vnd.jupyter.widget-view+json": {
       "model_id": "e81f6f9788e94873b4e506af30e240ec",
       "version_major": 2,
       "version_minor": 0
      },
      "text/plain": [
       "Running Epoch 44 of 400:   0%|          | 0/5 [00:00<?, ?it/s]"
      ]
     },
     "metadata": {},
     "output_type": "display_data"
    },
    {
     "data": {
      "application/vnd.jupyter.widget-view+json": {
       "model_id": "6f2fd8e8fd6d485d8a266f63c8e44b8a",
       "version_major": 2,
       "version_minor": 0
      },
      "text/plain": [
       "Running Epoch 45 of 400:   0%|          | 0/5 [00:00<?, ?it/s]"
      ]
     },
     "metadata": {},
     "output_type": "display_data"
    },
    {
     "data": {
      "application/vnd.jupyter.widget-view+json": {
       "model_id": "705abe5301a44c87ba1e72f3cefdafd9",
       "version_major": 2,
       "version_minor": 0
      },
      "text/plain": [
       "Running Epoch 46 of 400:   0%|          | 0/5 [00:00<?, ?it/s]"
      ]
     },
     "metadata": {},
     "output_type": "display_data"
    },
    {
     "data": {
      "application/vnd.jupyter.widget-view+json": {
       "model_id": "c5749b7addde4568a431df0bab0f7483",
       "version_major": 2,
       "version_minor": 0
      },
      "text/plain": [
       "Running Epoch 47 of 400:   0%|          | 0/5 [00:00<?, ?it/s]"
      ]
     },
     "metadata": {},
     "output_type": "display_data"
    },
    {
     "data": {
      "application/vnd.jupyter.widget-view+json": {
       "model_id": "e73349a0a8f441faa56f13f51ef0ffcd",
       "version_major": 2,
       "version_minor": 0
      },
      "text/plain": [
       "Running Epoch 48 of 400:   0%|          | 0/5 [00:00<?, ?it/s]"
      ]
     },
     "metadata": {},
     "output_type": "display_data"
    },
    {
     "data": {
      "application/vnd.jupyter.widget-view+json": {
       "model_id": "b262067949844853b0488ab2186db5e8",
       "version_major": 2,
       "version_minor": 0
      },
      "text/plain": [
       "Running Epoch 49 of 400:   0%|          | 0/5 [00:00<?, ?it/s]"
      ]
     },
     "metadata": {},
     "output_type": "display_data"
    },
    {
     "data": {
      "application/vnd.jupyter.widget-view+json": {
       "model_id": "8b9c184752bd429c97bedc70a58221af",
       "version_major": 2,
       "version_minor": 0
      },
      "text/plain": [
       "Running Epoch 50 of 400:   0%|          | 0/5 [00:00<?, ?it/s]"
      ]
     },
     "metadata": {},
     "output_type": "display_data"
    },
    {
     "data": {
      "application/vnd.jupyter.widget-view+json": {
       "model_id": "ccbd564fc1f040b7a2d0ae00c1ab5e53",
       "version_major": 2,
       "version_minor": 0
      },
      "text/plain": [
       "Running Epoch 51 of 400:   0%|          | 0/5 [00:00<?, ?it/s]"
      ]
     },
     "metadata": {},
     "output_type": "display_data"
    },
    {
     "data": {
      "application/vnd.jupyter.widget-view+json": {
       "model_id": "f6a763ff82c14d4a97ae0b9279717793",
       "version_major": 2,
       "version_minor": 0
      },
      "text/plain": [
       "Running Epoch 52 of 400:   0%|          | 0/5 [00:00<?, ?it/s]"
      ]
     },
     "metadata": {},
     "output_type": "display_data"
    },
    {
     "data": {
      "application/vnd.jupyter.widget-view+json": {
       "model_id": "bab80c18395047f5bb85de4676999835",
       "version_major": 2,
       "version_minor": 0
      },
      "text/plain": [
       "Running Epoch 53 of 400:   0%|          | 0/5 [00:00<?, ?it/s]"
      ]
     },
     "metadata": {},
     "output_type": "display_data"
    },
    {
     "data": {
      "application/vnd.jupyter.widget-view+json": {
       "model_id": "5403d43085904ac2affc5456c87c1218",
       "version_major": 2,
       "version_minor": 0
      },
      "text/plain": [
       "Running Epoch 54 of 400:   0%|          | 0/5 [00:00<?, ?it/s]"
      ]
     },
     "metadata": {},
     "output_type": "display_data"
    },
    {
     "data": {
      "application/vnd.jupyter.widget-view+json": {
       "model_id": "89d19aec8f6043cfb50cd1577f34ed6e",
       "version_major": 2,
       "version_minor": 0
      },
      "text/plain": [
       "Running Epoch 55 of 400:   0%|          | 0/5 [00:00<?, ?it/s]"
      ]
     },
     "metadata": {},
     "output_type": "display_data"
    },
    {
     "data": {
      "application/vnd.jupyter.widget-view+json": {
       "model_id": "eb89406f6d944ebf92ba38a91361358b",
       "version_major": 2,
       "version_minor": 0
      },
      "text/plain": [
       "Running Epoch 56 of 400:   0%|          | 0/5 [00:00<?, ?it/s]"
      ]
     },
     "metadata": {},
     "output_type": "display_data"
    },
    {
     "data": {
      "application/vnd.jupyter.widget-view+json": {
       "model_id": "a9c85be62fa74fed9242f57d2ad6ab11",
       "version_major": 2,
       "version_minor": 0
      },
      "text/plain": [
       "Running Epoch 57 of 400:   0%|          | 0/5 [00:00<?, ?it/s]"
      ]
     },
     "metadata": {},
     "output_type": "display_data"
    },
    {
     "data": {
      "application/vnd.jupyter.widget-view+json": {
       "model_id": "7c493ac4dd934f369ef9681fc02e19b6",
       "version_major": 2,
       "version_minor": 0
      },
      "text/plain": [
       "Running Epoch 58 of 400:   0%|          | 0/5 [00:00<?, ?it/s]"
      ]
     },
     "metadata": {},
     "output_type": "display_data"
    },
    {
     "data": {
      "application/vnd.jupyter.widget-view+json": {
       "model_id": "11a38f7c26f04e3b84309049726f03d9",
       "version_major": 2,
       "version_minor": 0
      },
      "text/plain": [
       "Running Epoch 59 of 400:   0%|          | 0/5 [00:00<?, ?it/s]"
      ]
     },
     "metadata": {},
     "output_type": "display_data"
    },
    {
     "data": {
      "application/vnd.jupyter.widget-view+json": {
       "model_id": "159b26bf68f748be8a1574597c9ae8b9",
       "version_major": 2,
       "version_minor": 0
      },
      "text/plain": [
       "Running Epoch 60 of 400:   0%|          | 0/5 [00:00<?, ?it/s]"
      ]
     },
     "metadata": {},
     "output_type": "display_data"
    },
    {
     "data": {
      "application/vnd.jupyter.widget-view+json": {
       "model_id": "e07d746905fd4373bea2021be57aaf1a",
       "version_major": 2,
       "version_minor": 0
      },
      "text/plain": [
       "Running Epoch 61 of 400:   0%|          | 0/5 [00:00<?, ?it/s]"
      ]
     },
     "metadata": {},
     "output_type": "display_data"
    },
    {
     "data": {
      "application/vnd.jupyter.widget-view+json": {
       "model_id": "6deb482dbe8f404eb4db0cdacf3b2fbc",
       "version_major": 2,
       "version_minor": 0
      },
      "text/plain": [
       "Running Epoch 62 of 400:   0%|          | 0/5 [00:00<?, ?it/s]"
      ]
     },
     "metadata": {},
     "output_type": "display_data"
    },
    {
     "data": {
      "application/vnd.jupyter.widget-view+json": {
       "model_id": "3711e171a14a45c891f6dc79d402934a",
       "version_major": 2,
       "version_minor": 0
      },
      "text/plain": [
       "Running Epoch 63 of 400:   0%|          | 0/5 [00:00<?, ?it/s]"
      ]
     },
     "metadata": {},
     "output_type": "display_data"
    },
    {
     "data": {
      "application/vnd.jupyter.widget-view+json": {
       "model_id": "10c40c90b0a443f0a337a2862f05d318",
       "version_major": 2,
       "version_minor": 0
      },
      "text/plain": [
       "Running Epoch 64 of 400:   0%|          | 0/5 [00:00<?, ?it/s]"
      ]
     },
     "metadata": {},
     "output_type": "display_data"
    },
    {
     "data": {
      "application/vnd.jupyter.widget-view+json": {
       "model_id": "d0295aa971e64bc1b9f0daab383ceb73",
       "version_major": 2,
       "version_minor": 0
      },
      "text/plain": [
       "Running Epoch 65 of 400:   0%|          | 0/5 [00:00<?, ?it/s]"
      ]
     },
     "metadata": {},
     "output_type": "display_data"
    },
    {
     "data": {
      "application/vnd.jupyter.widget-view+json": {
       "model_id": "9bc8453c61954d2a9eae7c02e4898bce",
       "version_major": 2,
       "version_minor": 0
      },
      "text/plain": [
       "Running Epoch 66 of 400:   0%|          | 0/5 [00:00<?, ?it/s]"
      ]
     },
     "metadata": {},
     "output_type": "display_data"
    },
    {
     "data": {
      "application/vnd.jupyter.widget-view+json": {
       "model_id": "e518a323d4874a6a890f39df423010ae",
       "version_major": 2,
       "version_minor": 0
      },
      "text/plain": [
       "Running Epoch 67 of 400:   0%|          | 0/5 [00:00<?, ?it/s]"
      ]
     },
     "metadata": {},
     "output_type": "display_data"
    },
    {
     "data": {
      "application/vnd.jupyter.widget-view+json": {
       "model_id": "73bb5089aac54496808a65dd6eae561b",
       "version_major": 2,
       "version_minor": 0
      },
      "text/plain": [
       "Running Epoch 68 of 400:   0%|          | 0/5 [00:00<?, ?it/s]"
      ]
     },
     "metadata": {},
     "output_type": "display_data"
    },
    {
     "data": {
      "application/vnd.jupyter.widget-view+json": {
       "model_id": "96dfa2f1a6004176ad7bda751ef420d8",
       "version_major": 2,
       "version_minor": 0
      },
      "text/plain": [
       "Running Epoch 69 of 400:   0%|          | 0/5 [00:00<?, ?it/s]"
      ]
     },
     "metadata": {},
     "output_type": "display_data"
    },
    {
     "data": {
      "application/vnd.jupyter.widget-view+json": {
       "model_id": "e16192977a8546dfafcf95f8ad9d0e85",
       "version_major": 2,
       "version_minor": 0
      },
      "text/plain": [
       "Running Epoch 70 of 400:   0%|          | 0/5 [00:00<?, ?it/s]"
      ]
     },
     "metadata": {},
     "output_type": "display_data"
    },
    {
     "data": {
      "application/vnd.jupyter.widget-view+json": {
       "model_id": "27403f35d25c47beb612b152e866af6e",
       "version_major": 2,
       "version_minor": 0
      },
      "text/plain": [
       "Running Epoch 71 of 400:   0%|          | 0/5 [00:00<?, ?it/s]"
      ]
     },
     "metadata": {},
     "output_type": "display_data"
    },
    {
     "data": {
      "application/vnd.jupyter.widget-view+json": {
       "model_id": "4e77e6f990aa4aaba94489b37eaad4e2",
       "version_major": 2,
       "version_minor": 0
      },
      "text/plain": [
       "Running Epoch 72 of 400:   0%|          | 0/5 [00:00<?, ?it/s]"
      ]
     },
     "metadata": {},
     "output_type": "display_data"
    },
    {
     "data": {
      "application/vnd.jupyter.widget-view+json": {
       "model_id": "5f04c66f64a64d7d8372b48ecd6a0c38",
       "version_major": 2,
       "version_minor": 0
      },
      "text/plain": [
       "Running Epoch 73 of 400:   0%|          | 0/5 [00:00<?, ?it/s]"
      ]
     },
     "metadata": {},
     "output_type": "display_data"
    },
    {
     "data": {
      "application/vnd.jupyter.widget-view+json": {
       "model_id": "406942f7bbad4adbb1a34ce472b52c86",
       "version_major": 2,
       "version_minor": 0
      },
      "text/plain": [
       "Running Epoch 74 of 400:   0%|          | 0/5 [00:00<?, ?it/s]"
      ]
     },
     "metadata": {},
     "output_type": "display_data"
    },
    {
     "data": {
      "application/vnd.jupyter.widget-view+json": {
       "model_id": "c0d9014d53ee4e98a1386959857a0ab5",
       "version_major": 2,
       "version_minor": 0
      },
      "text/plain": [
       "Running Epoch 75 of 400:   0%|          | 0/5 [00:00<?, ?it/s]"
      ]
     },
     "metadata": {},
     "output_type": "display_data"
    },
    {
     "data": {
      "application/vnd.jupyter.widget-view+json": {
       "model_id": "46289e397fe84ed1995633a6956c791f",
       "version_major": 2,
       "version_minor": 0
      },
      "text/plain": [
       "Running Epoch 76 of 400:   0%|          | 0/5 [00:00<?, ?it/s]"
      ]
     },
     "metadata": {},
     "output_type": "display_data"
    },
    {
     "data": {
      "application/vnd.jupyter.widget-view+json": {
       "model_id": "901b18f978694e1bb9811da64aee4607",
       "version_major": 2,
       "version_minor": 0
      },
      "text/plain": [
       "Running Epoch 77 of 400:   0%|          | 0/5 [00:00<?, ?it/s]"
      ]
     },
     "metadata": {},
     "output_type": "display_data"
    },
    {
     "data": {
      "application/vnd.jupyter.widget-view+json": {
       "model_id": "cbc2412378374a60ad28f436aba18ba8",
       "version_major": 2,
       "version_minor": 0
      },
      "text/plain": [
       "Running Epoch 78 of 400:   0%|          | 0/5 [00:00<?, ?it/s]"
      ]
     },
     "metadata": {},
     "output_type": "display_data"
    },
    {
     "data": {
      "application/vnd.jupyter.widget-view+json": {
       "model_id": "b74178fcae5d417e949b41338e27134d",
       "version_major": 2,
       "version_minor": 0
      },
      "text/plain": [
       "Running Epoch 79 of 400:   0%|          | 0/5 [00:00<?, ?it/s]"
      ]
     },
     "metadata": {},
     "output_type": "display_data"
    },
    {
     "data": {
      "application/vnd.jupyter.widget-view+json": {
       "model_id": "1e04fee9c8444b6b9ecbfe6e09e24385",
       "version_major": 2,
       "version_minor": 0
      },
      "text/plain": [
       "Running Epoch 80 of 400:   0%|          | 0/5 [00:00<?, ?it/s]"
      ]
     },
     "metadata": {},
     "output_type": "display_data"
    },
    {
     "data": {
      "application/vnd.jupyter.widget-view+json": {
       "model_id": "df5a3d06aec54c25a0ce67c9c31ef906",
       "version_major": 2,
       "version_minor": 0
      },
      "text/plain": [
       "Running Epoch 81 of 400:   0%|          | 0/5 [00:00<?, ?it/s]"
      ]
     },
     "metadata": {},
     "output_type": "display_data"
    },
    {
     "data": {
      "application/vnd.jupyter.widget-view+json": {
       "model_id": "71f590a0cf9846099364482bcae210df",
       "version_major": 2,
       "version_minor": 0
      },
      "text/plain": [
       "Running Epoch 82 of 400:   0%|          | 0/5 [00:00<?, ?it/s]"
      ]
     },
     "metadata": {},
     "output_type": "display_data"
    },
    {
     "data": {
      "application/vnd.jupyter.widget-view+json": {
       "model_id": "ea6b34e414b040818a1b6fe932e88dc0",
       "version_major": 2,
       "version_minor": 0
      },
      "text/plain": [
       "Running Epoch 83 of 400:   0%|          | 0/5 [00:00<?, ?it/s]"
      ]
     },
     "metadata": {},
     "output_type": "display_data"
    },
    {
     "data": {
      "application/vnd.jupyter.widget-view+json": {
       "model_id": "4db4721725ce41e0974ee29894afd08d",
       "version_major": 2,
       "version_minor": 0
      },
      "text/plain": [
       "Running Epoch 84 of 400:   0%|          | 0/5 [00:00<?, ?it/s]"
      ]
     },
     "metadata": {},
     "output_type": "display_data"
    },
    {
     "data": {
      "application/vnd.jupyter.widget-view+json": {
       "model_id": "046aed73dbf240368d3575926614ca36",
       "version_major": 2,
       "version_minor": 0
      },
      "text/plain": [
       "Running Epoch 85 of 400:   0%|          | 0/5 [00:00<?, ?it/s]"
      ]
     },
     "metadata": {},
     "output_type": "display_data"
    },
    {
     "data": {
      "application/vnd.jupyter.widget-view+json": {
       "model_id": "8b98bf215b2b40ecadf732c4d19a2e0a",
       "version_major": 2,
       "version_minor": 0
      },
      "text/plain": [
       "Running Epoch 86 of 400:   0%|          | 0/5 [00:00<?, ?it/s]"
      ]
     },
     "metadata": {},
     "output_type": "display_data"
    },
    {
     "data": {
      "application/vnd.jupyter.widget-view+json": {
       "model_id": "c29fd760de0e4491ad47fa48111aa60d",
       "version_major": 2,
       "version_minor": 0
      },
      "text/plain": [
       "Running Epoch 87 of 400:   0%|          | 0/5 [00:00<?, ?it/s]"
      ]
     },
     "metadata": {},
     "output_type": "display_data"
    },
    {
     "data": {
      "application/vnd.jupyter.widget-view+json": {
       "model_id": "43d1baacd9cb4fe3b3e3eeba46af0450",
       "version_major": 2,
       "version_minor": 0
      },
      "text/plain": [
       "Running Epoch 88 of 400:   0%|          | 0/5 [00:00<?, ?it/s]"
      ]
     },
     "metadata": {},
     "output_type": "display_data"
    },
    {
     "data": {
      "application/vnd.jupyter.widget-view+json": {
       "model_id": "45604b48aaf24ba2b28d60fe7809cec5",
       "version_major": 2,
       "version_minor": 0
      },
      "text/plain": [
       "Running Epoch 89 of 400:   0%|          | 0/5 [00:00<?, ?it/s]"
      ]
     },
     "metadata": {},
     "output_type": "display_data"
    },
    {
     "data": {
      "application/vnd.jupyter.widget-view+json": {
       "model_id": "8471c9eb774c4b25b761c862ec9d152e",
       "version_major": 2,
       "version_minor": 0
      },
      "text/plain": [
       "Running Epoch 90 of 400:   0%|          | 0/5 [00:00<?, ?it/s]"
      ]
     },
     "metadata": {},
     "output_type": "display_data"
    },
    {
     "data": {
      "application/vnd.jupyter.widget-view+json": {
       "model_id": "971bb0422b0e48e59ef34f3d0f008767",
       "version_major": 2,
       "version_minor": 0
      },
      "text/plain": [
       "Running Epoch 91 of 400:   0%|          | 0/5 [00:00<?, ?it/s]"
      ]
     },
     "metadata": {},
     "output_type": "display_data"
    },
    {
     "data": {
      "application/vnd.jupyter.widget-view+json": {
       "model_id": "a79d1128bd05432ca098994a13ec9e8d",
       "version_major": 2,
       "version_minor": 0
      },
      "text/plain": [
       "Running Epoch 92 of 400:   0%|          | 0/5 [00:00<?, ?it/s]"
      ]
     },
     "metadata": {},
     "output_type": "display_data"
    },
    {
     "data": {
      "application/vnd.jupyter.widget-view+json": {
       "model_id": "361831d61c5b4d1daa9106596c0f2313",
       "version_major": 2,
       "version_minor": 0
      },
      "text/plain": [
       "Running Epoch 93 of 400:   0%|          | 0/5 [00:00<?, ?it/s]"
      ]
     },
     "metadata": {},
     "output_type": "display_data"
    },
    {
     "data": {
      "application/vnd.jupyter.widget-view+json": {
       "model_id": "bf7c9c6c1c7d4ed5a25aff49558cfbc3",
       "version_major": 2,
       "version_minor": 0
      },
      "text/plain": [
       "Running Epoch 94 of 400:   0%|          | 0/5 [00:00<?, ?it/s]"
      ]
     },
     "metadata": {},
     "output_type": "display_data"
    },
    {
     "data": {
      "application/vnd.jupyter.widget-view+json": {
       "model_id": "4e98d6c5d0a34ed4803c6599484d4929",
       "version_major": 2,
       "version_minor": 0
      },
      "text/plain": [
       "Running Epoch 95 of 400:   0%|          | 0/5 [00:00<?, ?it/s]"
      ]
     },
     "metadata": {},
     "output_type": "display_data"
    },
    {
     "data": {
      "application/vnd.jupyter.widget-view+json": {
       "model_id": "049235b9975a4a44bd3477be38e4d298",
       "version_major": 2,
       "version_minor": 0
      },
      "text/plain": [
       "Running Epoch 96 of 400:   0%|          | 0/5 [00:00<?, ?it/s]"
      ]
     },
     "metadata": {},
     "output_type": "display_data"
    },
    {
     "data": {
      "application/vnd.jupyter.widget-view+json": {
       "model_id": "7212f4c614c14644a4021a2814c0e9b8",
       "version_major": 2,
       "version_minor": 0
      },
      "text/plain": [
       "Running Epoch 97 of 400:   0%|          | 0/5 [00:00<?, ?it/s]"
      ]
     },
     "metadata": {},
     "output_type": "display_data"
    },
    {
     "data": {
      "application/vnd.jupyter.widget-view+json": {
       "model_id": "626659fefbac47a6807c65f7b7d9d79b",
       "version_major": 2,
       "version_minor": 0
      },
      "text/plain": [
       "Running Epoch 98 of 400:   0%|          | 0/5 [00:00<?, ?it/s]"
      ]
     },
     "metadata": {},
     "output_type": "display_data"
    },
    {
     "data": {
      "application/vnd.jupyter.widget-view+json": {
       "model_id": "133340064614414dacc9c6a4c2764b86",
       "version_major": 2,
       "version_minor": 0
      },
      "text/plain": [
       "Running Epoch 99 of 400:   0%|          | 0/5 [00:00<?, ?it/s]"
      ]
     },
     "metadata": {},
     "output_type": "display_data"
    },
    {
     "data": {
      "application/vnd.jupyter.widget-view+json": {
       "model_id": "06714d2c682f4152b5b2247f760f09fd",
       "version_major": 2,
       "version_minor": 0
      },
      "text/plain": [
       "Running Epoch 100 of 400:   0%|          | 0/5 [00:00<?, ?it/s]"
      ]
     },
     "metadata": {},
     "output_type": "display_data"
    },
    {
     "data": {
      "application/vnd.jupyter.widget-view+json": {
       "model_id": "379e20fa11f146f1b7b2129d3df25777",
       "version_major": 2,
       "version_minor": 0
      },
      "text/plain": [
       "Running Epoch 101 of 400:   0%|          | 0/5 [00:00<?, ?it/s]"
      ]
     },
     "metadata": {},
     "output_type": "display_data"
    },
    {
     "data": {
      "application/vnd.jupyter.widget-view+json": {
       "model_id": "84d9f9144a4142ab91af041a16d0869c",
       "version_major": 2,
       "version_minor": 0
      },
      "text/plain": [
       "Running Epoch 102 of 400:   0%|          | 0/5 [00:00<?, ?it/s]"
      ]
     },
     "metadata": {},
     "output_type": "display_data"
    },
    {
     "data": {
      "application/vnd.jupyter.widget-view+json": {
       "model_id": "c0c6158ab1104ca08a65590ca90273d8",
       "version_major": 2,
       "version_minor": 0
      },
      "text/plain": [
       "Running Epoch 103 of 400:   0%|          | 0/5 [00:00<?, ?it/s]"
      ]
     },
     "metadata": {},
     "output_type": "display_data"
    },
    {
     "data": {
      "application/vnd.jupyter.widget-view+json": {
       "model_id": "f83d4e7d3dd94ae5b86522bc858285cb",
       "version_major": 2,
       "version_minor": 0
      },
      "text/plain": [
       "Running Epoch 104 of 400:   0%|          | 0/5 [00:00<?, ?it/s]"
      ]
     },
     "metadata": {},
     "output_type": "display_data"
    },
    {
     "data": {
      "application/vnd.jupyter.widget-view+json": {
       "model_id": "78c18fef90634e039e2015c80fc53392",
       "version_major": 2,
       "version_minor": 0
      },
      "text/plain": [
       "Running Epoch 105 of 400:   0%|          | 0/5 [00:00<?, ?it/s]"
      ]
     },
     "metadata": {},
     "output_type": "display_data"
    },
    {
     "data": {
      "application/vnd.jupyter.widget-view+json": {
       "model_id": "7354aedde241414f91c504fb29e6294a",
       "version_major": 2,
       "version_minor": 0
      },
      "text/plain": [
       "Running Epoch 106 of 400:   0%|          | 0/5 [00:00<?, ?it/s]"
      ]
     },
     "metadata": {},
     "output_type": "display_data"
    },
    {
     "data": {
      "application/vnd.jupyter.widget-view+json": {
       "model_id": "e00f02af718b4c4d83a3e09f2264be30",
       "version_major": 2,
       "version_minor": 0
      },
      "text/plain": [
       "Running Epoch 107 of 400:   0%|          | 0/5 [00:00<?, ?it/s]"
      ]
     },
     "metadata": {},
     "output_type": "display_data"
    },
    {
     "data": {
      "application/vnd.jupyter.widget-view+json": {
       "model_id": "518a049f403a451ba5c6abe5339594ef",
       "version_major": 2,
       "version_minor": 0
      },
      "text/plain": [
       "Running Epoch 108 of 400:   0%|          | 0/5 [00:00<?, ?it/s]"
      ]
     },
     "metadata": {},
     "output_type": "display_data"
    },
    {
     "data": {
      "application/vnd.jupyter.widget-view+json": {
       "model_id": "4832a1b654874c3a82ec3838bb9ac30c",
       "version_major": 2,
       "version_minor": 0
      },
      "text/plain": [
       "Running Epoch 109 of 400:   0%|          | 0/5 [00:00<?, ?it/s]"
      ]
     },
     "metadata": {},
     "output_type": "display_data"
    },
    {
     "data": {
      "application/vnd.jupyter.widget-view+json": {
       "model_id": "0a8bdf81e7d14119843762e43021077c",
       "version_major": 2,
       "version_minor": 0
      },
      "text/plain": [
       "Running Epoch 110 of 400:   0%|          | 0/5 [00:00<?, ?it/s]"
      ]
     },
     "metadata": {},
     "output_type": "display_data"
    },
    {
     "data": {
      "application/vnd.jupyter.widget-view+json": {
       "model_id": "19c1cf7475a24493a202c900fa506365",
       "version_major": 2,
       "version_minor": 0
      },
      "text/plain": [
       "Running Epoch 111 of 400:   0%|          | 0/5 [00:00<?, ?it/s]"
      ]
     },
     "metadata": {},
     "output_type": "display_data"
    },
    {
     "data": {
      "application/vnd.jupyter.widget-view+json": {
       "model_id": "775dfcaf2be14285b7986640d46cfec2",
       "version_major": 2,
       "version_minor": 0
      },
      "text/plain": [
       "Running Epoch 112 of 400:   0%|          | 0/5 [00:00<?, ?it/s]"
      ]
     },
     "metadata": {},
     "output_type": "display_data"
    },
    {
     "data": {
      "application/vnd.jupyter.widget-view+json": {
       "model_id": "c9f60825923e4599a3948efae39558a8",
       "version_major": 2,
       "version_minor": 0
      },
      "text/plain": [
       "Running Epoch 113 of 400:   0%|          | 0/5 [00:00<?, ?it/s]"
      ]
     },
     "metadata": {},
     "output_type": "display_data"
    },
    {
     "data": {
      "application/vnd.jupyter.widget-view+json": {
       "model_id": "c8b1fdae7492448ca3ffa475de3ba577",
       "version_major": 2,
       "version_minor": 0
      },
      "text/plain": [
       "Running Epoch 114 of 400:   0%|          | 0/5 [00:00<?, ?it/s]"
      ]
     },
     "metadata": {},
     "output_type": "display_data"
    },
    {
     "data": {
      "application/vnd.jupyter.widget-view+json": {
       "model_id": "1d6b1a03d55140c7809d1f6f16c91d03",
       "version_major": 2,
       "version_minor": 0
      },
      "text/plain": [
       "Running Epoch 115 of 400:   0%|          | 0/5 [00:00<?, ?it/s]"
      ]
     },
     "metadata": {},
     "output_type": "display_data"
    },
    {
     "data": {
      "application/vnd.jupyter.widget-view+json": {
       "model_id": "cc27ddc230194e5da26e9793cdab7279",
       "version_major": 2,
       "version_minor": 0
      },
      "text/plain": [
       "Running Epoch 116 of 400:   0%|          | 0/5 [00:00<?, ?it/s]"
      ]
     },
     "metadata": {},
     "output_type": "display_data"
    },
    {
     "data": {
      "application/vnd.jupyter.widget-view+json": {
       "model_id": "b17127de61cf473d974a4c6828a3931c",
       "version_major": 2,
       "version_minor": 0
      },
      "text/plain": [
       "Running Epoch 117 of 400:   0%|          | 0/5 [00:00<?, ?it/s]"
      ]
     },
     "metadata": {},
     "output_type": "display_data"
    },
    {
     "data": {
      "application/vnd.jupyter.widget-view+json": {
       "model_id": "2130f4022e0c4ae987ebffe5ae53e252",
       "version_major": 2,
       "version_minor": 0
      },
      "text/plain": [
       "Running Epoch 118 of 400:   0%|          | 0/5 [00:00<?, ?it/s]"
      ]
     },
     "metadata": {},
     "output_type": "display_data"
    },
    {
     "data": {
      "application/vnd.jupyter.widget-view+json": {
       "model_id": "15f06fc9c0a84d62913abd9bb689ed11",
       "version_major": 2,
       "version_minor": 0
      },
      "text/plain": [
       "Running Epoch 119 of 400:   0%|          | 0/5 [00:00<?, ?it/s]"
      ]
     },
     "metadata": {},
     "output_type": "display_data"
    },
    {
     "data": {
      "application/vnd.jupyter.widget-view+json": {
       "model_id": "8927859d79684d6c88a2153a796f797d",
       "version_major": 2,
       "version_minor": 0
      },
      "text/plain": [
       "Running Epoch 120 of 400:   0%|          | 0/5 [00:00<?, ?it/s]"
      ]
     },
     "metadata": {},
     "output_type": "display_data"
    },
    {
     "data": {
      "application/vnd.jupyter.widget-view+json": {
       "model_id": "06fb0b39682547aaa72387ab0bf2726a",
       "version_major": 2,
       "version_minor": 0
      },
      "text/plain": [
       "Running Epoch 121 of 400:   0%|          | 0/5 [00:00<?, ?it/s]"
      ]
     },
     "metadata": {},
     "output_type": "display_data"
    },
    {
     "data": {
      "application/vnd.jupyter.widget-view+json": {
       "model_id": "5d86a93372f84e9da1663beffa76719d",
       "version_major": 2,
       "version_minor": 0
      },
      "text/plain": [
       "Running Epoch 122 of 400:   0%|          | 0/5 [00:00<?, ?it/s]"
      ]
     },
     "metadata": {},
     "output_type": "display_data"
    },
    {
     "data": {
      "application/vnd.jupyter.widget-view+json": {
       "model_id": "7c95eee323894289aec591b669b2bceb",
       "version_major": 2,
       "version_minor": 0
      },
      "text/plain": [
       "Running Epoch 123 of 400:   0%|          | 0/5 [00:00<?, ?it/s]"
      ]
     },
     "metadata": {},
     "output_type": "display_data"
    },
    {
     "data": {
      "application/vnd.jupyter.widget-view+json": {
       "model_id": "1d0d961298c344c3809dd6949b751ae9",
       "version_major": 2,
       "version_minor": 0
      },
      "text/plain": [
       "Running Epoch 124 of 400:   0%|          | 0/5 [00:00<?, ?it/s]"
      ]
     },
     "metadata": {},
     "output_type": "display_data"
    },
    {
     "data": {
      "application/vnd.jupyter.widget-view+json": {
       "model_id": "af505a62ec774bbe9718bb57a94ae675",
       "version_major": 2,
       "version_minor": 0
      },
      "text/plain": [
       "Running Epoch 125 of 400:   0%|          | 0/5 [00:00<?, ?it/s]"
      ]
     },
     "metadata": {},
     "output_type": "display_data"
    },
    {
     "data": {
      "application/vnd.jupyter.widget-view+json": {
       "model_id": "6ceffa8ffc4a455a991926a2efdb13cf",
       "version_major": 2,
       "version_minor": 0
      },
      "text/plain": [
       "Running Epoch 126 of 400:   0%|          | 0/5 [00:00<?, ?it/s]"
      ]
     },
     "metadata": {},
     "output_type": "display_data"
    },
    {
     "data": {
      "application/vnd.jupyter.widget-view+json": {
       "model_id": "6fc8ef4cec29476890939f23d56078b9",
       "version_major": 2,
       "version_minor": 0
      },
      "text/plain": [
       "Running Epoch 127 of 400:   0%|          | 0/5 [00:00<?, ?it/s]"
      ]
     },
     "metadata": {},
     "output_type": "display_data"
    },
    {
     "data": {
      "application/vnd.jupyter.widget-view+json": {
       "model_id": "8166a3b8ad1649848f4a20ae860d17bd",
       "version_major": 2,
       "version_minor": 0
      },
      "text/plain": [
       "Running Epoch 128 of 400:   0%|          | 0/5 [00:00<?, ?it/s]"
      ]
     },
     "metadata": {},
     "output_type": "display_data"
    },
    {
     "data": {
      "application/vnd.jupyter.widget-view+json": {
       "model_id": "f7ea2b10ca824ce8aadddf7e393247ee",
       "version_major": 2,
       "version_minor": 0
      },
      "text/plain": [
       "Running Epoch 129 of 400:   0%|          | 0/5 [00:00<?, ?it/s]"
      ]
     },
     "metadata": {},
     "output_type": "display_data"
    },
    {
     "data": {
      "application/vnd.jupyter.widget-view+json": {
       "model_id": "f352f2736f6c4e4f8e9f45a3837e16f1",
       "version_major": 2,
       "version_minor": 0
      },
      "text/plain": [
       "Running Epoch 130 of 400:   0%|          | 0/5 [00:00<?, ?it/s]"
      ]
     },
     "metadata": {},
     "output_type": "display_data"
    },
    {
     "data": {
      "application/vnd.jupyter.widget-view+json": {
       "model_id": "6c3fe3c2cf2c4d4abba41f6cd7c6a99f",
       "version_major": 2,
       "version_minor": 0
      },
      "text/plain": [
       "Running Epoch 131 of 400:   0%|          | 0/5 [00:00<?, ?it/s]"
      ]
     },
     "metadata": {},
     "output_type": "display_data"
    },
    {
     "data": {
      "application/vnd.jupyter.widget-view+json": {
       "model_id": "be2b04ab18124575a9a473cef3b2ce2d",
       "version_major": 2,
       "version_minor": 0
      },
      "text/plain": [
       "Running Epoch 132 of 400:   0%|          | 0/5 [00:00<?, ?it/s]"
      ]
     },
     "metadata": {},
     "output_type": "display_data"
    },
    {
     "data": {
      "application/vnd.jupyter.widget-view+json": {
       "model_id": "86f8d23d28b94fc78e8c21c55f772844",
       "version_major": 2,
       "version_minor": 0
      },
      "text/plain": [
       "Running Epoch 133 of 400:   0%|          | 0/5 [00:00<?, ?it/s]"
      ]
     },
     "metadata": {},
     "output_type": "display_data"
    },
    {
     "data": {
      "application/vnd.jupyter.widget-view+json": {
       "model_id": "dcc2f5dd06334caea5e9c79c48e0aae2",
       "version_major": 2,
       "version_minor": 0
      },
      "text/plain": [
       "Running Epoch 134 of 400:   0%|          | 0/5 [00:00<?, ?it/s]"
      ]
     },
     "metadata": {},
     "output_type": "display_data"
    },
    {
     "data": {
      "application/vnd.jupyter.widget-view+json": {
       "model_id": "0c844e2db48b414e8763bb2c32038c0a",
       "version_major": 2,
       "version_minor": 0
      },
      "text/plain": [
       "Running Epoch 135 of 400:   0%|          | 0/5 [00:00<?, ?it/s]"
      ]
     },
     "metadata": {},
     "output_type": "display_data"
    },
    {
     "data": {
      "application/vnd.jupyter.widget-view+json": {
       "model_id": "5a959f959bbb4c0fa071f6bf0947620b",
       "version_major": 2,
       "version_minor": 0
      },
      "text/plain": [
       "Running Epoch 136 of 400:   0%|          | 0/5 [00:00<?, ?it/s]"
      ]
     },
     "metadata": {},
     "output_type": "display_data"
    },
    {
     "data": {
      "application/vnd.jupyter.widget-view+json": {
       "model_id": "89c34f7f2f7947c9a34b31e5b6ab47ea",
       "version_major": 2,
       "version_minor": 0
      },
      "text/plain": [
       "Running Epoch 137 of 400:   0%|          | 0/5 [00:00<?, ?it/s]"
      ]
     },
     "metadata": {},
     "output_type": "display_data"
    },
    {
     "data": {
      "application/vnd.jupyter.widget-view+json": {
       "model_id": "a8271eed60824e4f883c41556792a1a1",
       "version_major": 2,
       "version_minor": 0
      },
      "text/plain": [
       "Running Epoch 138 of 400:   0%|          | 0/5 [00:00<?, ?it/s]"
      ]
     },
     "metadata": {},
     "output_type": "display_data"
    },
    {
     "data": {
      "application/vnd.jupyter.widget-view+json": {
       "model_id": "c1c451d287354ee18ebbdd103ad44629",
       "version_major": 2,
       "version_minor": 0
      },
      "text/plain": [
       "Running Epoch 139 of 400:   0%|          | 0/5 [00:00<?, ?it/s]"
      ]
     },
     "metadata": {},
     "output_type": "display_data"
    },
    {
     "data": {
      "application/vnd.jupyter.widget-view+json": {
       "model_id": "d8265b296b4145bbb3479819f5de35fc",
       "version_major": 2,
       "version_minor": 0
      },
      "text/plain": [
       "Running Epoch 140 of 400:   0%|          | 0/5 [00:00<?, ?it/s]"
      ]
     },
     "metadata": {},
     "output_type": "display_data"
    },
    {
     "data": {
      "application/vnd.jupyter.widget-view+json": {
       "model_id": "6501507896394f0db6c063800f36576e",
       "version_major": 2,
       "version_minor": 0
      },
      "text/plain": [
       "Running Epoch 141 of 400:   0%|          | 0/5 [00:00<?, ?it/s]"
      ]
     },
     "metadata": {},
     "output_type": "display_data"
    },
    {
     "data": {
      "application/vnd.jupyter.widget-view+json": {
       "model_id": "6b1a0262f2fd47b993375152ad71df76",
       "version_major": 2,
       "version_minor": 0
      },
      "text/plain": [
       "Running Epoch 142 of 400:   0%|          | 0/5 [00:00<?, ?it/s]"
      ]
     },
     "metadata": {},
     "output_type": "display_data"
    },
    {
     "data": {
      "application/vnd.jupyter.widget-view+json": {
       "model_id": "fa59410ec5644250a4879af5262b7ce7",
       "version_major": 2,
       "version_minor": 0
      },
      "text/plain": [
       "Running Epoch 143 of 400:   0%|          | 0/5 [00:00<?, ?it/s]"
      ]
     },
     "metadata": {},
     "output_type": "display_data"
    },
    {
     "data": {
      "application/vnd.jupyter.widget-view+json": {
       "model_id": "a6300d8d29944f54802f4b4f46fbfa8d",
       "version_major": 2,
       "version_minor": 0
      },
      "text/plain": [
       "Running Epoch 144 of 400:   0%|          | 0/5 [00:00<?, ?it/s]"
      ]
     },
     "metadata": {},
     "output_type": "display_data"
    },
    {
     "data": {
      "application/vnd.jupyter.widget-view+json": {
       "model_id": "88fbd02560014385a954454f349513b1",
       "version_major": 2,
       "version_minor": 0
      },
      "text/plain": [
       "Running Epoch 145 of 400:   0%|          | 0/5 [00:00<?, ?it/s]"
      ]
     },
     "metadata": {},
     "output_type": "display_data"
    },
    {
     "data": {
      "application/vnd.jupyter.widget-view+json": {
       "model_id": "d4ea6d0f42b74a3bb7bb4b0f1e846f2a",
       "version_major": 2,
       "version_minor": 0
      },
      "text/plain": [
       "Running Epoch 146 of 400:   0%|          | 0/5 [00:00<?, ?it/s]"
      ]
     },
     "metadata": {},
     "output_type": "display_data"
    },
    {
     "data": {
      "application/vnd.jupyter.widget-view+json": {
       "model_id": "ef256a965a4d46e79c519d5d3748a5ff",
       "version_major": 2,
       "version_minor": 0
      },
      "text/plain": [
       "Running Epoch 147 of 400:   0%|          | 0/5 [00:00<?, ?it/s]"
      ]
     },
     "metadata": {},
     "output_type": "display_data"
    },
    {
     "data": {
      "application/vnd.jupyter.widget-view+json": {
       "model_id": "5833904d93454463af7d7806e6f66612",
       "version_major": 2,
       "version_minor": 0
      },
      "text/plain": [
       "Running Epoch 148 of 400:   0%|          | 0/5 [00:00<?, ?it/s]"
      ]
     },
     "metadata": {},
     "output_type": "display_data"
    },
    {
     "data": {
      "application/vnd.jupyter.widget-view+json": {
       "model_id": "35bfed01cebf48e28a98736f0e09d5e0",
       "version_major": 2,
       "version_minor": 0
      },
      "text/plain": [
       "Running Epoch 149 of 400:   0%|          | 0/5 [00:00<?, ?it/s]"
      ]
     },
     "metadata": {},
     "output_type": "display_data"
    },
    {
     "data": {
      "application/vnd.jupyter.widget-view+json": {
       "model_id": "c5dd4489750645519e32ff715de41e1a",
       "version_major": 2,
       "version_minor": 0
      },
      "text/plain": [
       "Running Epoch 150 of 400:   0%|          | 0/5 [00:00<?, ?it/s]"
      ]
     },
     "metadata": {},
     "output_type": "display_data"
    },
    {
     "data": {
      "application/vnd.jupyter.widget-view+json": {
       "model_id": "44934da0f9eb4aac959bd802653c52de",
       "version_major": 2,
       "version_minor": 0
      },
      "text/plain": [
       "Running Epoch 151 of 400:   0%|          | 0/5 [00:00<?, ?it/s]"
      ]
     },
     "metadata": {},
     "output_type": "display_data"
    },
    {
     "data": {
      "application/vnd.jupyter.widget-view+json": {
       "model_id": "90531fa99327440e9126435416716de1",
       "version_major": 2,
       "version_minor": 0
      },
      "text/plain": [
       "Running Epoch 152 of 400:   0%|          | 0/5 [00:00<?, ?it/s]"
      ]
     },
     "metadata": {},
     "output_type": "display_data"
    },
    {
     "data": {
      "application/vnd.jupyter.widget-view+json": {
       "model_id": "9ab906dbcece4229a66d6cb61217bd72",
       "version_major": 2,
       "version_minor": 0
      },
      "text/plain": [
       "Running Epoch 153 of 400:   0%|          | 0/5 [00:00<?, ?it/s]"
      ]
     },
     "metadata": {},
     "output_type": "display_data"
    },
    {
     "data": {
      "application/vnd.jupyter.widget-view+json": {
       "model_id": "eabed21d9bc940e9b7c851676ac676f6",
       "version_major": 2,
       "version_minor": 0
      },
      "text/plain": [
       "Running Epoch 154 of 400:   0%|          | 0/5 [00:00<?, ?it/s]"
      ]
     },
     "metadata": {},
     "output_type": "display_data"
    },
    {
     "data": {
      "application/vnd.jupyter.widget-view+json": {
       "model_id": "cd8e8a72091c4ecb950595226200caa0",
       "version_major": 2,
       "version_minor": 0
      },
      "text/plain": [
       "Running Epoch 155 of 400:   0%|          | 0/5 [00:00<?, ?it/s]"
      ]
     },
     "metadata": {},
     "output_type": "display_data"
    },
    {
     "data": {
      "application/vnd.jupyter.widget-view+json": {
       "model_id": "22ea90a2801a4dea8d3efe6731abbd2e",
       "version_major": 2,
       "version_minor": 0
      },
      "text/plain": [
       "Running Epoch 156 of 400:   0%|          | 0/5 [00:00<?, ?it/s]"
      ]
     },
     "metadata": {},
     "output_type": "display_data"
    },
    {
     "data": {
      "application/vnd.jupyter.widget-view+json": {
       "model_id": "02576110d5964a749c8c1f0bb23eb06d",
       "version_major": 2,
       "version_minor": 0
      },
      "text/plain": [
       "Running Epoch 157 of 400:   0%|          | 0/5 [00:00<?, ?it/s]"
      ]
     },
     "metadata": {},
     "output_type": "display_data"
    },
    {
     "data": {
      "application/vnd.jupyter.widget-view+json": {
       "model_id": "ab72e11ba5454d8289486d9bd7bbb644",
       "version_major": 2,
       "version_minor": 0
      },
      "text/plain": [
       "Running Epoch 158 of 400:   0%|          | 0/5 [00:00<?, ?it/s]"
      ]
     },
     "metadata": {},
     "output_type": "display_data"
    },
    {
     "data": {
      "application/vnd.jupyter.widget-view+json": {
       "model_id": "70fa3ff3285749559d88ecd252b658d3",
       "version_major": 2,
       "version_minor": 0
      },
      "text/plain": [
       "Running Epoch 159 of 400:   0%|          | 0/5 [00:00<?, ?it/s]"
      ]
     },
     "metadata": {},
     "output_type": "display_data"
    },
    {
     "data": {
      "application/vnd.jupyter.widget-view+json": {
       "model_id": "84029495592c4f7489b4a082e50aba56",
       "version_major": 2,
       "version_minor": 0
      },
      "text/plain": [
       "Running Epoch 160 of 400:   0%|          | 0/5 [00:00<?, ?it/s]"
      ]
     },
     "metadata": {},
     "output_type": "display_data"
    },
    {
     "data": {
      "application/vnd.jupyter.widget-view+json": {
       "model_id": "522e58b6ff8d4e3fbacb99a49abd045c",
       "version_major": 2,
       "version_minor": 0
      },
      "text/plain": [
       "Running Epoch 161 of 400:   0%|          | 0/5 [00:00<?, ?it/s]"
      ]
     },
     "metadata": {},
     "output_type": "display_data"
    },
    {
     "data": {
      "application/vnd.jupyter.widget-view+json": {
       "model_id": "5270ce92ff3d43d0abe2e57ea6be80ae",
       "version_major": 2,
       "version_minor": 0
      },
      "text/plain": [
       "Running Epoch 162 of 400:   0%|          | 0/5 [00:00<?, ?it/s]"
      ]
     },
     "metadata": {},
     "output_type": "display_data"
    },
    {
     "data": {
      "application/vnd.jupyter.widget-view+json": {
       "model_id": "606fff813995493daf72ba3669f87985",
       "version_major": 2,
       "version_minor": 0
      },
      "text/plain": [
       "Running Epoch 163 of 400:   0%|          | 0/5 [00:00<?, ?it/s]"
      ]
     },
     "metadata": {},
     "output_type": "display_data"
    },
    {
     "data": {
      "application/vnd.jupyter.widget-view+json": {
       "model_id": "562a6629a82a44d490bf8f7257d7f90c",
       "version_major": 2,
       "version_minor": 0
      },
      "text/plain": [
       "Running Epoch 164 of 400:   0%|          | 0/5 [00:00<?, ?it/s]"
      ]
     },
     "metadata": {},
     "output_type": "display_data"
    },
    {
     "data": {
      "application/vnd.jupyter.widget-view+json": {
       "model_id": "1a6b017a81b64d20967f7ffe7f6578b9",
       "version_major": 2,
       "version_minor": 0
      },
      "text/plain": [
       "Running Epoch 165 of 400:   0%|          | 0/5 [00:00<?, ?it/s]"
      ]
     },
     "metadata": {},
     "output_type": "display_data"
    },
    {
     "data": {
      "application/vnd.jupyter.widget-view+json": {
       "model_id": "b7822960ffe3417ebd67385a68feebde",
       "version_major": 2,
       "version_minor": 0
      },
      "text/plain": [
       "Running Epoch 166 of 400:   0%|          | 0/5 [00:00<?, ?it/s]"
      ]
     },
     "metadata": {},
     "output_type": "display_data"
    },
    {
     "data": {
      "application/vnd.jupyter.widget-view+json": {
       "model_id": "c2991191b0f74f2ead65f3d7b19f4292",
       "version_major": 2,
       "version_minor": 0
      },
      "text/plain": [
       "Running Epoch 167 of 400:   0%|          | 0/5 [00:00<?, ?it/s]"
      ]
     },
     "metadata": {},
     "output_type": "display_data"
    },
    {
     "data": {
      "application/vnd.jupyter.widget-view+json": {
       "model_id": "484e11248ca942b8b3db2df577411c1e",
       "version_major": 2,
       "version_minor": 0
      },
      "text/plain": [
       "Running Epoch 168 of 400:   0%|          | 0/5 [00:00<?, ?it/s]"
      ]
     },
     "metadata": {},
     "output_type": "display_data"
    },
    {
     "data": {
      "application/vnd.jupyter.widget-view+json": {
       "model_id": "49ce498ae111426bb5f7f821b1aed9b0",
       "version_major": 2,
       "version_minor": 0
      },
      "text/plain": [
       "Running Epoch 169 of 400:   0%|          | 0/5 [00:00<?, ?it/s]"
      ]
     },
     "metadata": {},
     "output_type": "display_data"
    },
    {
     "data": {
      "application/vnd.jupyter.widget-view+json": {
       "model_id": "5ccfea9e13ae4cb0b6b465ca4a4d7698",
       "version_major": 2,
       "version_minor": 0
      },
      "text/plain": [
       "Running Epoch 170 of 400:   0%|          | 0/5 [00:00<?, ?it/s]"
      ]
     },
     "metadata": {},
     "output_type": "display_data"
    },
    {
     "data": {
      "application/vnd.jupyter.widget-view+json": {
       "model_id": "1474568d537740ba87a2dc383be93f8c",
       "version_major": 2,
       "version_minor": 0
      },
      "text/plain": [
       "Running Epoch 171 of 400:   0%|          | 0/5 [00:00<?, ?it/s]"
      ]
     },
     "metadata": {},
     "output_type": "display_data"
    },
    {
     "data": {
      "application/vnd.jupyter.widget-view+json": {
       "model_id": "521c20106eec42e8903f34b0223f5de5",
       "version_major": 2,
       "version_minor": 0
      },
      "text/plain": [
       "Running Epoch 172 of 400:   0%|          | 0/5 [00:00<?, ?it/s]"
      ]
     },
     "metadata": {},
     "output_type": "display_data"
    },
    {
     "data": {
      "application/vnd.jupyter.widget-view+json": {
       "model_id": "70192154229949478b27013a21141936",
       "version_major": 2,
       "version_minor": 0
      },
      "text/plain": [
       "Running Epoch 173 of 400:   0%|          | 0/5 [00:00<?, ?it/s]"
      ]
     },
     "metadata": {},
     "output_type": "display_data"
    },
    {
     "data": {
      "application/vnd.jupyter.widget-view+json": {
       "model_id": "193c248f793e4c939cbe3f97fbf85e2e",
       "version_major": 2,
       "version_minor": 0
      },
      "text/plain": [
       "Running Epoch 174 of 400:   0%|          | 0/5 [00:00<?, ?it/s]"
      ]
     },
     "metadata": {},
     "output_type": "display_data"
    },
    {
     "data": {
      "application/vnd.jupyter.widget-view+json": {
       "model_id": "aed925bc817844608e600d9d8fe359d1",
       "version_major": 2,
       "version_minor": 0
      },
      "text/plain": [
       "Running Epoch 175 of 400:   0%|          | 0/5 [00:00<?, ?it/s]"
      ]
     },
     "metadata": {},
     "output_type": "display_data"
    },
    {
     "data": {
      "application/vnd.jupyter.widget-view+json": {
       "model_id": "aad16211dfe443d1845f260878626e5c",
       "version_major": 2,
       "version_minor": 0
      },
      "text/plain": [
       "Running Epoch 176 of 400:   0%|          | 0/5 [00:00<?, ?it/s]"
      ]
     },
     "metadata": {},
     "output_type": "display_data"
    },
    {
     "data": {
      "application/vnd.jupyter.widget-view+json": {
       "model_id": "0b397dcddc8b4afd811244f3d56f3333",
       "version_major": 2,
       "version_minor": 0
      },
      "text/plain": [
       "Running Epoch 177 of 400:   0%|          | 0/5 [00:00<?, ?it/s]"
      ]
     },
     "metadata": {},
     "output_type": "display_data"
    },
    {
     "data": {
      "application/vnd.jupyter.widget-view+json": {
       "model_id": "876b8393c76b48f990efab840bd6386f",
       "version_major": 2,
       "version_minor": 0
      },
      "text/plain": [
       "Running Epoch 178 of 400:   0%|          | 0/5 [00:00<?, ?it/s]"
      ]
     },
     "metadata": {},
     "output_type": "display_data"
    },
    {
     "data": {
      "application/vnd.jupyter.widget-view+json": {
       "model_id": "a67116e2d09d4a7a8d35ea8bfcd2de37",
       "version_major": 2,
       "version_minor": 0
      },
      "text/plain": [
       "Running Epoch 179 of 400:   0%|          | 0/5 [00:00<?, ?it/s]"
      ]
     },
     "metadata": {},
     "output_type": "display_data"
    },
    {
     "data": {
      "application/vnd.jupyter.widget-view+json": {
       "model_id": "684f98c0115b404e9901df4534391796",
       "version_major": 2,
       "version_minor": 0
      },
      "text/plain": [
       "Running Epoch 180 of 400:   0%|          | 0/5 [00:00<?, ?it/s]"
      ]
     },
     "metadata": {},
     "output_type": "display_data"
    },
    {
     "data": {
      "application/vnd.jupyter.widget-view+json": {
       "model_id": "d30b47ea07ed4aebb20639455f8bf0d9",
       "version_major": 2,
       "version_minor": 0
      },
      "text/plain": [
       "Running Epoch 181 of 400:   0%|          | 0/5 [00:00<?, ?it/s]"
      ]
     },
     "metadata": {},
     "output_type": "display_data"
    },
    {
     "data": {
      "application/vnd.jupyter.widget-view+json": {
       "model_id": "32eccb7fc9ac408d9c3e592e03a88d23",
       "version_major": 2,
       "version_minor": 0
      },
      "text/plain": [
       "Running Epoch 182 of 400:   0%|          | 0/5 [00:00<?, ?it/s]"
      ]
     },
     "metadata": {},
     "output_type": "display_data"
    },
    {
     "data": {
      "application/vnd.jupyter.widget-view+json": {
       "model_id": "f78f1a41bf994657a754eba2a2d807be",
       "version_major": 2,
       "version_minor": 0
      },
      "text/plain": [
       "Running Epoch 183 of 400:   0%|          | 0/5 [00:00<?, ?it/s]"
      ]
     },
     "metadata": {},
     "output_type": "display_data"
    },
    {
     "data": {
      "application/vnd.jupyter.widget-view+json": {
       "model_id": "cb1be2d11363461c9b582e22d3e914a2",
       "version_major": 2,
       "version_minor": 0
      },
      "text/plain": [
       "Running Epoch 184 of 400:   0%|          | 0/5 [00:00<?, ?it/s]"
      ]
     },
     "metadata": {},
     "output_type": "display_data"
    },
    {
     "data": {
      "application/vnd.jupyter.widget-view+json": {
       "model_id": "a1b2644f1d3a4777b93f109008a89439",
       "version_major": 2,
       "version_minor": 0
      },
      "text/plain": [
       "Running Epoch 185 of 400:   0%|          | 0/5 [00:00<?, ?it/s]"
      ]
     },
     "metadata": {},
     "output_type": "display_data"
    },
    {
     "data": {
      "application/vnd.jupyter.widget-view+json": {
       "model_id": "2e1f362801914e3f8815de3e5e9499b4",
       "version_major": 2,
       "version_minor": 0
      },
      "text/plain": [
       "Running Epoch 186 of 400:   0%|          | 0/5 [00:00<?, ?it/s]"
      ]
     },
     "metadata": {},
     "output_type": "display_data"
    },
    {
     "data": {
      "application/vnd.jupyter.widget-view+json": {
       "model_id": "0c08578dc949470782870dbfe3bad983",
       "version_major": 2,
       "version_minor": 0
      },
      "text/plain": [
       "Running Epoch 187 of 400:   0%|          | 0/5 [00:00<?, ?it/s]"
      ]
     },
     "metadata": {},
     "output_type": "display_data"
    },
    {
     "data": {
      "application/vnd.jupyter.widget-view+json": {
       "model_id": "a559c01935d94f259650a9324a79702c",
       "version_major": 2,
       "version_minor": 0
      },
      "text/plain": [
       "Running Epoch 188 of 400:   0%|          | 0/5 [00:00<?, ?it/s]"
      ]
     },
     "metadata": {},
     "output_type": "display_data"
    },
    {
     "data": {
      "application/vnd.jupyter.widget-view+json": {
       "model_id": "54e77eb9a7104117b22010121714d47a",
       "version_major": 2,
       "version_minor": 0
      },
      "text/plain": [
       "Running Epoch 189 of 400:   0%|          | 0/5 [00:00<?, ?it/s]"
      ]
     },
     "metadata": {},
     "output_type": "display_data"
    },
    {
     "data": {
      "application/vnd.jupyter.widget-view+json": {
       "model_id": "6d7584eef4e149d7a44c6166efa33421",
       "version_major": 2,
       "version_minor": 0
      },
      "text/plain": [
       "Running Epoch 190 of 400:   0%|          | 0/5 [00:00<?, ?it/s]"
      ]
     },
     "metadata": {},
     "output_type": "display_data"
    },
    {
     "data": {
      "application/vnd.jupyter.widget-view+json": {
       "model_id": "db1c4af6c21d48f99f2f8145dff684e3",
       "version_major": 2,
       "version_minor": 0
      },
      "text/plain": [
       "Running Epoch 191 of 400:   0%|          | 0/5 [00:00<?, ?it/s]"
      ]
     },
     "metadata": {},
     "output_type": "display_data"
    },
    {
     "data": {
      "application/vnd.jupyter.widget-view+json": {
       "model_id": "08a612d101954225ac0e1efe7bb95539",
       "version_major": 2,
       "version_minor": 0
      },
      "text/plain": [
       "Running Epoch 192 of 400:   0%|          | 0/5 [00:00<?, ?it/s]"
      ]
     },
     "metadata": {},
     "output_type": "display_data"
    },
    {
     "data": {
      "application/vnd.jupyter.widget-view+json": {
       "model_id": "ace7d35cbaf7484f80a0ffe3d1030315",
       "version_major": 2,
       "version_minor": 0
      },
      "text/plain": [
       "Running Epoch 193 of 400:   0%|          | 0/5 [00:00<?, ?it/s]"
      ]
     },
     "metadata": {},
     "output_type": "display_data"
    },
    {
     "data": {
      "application/vnd.jupyter.widget-view+json": {
       "model_id": "7b3ae78bfb0c450ebcbf891457a329bf",
       "version_major": 2,
       "version_minor": 0
      },
      "text/plain": [
       "Running Epoch 194 of 400:   0%|          | 0/5 [00:00<?, ?it/s]"
      ]
     },
     "metadata": {},
     "output_type": "display_data"
    },
    {
     "data": {
      "application/vnd.jupyter.widget-view+json": {
       "model_id": "7a4e75e83a5d4a46a0d8ca6cd1eb5fee",
       "version_major": 2,
       "version_minor": 0
      },
      "text/plain": [
       "Running Epoch 195 of 400:   0%|          | 0/5 [00:00<?, ?it/s]"
      ]
     },
     "metadata": {},
     "output_type": "display_data"
    },
    {
     "data": {
      "application/vnd.jupyter.widget-view+json": {
       "model_id": "41bb88b0322b4015bfd5fc8e79b454a2",
       "version_major": 2,
       "version_minor": 0
      },
      "text/plain": [
       "Running Epoch 196 of 400:   0%|          | 0/5 [00:00<?, ?it/s]"
      ]
     },
     "metadata": {},
     "output_type": "display_data"
    },
    {
     "data": {
      "application/vnd.jupyter.widget-view+json": {
       "model_id": "a1de096c96944251acc8943e00852d35",
       "version_major": 2,
       "version_minor": 0
      },
      "text/plain": [
       "Running Epoch 197 of 400:   0%|          | 0/5 [00:00<?, ?it/s]"
      ]
     },
     "metadata": {},
     "output_type": "display_data"
    },
    {
     "data": {
      "application/vnd.jupyter.widget-view+json": {
       "model_id": "eb07098be0fb4de184872c2a61c5d3f0",
       "version_major": 2,
       "version_minor": 0
      },
      "text/plain": [
       "Running Epoch 198 of 400:   0%|          | 0/5 [00:00<?, ?it/s]"
      ]
     },
     "metadata": {},
     "output_type": "display_data"
    },
    {
     "data": {
      "application/vnd.jupyter.widget-view+json": {
       "model_id": "e674096d66a54151835038f2ed8f5569",
       "version_major": 2,
       "version_minor": 0
      },
      "text/plain": [
       "Running Epoch 199 of 400:   0%|          | 0/5 [00:00<?, ?it/s]"
      ]
     },
     "metadata": {},
     "output_type": "display_data"
    },
    {
     "data": {
      "application/vnd.jupyter.widget-view+json": {
       "model_id": "017e4adcfff14fe39cddbfe50205c719",
       "version_major": 2,
       "version_minor": 0
      },
      "text/plain": [
       "Running Epoch 200 of 400:   0%|          | 0/5 [00:00<?, ?it/s]"
      ]
     },
     "metadata": {},
     "output_type": "display_data"
    },
    {
     "data": {
      "application/vnd.jupyter.widget-view+json": {
       "model_id": "2dadd5d5d2894b6c9a8b00cd9dc69fb3",
       "version_major": 2,
       "version_minor": 0
      },
      "text/plain": [
       "Running Epoch 201 of 400:   0%|          | 0/5 [00:00<?, ?it/s]"
      ]
     },
     "metadata": {},
     "output_type": "display_data"
    },
    {
     "data": {
      "application/vnd.jupyter.widget-view+json": {
       "model_id": "598329c4995d4ef187a94b123d830a0b",
       "version_major": 2,
       "version_minor": 0
      },
      "text/plain": [
       "Running Epoch 202 of 400:   0%|          | 0/5 [00:00<?, ?it/s]"
      ]
     },
     "metadata": {},
     "output_type": "display_data"
    },
    {
     "data": {
      "application/vnd.jupyter.widget-view+json": {
       "model_id": "6e8d52cf9b5a42fa87a798e45a9768f2",
       "version_major": 2,
       "version_minor": 0
      },
      "text/plain": [
       "Running Epoch 203 of 400:   0%|          | 0/5 [00:00<?, ?it/s]"
      ]
     },
     "metadata": {},
     "output_type": "display_data"
    },
    {
     "data": {
      "application/vnd.jupyter.widget-view+json": {
       "model_id": "97aa230540f2452f8cd046eaf33bfb4c",
       "version_major": 2,
       "version_minor": 0
      },
      "text/plain": [
       "Running Epoch 204 of 400:   0%|          | 0/5 [00:00<?, ?it/s]"
      ]
     },
     "metadata": {},
     "output_type": "display_data"
    },
    {
     "data": {
      "application/vnd.jupyter.widget-view+json": {
       "model_id": "0084e72142804bd9993b17bd3eaa8cf1",
       "version_major": 2,
       "version_minor": 0
      },
      "text/plain": [
       "Running Epoch 205 of 400:   0%|          | 0/5 [00:00<?, ?it/s]"
      ]
     },
     "metadata": {},
     "output_type": "display_data"
    },
    {
     "data": {
      "application/vnd.jupyter.widget-view+json": {
       "model_id": "c089812ca53943c78ea8efe429928466",
       "version_major": 2,
       "version_minor": 0
      },
      "text/plain": [
       "Running Epoch 206 of 400:   0%|          | 0/5 [00:00<?, ?it/s]"
      ]
     },
     "metadata": {},
     "output_type": "display_data"
    },
    {
     "data": {
      "application/vnd.jupyter.widget-view+json": {
       "model_id": "b2c64bf697794dd9967778bc6a3f0bad",
       "version_major": 2,
       "version_minor": 0
      },
      "text/plain": [
       "Running Epoch 207 of 400:   0%|          | 0/5 [00:00<?, ?it/s]"
      ]
     },
     "metadata": {},
     "output_type": "display_data"
    },
    {
     "data": {
      "application/vnd.jupyter.widget-view+json": {
       "model_id": "a1ddd4b57ea647778fbf85f7b1f5252b",
       "version_major": 2,
       "version_minor": 0
      },
      "text/plain": [
       "Running Epoch 208 of 400:   0%|          | 0/5 [00:00<?, ?it/s]"
      ]
     },
     "metadata": {},
     "output_type": "display_data"
    },
    {
     "data": {
      "application/vnd.jupyter.widget-view+json": {
       "model_id": "4f14752b47de4ca496edcaeb7fe2eb2e",
       "version_major": 2,
       "version_minor": 0
      },
      "text/plain": [
       "Running Epoch 209 of 400:   0%|          | 0/5 [00:00<?, ?it/s]"
      ]
     },
     "metadata": {},
     "output_type": "display_data"
    },
    {
     "data": {
      "application/vnd.jupyter.widget-view+json": {
       "model_id": "4ef8824de2fc476da47e1bd2be87d711",
       "version_major": 2,
       "version_minor": 0
      },
      "text/plain": [
       "Running Epoch 210 of 400:   0%|          | 0/5 [00:00<?, ?it/s]"
      ]
     },
     "metadata": {},
     "output_type": "display_data"
    },
    {
     "data": {
      "application/vnd.jupyter.widget-view+json": {
       "model_id": "718168f35cbd46fc9f89078e1d5a8a2b",
       "version_major": 2,
       "version_minor": 0
      },
      "text/plain": [
       "Running Epoch 211 of 400:   0%|          | 0/5 [00:00<?, ?it/s]"
      ]
     },
     "metadata": {},
     "output_type": "display_data"
    },
    {
     "data": {
      "application/vnd.jupyter.widget-view+json": {
       "model_id": "6d5f1735c2b84041af6d8149191d2cbe",
       "version_major": 2,
       "version_minor": 0
      },
      "text/plain": [
       "Running Epoch 212 of 400:   0%|          | 0/5 [00:00<?, ?it/s]"
      ]
     },
     "metadata": {},
     "output_type": "display_data"
    },
    {
     "data": {
      "application/vnd.jupyter.widget-view+json": {
       "model_id": "0fdcdaf9e6754cf5bd0831f9d19602a0",
       "version_major": 2,
       "version_minor": 0
      },
      "text/plain": [
       "Running Epoch 213 of 400:   0%|          | 0/5 [00:00<?, ?it/s]"
      ]
     },
     "metadata": {},
     "output_type": "display_data"
    },
    {
     "data": {
      "application/vnd.jupyter.widget-view+json": {
       "model_id": "a9c14aa9e313495096c9a611beb25f72",
       "version_major": 2,
       "version_minor": 0
      },
      "text/plain": [
       "Running Epoch 214 of 400:   0%|          | 0/5 [00:00<?, ?it/s]"
      ]
     },
     "metadata": {},
     "output_type": "display_data"
    },
    {
     "data": {
      "application/vnd.jupyter.widget-view+json": {
       "model_id": "3c54e18db25947d698d0ac9f5f15a76c",
       "version_major": 2,
       "version_minor": 0
      },
      "text/plain": [
       "Running Epoch 215 of 400:   0%|          | 0/5 [00:00<?, ?it/s]"
      ]
     },
     "metadata": {},
     "output_type": "display_data"
    },
    {
     "data": {
      "application/vnd.jupyter.widget-view+json": {
       "model_id": "ddcf0d7e2cf04607a42eaa6996533fea",
       "version_major": 2,
       "version_minor": 0
      },
      "text/plain": [
       "Running Epoch 216 of 400:   0%|          | 0/5 [00:00<?, ?it/s]"
      ]
     },
     "metadata": {},
     "output_type": "display_data"
    },
    {
     "data": {
      "application/vnd.jupyter.widget-view+json": {
       "model_id": "5b06527336c04fb9884e76f66747b438",
       "version_major": 2,
       "version_minor": 0
      },
      "text/plain": [
       "Running Epoch 217 of 400:   0%|          | 0/5 [00:00<?, ?it/s]"
      ]
     },
     "metadata": {},
     "output_type": "display_data"
    },
    {
     "data": {
      "application/vnd.jupyter.widget-view+json": {
       "model_id": "bbc5a00e807f4bca9f4edbba33ec0f8a",
       "version_major": 2,
       "version_minor": 0
      },
      "text/plain": [
       "Running Epoch 218 of 400:   0%|          | 0/5 [00:00<?, ?it/s]"
      ]
     },
     "metadata": {},
     "output_type": "display_data"
    },
    {
     "data": {
      "application/vnd.jupyter.widget-view+json": {
       "model_id": "0a3186350f2c42e9bff21aa89f079be9",
       "version_major": 2,
       "version_minor": 0
      },
      "text/plain": [
       "Running Epoch 219 of 400:   0%|          | 0/5 [00:00<?, ?it/s]"
      ]
     },
     "metadata": {},
     "output_type": "display_data"
    },
    {
     "data": {
      "application/vnd.jupyter.widget-view+json": {
       "model_id": "6a8dae2bb7cc4c08a5efd2b5616e5fd9",
       "version_major": 2,
       "version_minor": 0
      },
      "text/plain": [
       "Running Epoch 220 of 400:   0%|          | 0/5 [00:00<?, ?it/s]"
      ]
     },
     "metadata": {},
     "output_type": "display_data"
    },
    {
     "data": {
      "application/vnd.jupyter.widget-view+json": {
       "model_id": "2840bd86a97b473faf6d41efb49f4b64",
       "version_major": 2,
       "version_minor": 0
      },
      "text/plain": [
       "Running Epoch 221 of 400:   0%|          | 0/5 [00:00<?, ?it/s]"
      ]
     },
     "metadata": {},
     "output_type": "display_data"
    },
    {
     "data": {
      "application/vnd.jupyter.widget-view+json": {
       "model_id": "90a695b04fd74e94b8824c47f70156d5",
       "version_major": 2,
       "version_minor": 0
      },
      "text/plain": [
       "Running Epoch 222 of 400:   0%|          | 0/5 [00:00<?, ?it/s]"
      ]
     },
     "metadata": {},
     "output_type": "display_data"
    },
    {
     "data": {
      "application/vnd.jupyter.widget-view+json": {
       "model_id": "d969136fcd2a4c528c38bafd19089557",
       "version_major": 2,
       "version_minor": 0
      },
      "text/plain": [
       "Running Epoch 223 of 400:   0%|          | 0/5 [00:00<?, ?it/s]"
      ]
     },
     "metadata": {},
     "output_type": "display_data"
    },
    {
     "data": {
      "application/vnd.jupyter.widget-view+json": {
       "model_id": "b3af8350dc7c46b3bfdf6f2c685096aa",
       "version_major": 2,
       "version_minor": 0
      },
      "text/plain": [
       "Running Epoch 224 of 400:   0%|          | 0/5 [00:00<?, ?it/s]"
      ]
     },
     "metadata": {},
     "output_type": "display_data"
    },
    {
     "data": {
      "application/vnd.jupyter.widget-view+json": {
       "model_id": "5adb2e2da34c4572bb74de5ea1b20c85",
       "version_major": 2,
       "version_minor": 0
      },
      "text/plain": [
       "Running Epoch 225 of 400:   0%|          | 0/5 [00:00<?, ?it/s]"
      ]
     },
     "metadata": {},
     "output_type": "display_data"
    },
    {
     "data": {
      "application/vnd.jupyter.widget-view+json": {
       "model_id": "35b4f735944744ed8227d5c44864be37",
       "version_major": 2,
       "version_minor": 0
      },
      "text/plain": [
       "Running Epoch 226 of 400:   0%|          | 0/5 [00:00<?, ?it/s]"
      ]
     },
     "metadata": {},
     "output_type": "display_data"
    },
    {
     "data": {
      "application/vnd.jupyter.widget-view+json": {
       "model_id": "e30990568ca34da8b931051edb495e9c",
       "version_major": 2,
       "version_minor": 0
      },
      "text/plain": [
       "Running Epoch 227 of 400:   0%|          | 0/5 [00:00<?, ?it/s]"
      ]
     },
     "metadata": {},
     "output_type": "display_data"
    },
    {
     "data": {
      "application/vnd.jupyter.widget-view+json": {
       "model_id": "8a6c25e92d8c455fbd4439b22298543c",
       "version_major": 2,
       "version_minor": 0
      },
      "text/plain": [
       "Running Epoch 228 of 400:   0%|          | 0/5 [00:00<?, ?it/s]"
      ]
     },
     "metadata": {},
     "output_type": "display_data"
    },
    {
     "data": {
      "application/vnd.jupyter.widget-view+json": {
       "model_id": "99dcc6096fef4c11a86ae773ecea0e1d",
       "version_major": 2,
       "version_minor": 0
      },
      "text/plain": [
       "Running Epoch 229 of 400:   0%|          | 0/5 [00:00<?, ?it/s]"
      ]
     },
     "metadata": {},
     "output_type": "display_data"
    },
    {
     "data": {
      "application/vnd.jupyter.widget-view+json": {
       "model_id": "db5efaa8d80e42a2b6e18cd6d85536a0",
       "version_major": 2,
       "version_minor": 0
      },
      "text/plain": [
       "Running Epoch 230 of 400:   0%|          | 0/5 [00:00<?, ?it/s]"
      ]
     },
     "metadata": {},
     "output_type": "display_data"
    },
    {
     "data": {
      "application/vnd.jupyter.widget-view+json": {
       "model_id": "654268061cb943c5a2e6e281a6cadfcb",
       "version_major": 2,
       "version_minor": 0
      },
      "text/plain": [
       "Running Epoch 231 of 400:   0%|          | 0/5 [00:00<?, ?it/s]"
      ]
     },
     "metadata": {},
     "output_type": "display_data"
    },
    {
     "data": {
      "application/vnd.jupyter.widget-view+json": {
       "model_id": "44e936a5d5d94a07921ba7f156b3dff3",
       "version_major": 2,
       "version_minor": 0
      },
      "text/plain": [
       "Running Epoch 232 of 400:   0%|          | 0/5 [00:00<?, ?it/s]"
      ]
     },
     "metadata": {},
     "output_type": "display_data"
    },
    {
     "data": {
      "application/vnd.jupyter.widget-view+json": {
       "model_id": "d45135b554204559b9439288990bc351",
       "version_major": 2,
       "version_minor": 0
      },
      "text/plain": [
       "Running Epoch 233 of 400:   0%|          | 0/5 [00:00<?, ?it/s]"
      ]
     },
     "metadata": {},
     "output_type": "display_data"
    },
    {
     "data": {
      "application/vnd.jupyter.widget-view+json": {
       "model_id": "1441f8f8c8d9469d98b3f93427101544",
       "version_major": 2,
       "version_minor": 0
      },
      "text/plain": [
       "Running Epoch 234 of 400:   0%|          | 0/5 [00:00<?, ?it/s]"
      ]
     },
     "metadata": {},
     "output_type": "display_data"
    },
    {
     "data": {
      "application/vnd.jupyter.widget-view+json": {
       "model_id": "534c4d776b7c4933a8834595bb0f6bf7",
       "version_major": 2,
       "version_minor": 0
      },
      "text/plain": [
       "Running Epoch 235 of 400:   0%|          | 0/5 [00:00<?, ?it/s]"
      ]
     },
     "metadata": {},
     "output_type": "display_data"
    },
    {
     "data": {
      "application/vnd.jupyter.widget-view+json": {
       "model_id": "4e4a4558b91f4f5db1fbb052031bfe5a",
       "version_major": 2,
       "version_minor": 0
      },
      "text/plain": [
       "Running Epoch 236 of 400:   0%|          | 0/5 [00:00<?, ?it/s]"
      ]
     },
     "metadata": {},
     "output_type": "display_data"
    },
    {
     "data": {
      "application/vnd.jupyter.widget-view+json": {
       "model_id": "e8065db96ed9469b950de15a33421912",
       "version_major": 2,
       "version_minor": 0
      },
      "text/plain": [
       "Running Epoch 237 of 400:   0%|          | 0/5 [00:00<?, ?it/s]"
      ]
     },
     "metadata": {},
     "output_type": "display_data"
    },
    {
     "data": {
      "application/vnd.jupyter.widget-view+json": {
       "model_id": "339ce7e8727544609438ddfec32ba003",
       "version_major": 2,
       "version_minor": 0
      },
      "text/plain": [
       "Running Epoch 238 of 400:   0%|          | 0/5 [00:00<?, ?it/s]"
      ]
     },
     "metadata": {},
     "output_type": "display_data"
    },
    {
     "data": {
      "application/vnd.jupyter.widget-view+json": {
       "model_id": "871a062eb2594e1cb55e7eada1eaf86a",
       "version_major": 2,
       "version_minor": 0
      },
      "text/plain": [
       "Running Epoch 239 of 400:   0%|          | 0/5 [00:00<?, ?it/s]"
      ]
     },
     "metadata": {},
     "output_type": "display_data"
    },
    {
     "data": {
      "application/vnd.jupyter.widget-view+json": {
       "model_id": "183d38a86b064c058418250edaf2ab5a",
       "version_major": 2,
       "version_minor": 0
      },
      "text/plain": [
       "Running Epoch 240 of 400:   0%|          | 0/5 [00:00<?, ?it/s]"
      ]
     },
     "metadata": {},
     "output_type": "display_data"
    },
    {
     "data": {
      "application/vnd.jupyter.widget-view+json": {
       "model_id": "013a06650c9e4e30971a8bd7e4adadc1",
       "version_major": 2,
       "version_minor": 0
      },
      "text/plain": [
       "Running Epoch 241 of 400:   0%|          | 0/5 [00:00<?, ?it/s]"
      ]
     },
     "metadata": {},
     "output_type": "display_data"
    },
    {
     "data": {
      "application/vnd.jupyter.widget-view+json": {
       "model_id": "a558166fe03549508b5ebef107c8cef6",
       "version_major": 2,
       "version_minor": 0
      },
      "text/plain": [
       "Running Epoch 242 of 400:   0%|          | 0/5 [00:00<?, ?it/s]"
      ]
     },
     "metadata": {},
     "output_type": "display_data"
    },
    {
     "data": {
      "application/vnd.jupyter.widget-view+json": {
       "model_id": "86ed5ea0c0ba40989708acd9f95d3604",
       "version_major": 2,
       "version_minor": 0
      },
      "text/plain": [
       "Running Epoch 243 of 400:   0%|          | 0/5 [00:00<?, ?it/s]"
      ]
     },
     "metadata": {},
     "output_type": "display_data"
    },
    {
     "data": {
      "application/vnd.jupyter.widget-view+json": {
       "model_id": "b4f813a510ab4a70968a30b0485d3495",
       "version_major": 2,
       "version_minor": 0
      },
      "text/plain": [
       "Running Epoch 244 of 400:   0%|          | 0/5 [00:00<?, ?it/s]"
      ]
     },
     "metadata": {},
     "output_type": "display_data"
    },
    {
     "data": {
      "application/vnd.jupyter.widget-view+json": {
       "model_id": "0ec5389e988943389c37f7ddb214d781",
       "version_major": 2,
       "version_minor": 0
      },
      "text/plain": [
       "Running Epoch 245 of 400:   0%|          | 0/5 [00:00<?, ?it/s]"
      ]
     },
     "metadata": {},
     "output_type": "display_data"
    },
    {
     "data": {
      "application/vnd.jupyter.widget-view+json": {
       "model_id": "f2bf943ff8ab489ebf489290e762f53e",
       "version_major": 2,
       "version_minor": 0
      },
      "text/plain": [
       "Running Epoch 246 of 400:   0%|          | 0/5 [00:00<?, ?it/s]"
      ]
     },
     "metadata": {},
     "output_type": "display_data"
    },
    {
     "data": {
      "application/vnd.jupyter.widget-view+json": {
       "model_id": "f444196a4ca44754b4492b653e78b0ed",
       "version_major": 2,
       "version_minor": 0
      },
      "text/plain": [
       "Running Epoch 247 of 400:   0%|          | 0/5 [00:00<?, ?it/s]"
      ]
     },
     "metadata": {},
     "output_type": "display_data"
    },
    {
     "data": {
      "application/vnd.jupyter.widget-view+json": {
       "model_id": "18834e1cba964edbbb22158258f353a8",
       "version_major": 2,
       "version_minor": 0
      },
      "text/plain": [
       "Running Epoch 248 of 400:   0%|          | 0/5 [00:00<?, ?it/s]"
      ]
     },
     "metadata": {},
     "output_type": "display_data"
    },
    {
     "data": {
      "application/vnd.jupyter.widget-view+json": {
       "model_id": "a99d6a1e0eea49939eb3fb601c9eec36",
       "version_major": 2,
       "version_minor": 0
      },
      "text/plain": [
       "Running Epoch 249 of 400:   0%|          | 0/5 [00:00<?, ?it/s]"
      ]
     },
     "metadata": {},
     "output_type": "display_data"
    },
    {
     "data": {
      "application/vnd.jupyter.widget-view+json": {
       "model_id": "c8603d979d4c49af925410daaf357fd0",
       "version_major": 2,
       "version_minor": 0
      },
      "text/plain": [
       "Running Epoch 250 of 400:   0%|          | 0/5 [00:00<?, ?it/s]"
      ]
     },
     "metadata": {},
     "output_type": "display_data"
    },
    {
     "data": {
      "application/vnd.jupyter.widget-view+json": {
       "model_id": "4265c47355ee40ff88af6a8a0ab8c01c",
       "version_major": 2,
       "version_minor": 0
      },
      "text/plain": [
       "Running Epoch 251 of 400:   0%|          | 0/5 [00:00<?, ?it/s]"
      ]
     },
     "metadata": {},
     "output_type": "display_data"
    },
    {
     "data": {
      "application/vnd.jupyter.widget-view+json": {
       "model_id": "3c002cf4bc994cfb9c8218ea6720be03",
       "version_major": 2,
       "version_minor": 0
      },
      "text/plain": [
       "Running Epoch 252 of 400:   0%|          | 0/5 [00:00<?, ?it/s]"
      ]
     },
     "metadata": {},
     "output_type": "display_data"
    },
    {
     "data": {
      "application/vnd.jupyter.widget-view+json": {
       "model_id": "f2cf555125954f2ea6518af0c4603b30",
       "version_major": 2,
       "version_minor": 0
      },
      "text/plain": [
       "Running Epoch 253 of 400:   0%|          | 0/5 [00:00<?, ?it/s]"
      ]
     },
     "metadata": {},
     "output_type": "display_data"
    },
    {
     "data": {
      "application/vnd.jupyter.widget-view+json": {
       "model_id": "0136b7c20fdd40f4a85bb16ab8fec02c",
       "version_major": 2,
       "version_minor": 0
      },
      "text/plain": [
       "Running Epoch 254 of 400:   0%|          | 0/5 [00:00<?, ?it/s]"
      ]
     },
     "metadata": {},
     "output_type": "display_data"
    },
    {
     "data": {
      "application/vnd.jupyter.widget-view+json": {
       "model_id": "9c95f2a2dcd34f0ea133e6d25e1cc2ce",
       "version_major": 2,
       "version_minor": 0
      },
      "text/plain": [
       "Running Epoch 255 of 400:   0%|          | 0/5 [00:00<?, ?it/s]"
      ]
     },
     "metadata": {},
     "output_type": "display_data"
    },
    {
     "data": {
      "application/vnd.jupyter.widget-view+json": {
       "model_id": "93e2da4f0c7d4444b9903f9210b6a9d0",
       "version_major": 2,
       "version_minor": 0
      },
      "text/plain": [
       "Running Epoch 256 of 400:   0%|          | 0/5 [00:00<?, ?it/s]"
      ]
     },
     "metadata": {},
     "output_type": "display_data"
    },
    {
     "data": {
      "application/vnd.jupyter.widget-view+json": {
       "model_id": "7287026bea794d31afc302ae58bad274",
       "version_major": 2,
       "version_minor": 0
      },
      "text/plain": [
       "Running Epoch 257 of 400:   0%|          | 0/5 [00:00<?, ?it/s]"
      ]
     },
     "metadata": {},
     "output_type": "display_data"
    },
    {
     "data": {
      "application/vnd.jupyter.widget-view+json": {
       "model_id": "66f46c351fc8467ebcdbdcd5ae23a390",
       "version_major": 2,
       "version_minor": 0
      },
      "text/plain": [
       "Running Epoch 258 of 400:   0%|          | 0/5 [00:00<?, ?it/s]"
      ]
     },
     "metadata": {},
     "output_type": "display_data"
    },
    {
     "data": {
      "application/vnd.jupyter.widget-view+json": {
       "model_id": "231d06ca91d04727ab540bb324b287bb",
       "version_major": 2,
       "version_minor": 0
      },
      "text/plain": [
       "Running Epoch 259 of 400:   0%|          | 0/5 [00:00<?, ?it/s]"
      ]
     },
     "metadata": {},
     "output_type": "display_data"
    },
    {
     "data": {
      "application/vnd.jupyter.widget-view+json": {
       "model_id": "820a3d9681c74beebc9395fa16957d06",
       "version_major": 2,
       "version_minor": 0
      },
      "text/plain": [
       "Running Epoch 260 of 400:   0%|          | 0/5 [00:00<?, ?it/s]"
      ]
     },
     "metadata": {},
     "output_type": "display_data"
    },
    {
     "data": {
      "application/vnd.jupyter.widget-view+json": {
       "model_id": "452ae8a6798f468bb5eb9dbbffee1e09",
       "version_major": 2,
       "version_minor": 0
      },
      "text/plain": [
       "Running Epoch 261 of 400:   0%|          | 0/5 [00:00<?, ?it/s]"
      ]
     },
     "metadata": {},
     "output_type": "display_data"
    },
    {
     "data": {
      "application/vnd.jupyter.widget-view+json": {
       "model_id": "32a2459516bb4b25b6d7cc02990e3d14",
       "version_major": 2,
       "version_minor": 0
      },
      "text/plain": [
       "Running Epoch 262 of 400:   0%|          | 0/5 [00:00<?, ?it/s]"
      ]
     },
     "metadata": {},
     "output_type": "display_data"
    },
    {
     "data": {
      "application/vnd.jupyter.widget-view+json": {
       "model_id": "fcd508d7b7d548d8bbd3bc69710d3ee0",
       "version_major": 2,
       "version_minor": 0
      },
      "text/plain": [
       "Running Epoch 263 of 400:   0%|          | 0/5 [00:00<?, ?it/s]"
      ]
     },
     "metadata": {},
     "output_type": "display_data"
    },
    {
     "data": {
      "application/vnd.jupyter.widget-view+json": {
       "model_id": "ea2a07f5338547d7891d47eeab013a43",
       "version_major": 2,
       "version_minor": 0
      },
      "text/plain": [
       "Running Epoch 264 of 400:   0%|          | 0/5 [00:00<?, ?it/s]"
      ]
     },
     "metadata": {},
     "output_type": "display_data"
    },
    {
     "data": {
      "application/vnd.jupyter.widget-view+json": {
       "model_id": "9cf7832eb32345bfad3ef78a4053bc67",
       "version_major": 2,
       "version_minor": 0
      },
      "text/plain": [
       "Running Epoch 265 of 400:   0%|          | 0/5 [00:00<?, ?it/s]"
      ]
     },
     "metadata": {},
     "output_type": "display_data"
    },
    {
     "data": {
      "application/vnd.jupyter.widget-view+json": {
       "model_id": "c998876bc5624887b13f0ae327be2e49",
       "version_major": 2,
       "version_minor": 0
      },
      "text/plain": [
       "Running Epoch 266 of 400:   0%|          | 0/5 [00:00<?, ?it/s]"
      ]
     },
     "metadata": {},
     "output_type": "display_data"
    },
    {
     "data": {
      "application/vnd.jupyter.widget-view+json": {
       "model_id": "a50630e584c649c2a8ca739eb5333ece",
       "version_major": 2,
       "version_minor": 0
      },
      "text/plain": [
       "Running Epoch 267 of 400:   0%|          | 0/5 [00:00<?, ?it/s]"
      ]
     },
     "metadata": {},
     "output_type": "display_data"
    },
    {
     "data": {
      "application/vnd.jupyter.widget-view+json": {
       "model_id": "3fc2958e72774f00a485fccc50a1e240",
       "version_major": 2,
       "version_minor": 0
      },
      "text/plain": [
       "Running Epoch 268 of 400:   0%|          | 0/5 [00:00<?, ?it/s]"
      ]
     },
     "metadata": {},
     "output_type": "display_data"
    },
    {
     "data": {
      "application/vnd.jupyter.widget-view+json": {
       "model_id": "f90b33c1291543d9a50b621c032160b1",
       "version_major": 2,
       "version_minor": 0
      },
      "text/plain": [
       "Running Epoch 269 of 400:   0%|          | 0/5 [00:00<?, ?it/s]"
      ]
     },
     "metadata": {},
     "output_type": "display_data"
    },
    {
     "data": {
      "application/vnd.jupyter.widget-view+json": {
       "model_id": "dfc98f2ba07f4dd792dd9807652cd785",
       "version_major": 2,
       "version_minor": 0
      },
      "text/plain": [
       "Running Epoch 270 of 400:   0%|          | 0/5 [00:00<?, ?it/s]"
      ]
     },
     "metadata": {},
     "output_type": "display_data"
    },
    {
     "data": {
      "application/vnd.jupyter.widget-view+json": {
       "model_id": "64bc513fd9ff4c6da246fa41827a787f",
       "version_major": 2,
       "version_minor": 0
      },
      "text/plain": [
       "Running Epoch 271 of 400:   0%|          | 0/5 [00:00<?, ?it/s]"
      ]
     },
     "metadata": {},
     "output_type": "display_data"
    },
    {
     "data": {
      "application/vnd.jupyter.widget-view+json": {
       "model_id": "cc11e0abcd7d465e904fbccbb65a7da1",
       "version_major": 2,
       "version_minor": 0
      },
      "text/plain": [
       "Running Epoch 272 of 400:   0%|          | 0/5 [00:00<?, ?it/s]"
      ]
     },
     "metadata": {},
     "output_type": "display_data"
    },
    {
     "data": {
      "application/vnd.jupyter.widget-view+json": {
       "model_id": "290337ef8a444f38a386232a889984f3",
       "version_major": 2,
       "version_minor": 0
      },
      "text/plain": [
       "Running Epoch 273 of 400:   0%|          | 0/5 [00:00<?, ?it/s]"
      ]
     },
     "metadata": {},
     "output_type": "display_data"
    },
    {
     "data": {
      "application/vnd.jupyter.widget-view+json": {
       "model_id": "43c5651220384cee99cb6a7c1d629ece",
       "version_major": 2,
       "version_minor": 0
      },
      "text/plain": [
       "Running Epoch 274 of 400:   0%|          | 0/5 [00:00<?, ?it/s]"
      ]
     },
     "metadata": {},
     "output_type": "display_data"
    },
    {
     "data": {
      "application/vnd.jupyter.widget-view+json": {
       "model_id": "1050ec1930144191bdffc100055599a8",
       "version_major": 2,
       "version_minor": 0
      },
      "text/plain": [
       "Running Epoch 275 of 400:   0%|          | 0/5 [00:00<?, ?it/s]"
      ]
     },
     "metadata": {},
     "output_type": "display_data"
    },
    {
     "data": {
      "application/vnd.jupyter.widget-view+json": {
       "model_id": "b15b10ce53854ec089e8c0f86a9e6f63",
       "version_major": 2,
       "version_minor": 0
      },
      "text/plain": [
       "Running Epoch 276 of 400:   0%|          | 0/5 [00:00<?, ?it/s]"
      ]
     },
     "metadata": {},
     "output_type": "display_data"
    },
    {
     "data": {
      "application/vnd.jupyter.widget-view+json": {
       "model_id": "04c88bdd049c4008b97fa0711c02e61e",
       "version_major": 2,
       "version_minor": 0
      },
      "text/plain": [
       "Running Epoch 277 of 400:   0%|          | 0/5 [00:00<?, ?it/s]"
      ]
     },
     "metadata": {},
     "output_type": "display_data"
    },
    {
     "data": {
      "application/vnd.jupyter.widget-view+json": {
       "model_id": "99cbec33324841e48b1edd269753924f",
       "version_major": 2,
       "version_minor": 0
      },
      "text/plain": [
       "Running Epoch 278 of 400:   0%|          | 0/5 [00:00<?, ?it/s]"
      ]
     },
     "metadata": {},
     "output_type": "display_data"
    },
    {
     "data": {
      "application/vnd.jupyter.widget-view+json": {
       "model_id": "e0abf8dcc65542bf815308c8e71f81b9",
       "version_major": 2,
       "version_minor": 0
      },
      "text/plain": [
       "Running Epoch 279 of 400:   0%|          | 0/5 [00:00<?, ?it/s]"
      ]
     },
     "metadata": {},
     "output_type": "display_data"
    },
    {
     "data": {
      "application/vnd.jupyter.widget-view+json": {
       "model_id": "994ad94a8554400496eb6f9bea92a9b3",
       "version_major": 2,
       "version_minor": 0
      },
      "text/plain": [
       "Running Epoch 280 of 400:   0%|          | 0/5 [00:00<?, ?it/s]"
      ]
     },
     "metadata": {},
     "output_type": "display_data"
    },
    {
     "data": {
      "application/vnd.jupyter.widget-view+json": {
       "model_id": "14f414ea9cf247499835098cc93a4053",
       "version_major": 2,
       "version_minor": 0
      },
      "text/plain": [
       "Running Epoch 281 of 400:   0%|          | 0/5 [00:00<?, ?it/s]"
      ]
     },
     "metadata": {},
     "output_type": "display_data"
    },
    {
     "data": {
      "application/vnd.jupyter.widget-view+json": {
       "model_id": "acd9819957e3455ab89f465c43530964",
       "version_major": 2,
       "version_minor": 0
      },
      "text/plain": [
       "Running Epoch 282 of 400:   0%|          | 0/5 [00:00<?, ?it/s]"
      ]
     },
     "metadata": {},
     "output_type": "display_data"
    },
    {
     "data": {
      "application/vnd.jupyter.widget-view+json": {
       "model_id": "56cfd96068d0405dbf7d14c37de113a8",
       "version_major": 2,
       "version_minor": 0
      },
      "text/plain": [
       "Running Epoch 283 of 400:   0%|          | 0/5 [00:00<?, ?it/s]"
      ]
     },
     "metadata": {},
     "output_type": "display_data"
    },
    {
     "data": {
      "application/vnd.jupyter.widget-view+json": {
       "model_id": "3f1ce66ddbc74aa3ba609a3a21894245",
       "version_major": 2,
       "version_minor": 0
      },
      "text/plain": [
       "Running Epoch 284 of 400:   0%|          | 0/5 [00:00<?, ?it/s]"
      ]
     },
     "metadata": {},
     "output_type": "display_data"
    },
    {
     "data": {
      "application/vnd.jupyter.widget-view+json": {
       "model_id": "9aaad789bd2849a6b1118ad46393b884",
       "version_major": 2,
       "version_minor": 0
      },
      "text/plain": [
       "Running Epoch 285 of 400:   0%|          | 0/5 [00:00<?, ?it/s]"
      ]
     },
     "metadata": {},
     "output_type": "display_data"
    },
    {
     "data": {
      "application/vnd.jupyter.widget-view+json": {
       "model_id": "17e49ea1c342457da8e860d0aa9ecca5",
       "version_major": 2,
       "version_minor": 0
      },
      "text/plain": [
       "Running Epoch 286 of 400:   0%|          | 0/5 [00:00<?, ?it/s]"
      ]
     },
     "metadata": {},
     "output_type": "display_data"
    },
    {
     "data": {
      "application/vnd.jupyter.widget-view+json": {
       "model_id": "dfc42978b9704171871565a667f02a32",
       "version_major": 2,
       "version_minor": 0
      },
      "text/plain": [
       "Running Epoch 287 of 400:   0%|          | 0/5 [00:00<?, ?it/s]"
      ]
     },
     "metadata": {},
     "output_type": "display_data"
    },
    {
     "data": {
      "application/vnd.jupyter.widget-view+json": {
       "model_id": "3a12484f91ec4f818b99c67cfd8149ee",
       "version_major": 2,
       "version_minor": 0
      },
      "text/plain": [
       "Running Epoch 288 of 400:   0%|          | 0/5 [00:00<?, ?it/s]"
      ]
     },
     "metadata": {},
     "output_type": "display_data"
    },
    {
     "data": {
      "application/vnd.jupyter.widget-view+json": {
       "model_id": "a2ac1cf1158e4d24b90c7e1120d5ee1b",
       "version_major": 2,
       "version_minor": 0
      },
      "text/plain": [
       "Running Epoch 289 of 400:   0%|          | 0/5 [00:00<?, ?it/s]"
      ]
     },
     "metadata": {},
     "output_type": "display_data"
    },
    {
     "data": {
      "application/vnd.jupyter.widget-view+json": {
       "model_id": "9d77057252bb45718369e735b8291562",
       "version_major": 2,
       "version_minor": 0
      },
      "text/plain": [
       "Running Epoch 290 of 400:   0%|          | 0/5 [00:00<?, ?it/s]"
      ]
     },
     "metadata": {},
     "output_type": "display_data"
    },
    {
     "data": {
      "application/vnd.jupyter.widget-view+json": {
       "model_id": "bd555a5de54a40d4ae798da8e0da42f1",
       "version_major": 2,
       "version_minor": 0
      },
      "text/plain": [
       "Running Epoch 291 of 400:   0%|          | 0/5 [00:00<?, ?it/s]"
      ]
     },
     "metadata": {},
     "output_type": "display_data"
    },
    {
     "data": {
      "application/vnd.jupyter.widget-view+json": {
       "model_id": "dc744fe344934c78871f1c038dc80f35",
       "version_major": 2,
       "version_minor": 0
      },
      "text/plain": [
       "Running Epoch 292 of 400:   0%|          | 0/5 [00:00<?, ?it/s]"
      ]
     },
     "metadata": {},
     "output_type": "display_data"
    },
    {
     "data": {
      "application/vnd.jupyter.widget-view+json": {
       "model_id": "87ff6c06938f4507b06d20e5ceeaf4dd",
       "version_major": 2,
       "version_minor": 0
      },
      "text/plain": [
       "Running Epoch 293 of 400:   0%|          | 0/5 [00:00<?, ?it/s]"
      ]
     },
     "metadata": {},
     "output_type": "display_data"
    },
    {
     "data": {
      "application/vnd.jupyter.widget-view+json": {
       "model_id": "6b86b2fbf8354c969892ffadd49b56cd",
       "version_major": 2,
       "version_minor": 0
      },
      "text/plain": [
       "Running Epoch 294 of 400:   0%|          | 0/5 [00:00<?, ?it/s]"
      ]
     },
     "metadata": {},
     "output_type": "display_data"
    },
    {
     "data": {
      "application/vnd.jupyter.widget-view+json": {
       "model_id": "00202cf65ff94cafa8d83448fd09c446",
       "version_major": 2,
       "version_minor": 0
      },
      "text/plain": [
       "Running Epoch 295 of 400:   0%|          | 0/5 [00:00<?, ?it/s]"
      ]
     },
     "metadata": {},
     "output_type": "display_data"
    },
    {
     "data": {
      "application/vnd.jupyter.widget-view+json": {
       "model_id": "949a5dc932e943fd8c825183ec7daffc",
       "version_major": 2,
       "version_minor": 0
      },
      "text/plain": [
       "Running Epoch 296 of 400:   0%|          | 0/5 [00:00<?, ?it/s]"
      ]
     },
     "metadata": {},
     "output_type": "display_data"
    },
    {
     "data": {
      "application/vnd.jupyter.widget-view+json": {
       "model_id": "ec962d58e5924ee0a23b0674880ff297",
       "version_major": 2,
       "version_minor": 0
      },
      "text/plain": [
       "Running Epoch 297 of 400:   0%|          | 0/5 [00:00<?, ?it/s]"
      ]
     },
     "metadata": {},
     "output_type": "display_data"
    },
    {
     "data": {
      "application/vnd.jupyter.widget-view+json": {
       "model_id": "7f0fbd331bc44d0099f7266e277e3546",
       "version_major": 2,
       "version_minor": 0
      },
      "text/plain": [
       "Running Epoch 298 of 400:   0%|          | 0/5 [00:00<?, ?it/s]"
      ]
     },
     "metadata": {},
     "output_type": "display_data"
    },
    {
     "data": {
      "application/vnd.jupyter.widget-view+json": {
       "model_id": "2317177eee1b4cf4afa5bee41fe583a1",
       "version_major": 2,
       "version_minor": 0
      },
      "text/plain": [
       "Running Epoch 299 of 400:   0%|          | 0/5 [00:00<?, ?it/s]"
      ]
     },
     "metadata": {},
     "output_type": "display_data"
    },
    {
     "data": {
      "application/vnd.jupyter.widget-view+json": {
       "model_id": "09954f067571455b8f5680368acd7d50",
       "version_major": 2,
       "version_minor": 0
      },
      "text/plain": [
       "Running Epoch 300 of 400:   0%|          | 0/5 [00:00<?, ?it/s]"
      ]
     },
     "metadata": {},
     "output_type": "display_data"
    },
    {
     "data": {
      "application/vnd.jupyter.widget-view+json": {
       "model_id": "991053619fa14537aa89529b21c57968",
       "version_major": 2,
       "version_minor": 0
      },
      "text/plain": [
       "Running Epoch 301 of 400:   0%|          | 0/5 [00:00<?, ?it/s]"
      ]
     },
     "metadata": {},
     "output_type": "display_data"
    },
    {
     "data": {
      "application/vnd.jupyter.widget-view+json": {
       "model_id": "b780bfc7841e45438c461e9f670051cc",
       "version_major": 2,
       "version_minor": 0
      },
      "text/plain": [
       "Running Epoch 302 of 400:   0%|          | 0/5 [00:00<?, ?it/s]"
      ]
     },
     "metadata": {},
     "output_type": "display_data"
    },
    {
     "data": {
      "application/vnd.jupyter.widget-view+json": {
       "model_id": "872b705d917b4f4dafacfc3d850fa3ee",
       "version_major": 2,
       "version_minor": 0
      },
      "text/plain": [
       "Running Epoch 303 of 400:   0%|          | 0/5 [00:00<?, ?it/s]"
      ]
     },
     "metadata": {},
     "output_type": "display_data"
    },
    {
     "data": {
      "application/vnd.jupyter.widget-view+json": {
       "model_id": "4bbafeb86f4b4c438e4d6cf232a6abe9",
       "version_major": 2,
       "version_minor": 0
      },
      "text/plain": [
       "Running Epoch 304 of 400:   0%|          | 0/5 [00:00<?, ?it/s]"
      ]
     },
     "metadata": {},
     "output_type": "display_data"
    },
    {
     "data": {
      "application/vnd.jupyter.widget-view+json": {
       "model_id": "f760e605276d42f6aea75b54997bbc95",
       "version_major": 2,
       "version_minor": 0
      },
      "text/plain": [
       "Running Epoch 305 of 400:   0%|          | 0/5 [00:00<?, ?it/s]"
      ]
     },
     "metadata": {},
     "output_type": "display_data"
    },
    {
     "data": {
      "application/vnd.jupyter.widget-view+json": {
       "model_id": "28a71435756a4232b449c4f25dee2016",
       "version_major": 2,
       "version_minor": 0
      },
      "text/plain": [
       "Running Epoch 306 of 400:   0%|          | 0/5 [00:00<?, ?it/s]"
      ]
     },
     "metadata": {},
     "output_type": "display_data"
    },
    {
     "data": {
      "application/vnd.jupyter.widget-view+json": {
       "model_id": "d9c27e7d8fd0402882b455c3d6b3926c",
       "version_major": 2,
       "version_minor": 0
      },
      "text/plain": [
       "Running Epoch 307 of 400:   0%|          | 0/5 [00:00<?, ?it/s]"
      ]
     },
     "metadata": {},
     "output_type": "display_data"
    },
    {
     "data": {
      "application/vnd.jupyter.widget-view+json": {
       "model_id": "751ebe81d83446539865de371143351d",
       "version_major": 2,
       "version_minor": 0
      },
      "text/plain": [
       "Running Epoch 308 of 400:   0%|          | 0/5 [00:00<?, ?it/s]"
      ]
     },
     "metadata": {},
     "output_type": "display_data"
    },
    {
     "data": {
      "application/vnd.jupyter.widget-view+json": {
       "model_id": "00637a8dd6004ec0ad17283eefcf3455",
       "version_major": 2,
       "version_minor": 0
      },
      "text/plain": [
       "Running Epoch 309 of 400:   0%|          | 0/5 [00:00<?, ?it/s]"
      ]
     },
     "metadata": {},
     "output_type": "display_data"
    },
    {
     "data": {
      "application/vnd.jupyter.widget-view+json": {
       "model_id": "70e49f496ce541adab56bd9ce13bbeb3",
       "version_major": 2,
       "version_minor": 0
      },
      "text/plain": [
       "Running Epoch 310 of 400:   0%|          | 0/5 [00:00<?, ?it/s]"
      ]
     },
     "metadata": {},
     "output_type": "display_data"
    },
    {
     "data": {
      "application/vnd.jupyter.widget-view+json": {
       "model_id": "fdc64d8256e348a09b2ef98e1b3d8d6b",
       "version_major": 2,
       "version_minor": 0
      },
      "text/plain": [
       "Running Epoch 311 of 400:   0%|          | 0/5 [00:00<?, ?it/s]"
      ]
     },
     "metadata": {},
     "output_type": "display_data"
    },
    {
     "data": {
      "application/vnd.jupyter.widget-view+json": {
       "model_id": "f372dc110c0c4249ae1f642ec43484f3",
       "version_major": 2,
       "version_minor": 0
      },
      "text/plain": [
       "Running Epoch 312 of 400:   0%|          | 0/5 [00:00<?, ?it/s]"
      ]
     },
     "metadata": {},
     "output_type": "display_data"
    },
    {
     "data": {
      "application/vnd.jupyter.widget-view+json": {
       "model_id": "3f4b5755b3354b87a9bd35413725c59d",
       "version_major": 2,
       "version_minor": 0
      },
      "text/plain": [
       "Running Epoch 313 of 400:   0%|          | 0/5 [00:00<?, ?it/s]"
      ]
     },
     "metadata": {},
     "output_type": "display_data"
    },
    {
     "data": {
      "application/vnd.jupyter.widget-view+json": {
       "model_id": "419f05c243614f0f87f6b7b767b93010",
       "version_major": 2,
       "version_minor": 0
      },
      "text/plain": [
       "Running Epoch 314 of 400:   0%|          | 0/5 [00:00<?, ?it/s]"
      ]
     },
     "metadata": {},
     "output_type": "display_data"
    },
    {
     "data": {
      "application/vnd.jupyter.widget-view+json": {
       "model_id": "9485c32dfbbb417b97b9e0677204996d",
       "version_major": 2,
       "version_minor": 0
      },
      "text/plain": [
       "Running Epoch 315 of 400:   0%|          | 0/5 [00:00<?, ?it/s]"
      ]
     },
     "metadata": {},
     "output_type": "display_data"
    },
    {
     "data": {
      "application/vnd.jupyter.widget-view+json": {
       "model_id": "a61b2370ed4b47d4adf5cc7fee95a269",
       "version_major": 2,
       "version_minor": 0
      },
      "text/plain": [
       "Running Epoch 316 of 400:   0%|          | 0/5 [00:00<?, ?it/s]"
      ]
     },
     "metadata": {},
     "output_type": "display_data"
    },
    {
     "data": {
      "application/vnd.jupyter.widget-view+json": {
       "model_id": "94203208971743aea2af0f0d7b8e286c",
       "version_major": 2,
       "version_minor": 0
      },
      "text/plain": [
       "Running Epoch 317 of 400:   0%|          | 0/5 [00:00<?, ?it/s]"
      ]
     },
     "metadata": {},
     "output_type": "display_data"
    },
    {
     "data": {
      "application/vnd.jupyter.widget-view+json": {
       "model_id": "12940b92566d4f28b518411109cb60c9",
       "version_major": 2,
       "version_minor": 0
      },
      "text/plain": [
       "Running Epoch 318 of 400:   0%|          | 0/5 [00:00<?, ?it/s]"
      ]
     },
     "metadata": {},
     "output_type": "display_data"
    },
    {
     "data": {
      "application/vnd.jupyter.widget-view+json": {
       "model_id": "0a27e60d92b44bc1945aafea27dcc5bb",
       "version_major": 2,
       "version_minor": 0
      },
      "text/plain": [
       "Running Epoch 319 of 400:   0%|          | 0/5 [00:00<?, ?it/s]"
      ]
     },
     "metadata": {},
     "output_type": "display_data"
    },
    {
     "data": {
      "application/vnd.jupyter.widget-view+json": {
       "model_id": "1ab1b09ea7fc448b94e9e674881f349b",
       "version_major": 2,
       "version_minor": 0
      },
      "text/plain": [
       "Running Epoch 320 of 400:   0%|          | 0/5 [00:00<?, ?it/s]"
      ]
     },
     "metadata": {},
     "output_type": "display_data"
    },
    {
     "data": {
      "application/vnd.jupyter.widget-view+json": {
       "model_id": "497fea94888b40cba38d54fee0b46fe2",
       "version_major": 2,
       "version_minor": 0
      },
      "text/plain": [
       "Running Epoch 321 of 400:   0%|          | 0/5 [00:00<?, ?it/s]"
      ]
     },
     "metadata": {},
     "output_type": "display_data"
    },
    {
     "data": {
      "application/vnd.jupyter.widget-view+json": {
       "model_id": "f531af22085b41118ce0343c787d9ffb",
       "version_major": 2,
       "version_minor": 0
      },
      "text/plain": [
       "Running Epoch 322 of 400:   0%|          | 0/5 [00:00<?, ?it/s]"
      ]
     },
     "metadata": {},
     "output_type": "display_data"
    },
    {
     "data": {
      "application/vnd.jupyter.widget-view+json": {
       "model_id": "5866d7ae34e14e58a438f4b308d66dee",
       "version_major": 2,
       "version_minor": 0
      },
      "text/plain": [
       "Running Epoch 323 of 400:   0%|          | 0/5 [00:00<?, ?it/s]"
      ]
     },
     "metadata": {},
     "output_type": "display_data"
    },
    {
     "data": {
      "application/vnd.jupyter.widget-view+json": {
       "model_id": "da6821a4933044b7bc8e1a796328dc96",
       "version_major": 2,
       "version_minor": 0
      },
      "text/plain": [
       "Running Epoch 324 of 400:   0%|          | 0/5 [00:00<?, ?it/s]"
      ]
     },
     "metadata": {},
     "output_type": "display_data"
    },
    {
     "data": {
      "application/vnd.jupyter.widget-view+json": {
       "model_id": "33c2601871f64865a589a813c1fd5a24",
       "version_major": 2,
       "version_minor": 0
      },
      "text/plain": [
       "Running Epoch 325 of 400:   0%|          | 0/5 [00:00<?, ?it/s]"
      ]
     },
     "metadata": {},
     "output_type": "display_data"
    },
    {
     "data": {
      "application/vnd.jupyter.widget-view+json": {
       "model_id": "1aea66b7dace4d6784ef2ec1fc67f3d5",
       "version_major": 2,
       "version_minor": 0
      },
      "text/plain": [
       "Running Epoch 326 of 400:   0%|          | 0/5 [00:00<?, ?it/s]"
      ]
     },
     "metadata": {},
     "output_type": "display_data"
    },
    {
     "data": {
      "application/vnd.jupyter.widget-view+json": {
       "model_id": "419c1e8de7e84a86aeb7c01aae2b1f53",
       "version_major": 2,
       "version_minor": 0
      },
      "text/plain": [
       "Running Epoch 327 of 400:   0%|          | 0/5 [00:00<?, ?it/s]"
      ]
     },
     "metadata": {},
     "output_type": "display_data"
    },
    {
     "data": {
      "application/vnd.jupyter.widget-view+json": {
       "model_id": "fd901b6ba8fc4d56bb0ace69f8fe6199",
       "version_major": 2,
       "version_minor": 0
      },
      "text/plain": [
       "Running Epoch 328 of 400:   0%|          | 0/5 [00:00<?, ?it/s]"
      ]
     },
     "metadata": {},
     "output_type": "display_data"
    },
    {
     "data": {
      "application/vnd.jupyter.widget-view+json": {
       "model_id": "6316616b10e341a69e58ce0a56c4cd61",
       "version_major": 2,
       "version_minor": 0
      },
      "text/plain": [
       "Running Epoch 329 of 400:   0%|          | 0/5 [00:00<?, ?it/s]"
      ]
     },
     "metadata": {},
     "output_type": "display_data"
    },
    {
     "data": {
      "application/vnd.jupyter.widget-view+json": {
       "model_id": "8c488ffadb7c49daa30cf08d312e1e55",
       "version_major": 2,
       "version_minor": 0
      },
      "text/plain": [
       "Running Epoch 330 of 400:   0%|          | 0/5 [00:00<?, ?it/s]"
      ]
     },
     "metadata": {},
     "output_type": "display_data"
    },
    {
     "data": {
      "application/vnd.jupyter.widget-view+json": {
       "model_id": "d7588678e337472ba3bc962bb392c45f",
       "version_major": 2,
       "version_minor": 0
      },
      "text/plain": [
       "Running Epoch 331 of 400:   0%|          | 0/5 [00:00<?, ?it/s]"
      ]
     },
     "metadata": {},
     "output_type": "display_data"
    },
    {
     "data": {
      "application/vnd.jupyter.widget-view+json": {
       "model_id": "da6027781d524bdfb5e40e160d4c3e64",
       "version_major": 2,
       "version_minor": 0
      },
      "text/plain": [
       "Running Epoch 332 of 400:   0%|          | 0/5 [00:00<?, ?it/s]"
      ]
     },
     "metadata": {},
     "output_type": "display_data"
    },
    {
     "data": {
      "application/vnd.jupyter.widget-view+json": {
       "model_id": "10e66b309828448ba590bd39296bcee0",
       "version_major": 2,
       "version_minor": 0
      },
      "text/plain": [
       "Running Epoch 333 of 400:   0%|          | 0/5 [00:00<?, ?it/s]"
      ]
     },
     "metadata": {},
     "output_type": "display_data"
    },
    {
     "data": {
      "application/vnd.jupyter.widget-view+json": {
       "model_id": "824aa29f855a406f80fa18b8bf00f763",
       "version_major": 2,
       "version_minor": 0
      },
      "text/plain": [
       "Running Epoch 334 of 400:   0%|          | 0/5 [00:00<?, ?it/s]"
      ]
     },
     "metadata": {},
     "output_type": "display_data"
    },
    {
     "data": {
      "application/vnd.jupyter.widget-view+json": {
       "model_id": "fc7338e96b77462a8243843fb19ca875",
       "version_major": 2,
       "version_minor": 0
      },
      "text/plain": [
       "Running Epoch 335 of 400:   0%|          | 0/5 [00:00<?, ?it/s]"
      ]
     },
     "metadata": {},
     "output_type": "display_data"
    },
    {
     "data": {
      "application/vnd.jupyter.widget-view+json": {
       "model_id": "3e9ce992802840eeafdbcd2b2ec480f8",
       "version_major": 2,
       "version_minor": 0
      },
      "text/plain": [
       "Running Epoch 336 of 400:   0%|          | 0/5 [00:00<?, ?it/s]"
      ]
     },
     "metadata": {},
     "output_type": "display_data"
    },
    {
     "data": {
      "application/vnd.jupyter.widget-view+json": {
       "model_id": "a283402e4d7142c4a723dfa478a20670",
       "version_major": 2,
       "version_minor": 0
      },
      "text/plain": [
       "Running Epoch 337 of 400:   0%|          | 0/5 [00:00<?, ?it/s]"
      ]
     },
     "metadata": {},
     "output_type": "display_data"
    },
    {
     "data": {
      "application/vnd.jupyter.widget-view+json": {
       "model_id": "f9057026185346dfa36e8f21c5aea439",
       "version_major": 2,
       "version_minor": 0
      },
      "text/plain": [
       "Running Epoch 338 of 400:   0%|          | 0/5 [00:00<?, ?it/s]"
      ]
     },
     "metadata": {},
     "output_type": "display_data"
    },
    {
     "data": {
      "application/vnd.jupyter.widget-view+json": {
       "model_id": "f1cd7bf94a504a80aa54979805d79c22",
       "version_major": 2,
       "version_minor": 0
      },
      "text/plain": [
       "Running Epoch 339 of 400:   0%|          | 0/5 [00:00<?, ?it/s]"
      ]
     },
     "metadata": {},
     "output_type": "display_data"
    },
    {
     "data": {
      "application/vnd.jupyter.widget-view+json": {
       "model_id": "d6f01dd09fce4c12ab5d451705292fd6",
       "version_major": 2,
       "version_minor": 0
      },
      "text/plain": [
       "Running Epoch 340 of 400:   0%|          | 0/5 [00:00<?, ?it/s]"
      ]
     },
     "metadata": {},
     "output_type": "display_data"
    },
    {
     "data": {
      "application/vnd.jupyter.widget-view+json": {
       "model_id": "e19ab717a4cc4c5aaaf9350642c5f378",
       "version_major": 2,
       "version_minor": 0
      },
      "text/plain": [
       "Running Epoch 341 of 400:   0%|          | 0/5 [00:00<?, ?it/s]"
      ]
     },
     "metadata": {},
     "output_type": "display_data"
    },
    {
     "data": {
      "application/vnd.jupyter.widget-view+json": {
       "model_id": "777f07138099405898267537915b4e3c",
       "version_major": 2,
       "version_minor": 0
      },
      "text/plain": [
       "Running Epoch 342 of 400:   0%|          | 0/5 [00:00<?, ?it/s]"
      ]
     },
     "metadata": {},
     "output_type": "display_data"
    },
    {
     "data": {
      "application/vnd.jupyter.widget-view+json": {
       "model_id": "4d6a56a416bd4e18b3503a24fcd8e331",
       "version_major": 2,
       "version_minor": 0
      },
      "text/plain": [
       "Running Epoch 343 of 400:   0%|          | 0/5 [00:00<?, ?it/s]"
      ]
     },
     "metadata": {},
     "output_type": "display_data"
    },
    {
     "data": {
      "application/vnd.jupyter.widget-view+json": {
       "model_id": "8cd28acc14f54eec8249d5e34b90352c",
       "version_major": 2,
       "version_minor": 0
      },
      "text/plain": [
       "Running Epoch 344 of 400:   0%|          | 0/5 [00:00<?, ?it/s]"
      ]
     },
     "metadata": {},
     "output_type": "display_data"
    },
    {
     "data": {
      "application/vnd.jupyter.widget-view+json": {
       "model_id": "04cdb0e37adf4f41a6ccf7f4fbf0485e",
       "version_major": 2,
       "version_minor": 0
      },
      "text/plain": [
       "Running Epoch 345 of 400:   0%|          | 0/5 [00:00<?, ?it/s]"
      ]
     },
     "metadata": {},
     "output_type": "display_data"
    },
    {
     "data": {
      "application/vnd.jupyter.widget-view+json": {
       "model_id": "d9f5e9cbd746428daaa86704af8fa053",
       "version_major": 2,
       "version_minor": 0
      },
      "text/plain": [
       "Running Epoch 346 of 400:   0%|          | 0/5 [00:00<?, ?it/s]"
      ]
     },
     "metadata": {},
     "output_type": "display_data"
    },
    {
     "data": {
      "application/vnd.jupyter.widget-view+json": {
       "model_id": "6b12b92c343f4e438f4fa7da041ddcca",
       "version_major": 2,
       "version_minor": 0
      },
      "text/plain": [
       "Running Epoch 347 of 400:   0%|          | 0/5 [00:00<?, ?it/s]"
      ]
     },
     "metadata": {},
     "output_type": "display_data"
    },
    {
     "data": {
      "application/vnd.jupyter.widget-view+json": {
       "model_id": "22aa4b3d841a412aa91bae6dd2d6bc35",
       "version_major": 2,
       "version_minor": 0
      },
      "text/plain": [
       "Running Epoch 348 of 400:   0%|          | 0/5 [00:00<?, ?it/s]"
      ]
     },
     "metadata": {},
     "output_type": "display_data"
    },
    {
     "data": {
      "application/vnd.jupyter.widget-view+json": {
       "model_id": "637b24e9e1d547aab95a90a36e06f03e",
       "version_major": 2,
       "version_minor": 0
      },
      "text/plain": [
       "Running Epoch 349 of 400:   0%|          | 0/5 [00:00<?, ?it/s]"
      ]
     },
     "metadata": {},
     "output_type": "display_data"
    },
    {
     "data": {
      "application/vnd.jupyter.widget-view+json": {
       "model_id": "ffdb4f847f494b8cab438347eebd85b2",
       "version_major": 2,
       "version_minor": 0
      },
      "text/plain": [
       "Running Epoch 350 of 400:   0%|          | 0/5 [00:00<?, ?it/s]"
      ]
     },
     "metadata": {},
     "output_type": "display_data"
    },
    {
     "data": {
      "application/vnd.jupyter.widget-view+json": {
       "model_id": "cb64fbe43e424e3385841e3693b2122c",
       "version_major": 2,
       "version_minor": 0
      },
      "text/plain": [
       "Running Epoch 351 of 400:   0%|          | 0/5 [00:00<?, ?it/s]"
      ]
     },
     "metadata": {},
     "output_type": "display_data"
    },
    {
     "data": {
      "application/vnd.jupyter.widget-view+json": {
       "model_id": "2b325fe0a1ce4f9a81a52d4a8a26d137",
       "version_major": 2,
       "version_minor": 0
      },
      "text/plain": [
       "Running Epoch 352 of 400:   0%|          | 0/5 [00:00<?, ?it/s]"
      ]
     },
     "metadata": {},
     "output_type": "display_data"
    },
    {
     "data": {
      "application/vnd.jupyter.widget-view+json": {
       "model_id": "ac1f301364144f9a9acc89410ddf3913",
       "version_major": 2,
       "version_minor": 0
      },
      "text/plain": [
       "Running Epoch 353 of 400:   0%|          | 0/5 [00:00<?, ?it/s]"
      ]
     },
     "metadata": {},
     "output_type": "display_data"
    },
    {
     "data": {
      "application/vnd.jupyter.widget-view+json": {
       "model_id": "ea4db9640f9140478c559d8e8e391a83",
       "version_major": 2,
       "version_minor": 0
      },
      "text/plain": [
       "Running Epoch 354 of 400:   0%|          | 0/5 [00:00<?, ?it/s]"
      ]
     },
     "metadata": {},
     "output_type": "display_data"
    },
    {
     "data": {
      "application/vnd.jupyter.widget-view+json": {
       "model_id": "d40da5250c0148b1ae67a1a45913d1af",
       "version_major": 2,
       "version_minor": 0
      },
      "text/plain": [
       "Running Epoch 355 of 400:   0%|          | 0/5 [00:00<?, ?it/s]"
      ]
     },
     "metadata": {},
     "output_type": "display_data"
    },
    {
     "data": {
      "application/vnd.jupyter.widget-view+json": {
       "model_id": "3c26f83788754e628520630a835414ec",
       "version_major": 2,
       "version_minor": 0
      },
      "text/plain": [
       "Running Epoch 356 of 400:   0%|          | 0/5 [00:00<?, ?it/s]"
      ]
     },
     "metadata": {},
     "output_type": "display_data"
    },
    {
     "data": {
      "application/vnd.jupyter.widget-view+json": {
       "model_id": "e0d45f27562546e98b3e5011c3002a0c",
       "version_major": 2,
       "version_minor": 0
      },
      "text/plain": [
       "Running Epoch 357 of 400:   0%|          | 0/5 [00:00<?, ?it/s]"
      ]
     },
     "metadata": {},
     "output_type": "display_data"
    },
    {
     "data": {
      "application/vnd.jupyter.widget-view+json": {
       "model_id": "9382e7939e35482a86fa003c28aabb37",
       "version_major": 2,
       "version_minor": 0
      },
      "text/plain": [
       "Running Epoch 358 of 400:   0%|          | 0/5 [00:00<?, ?it/s]"
      ]
     },
     "metadata": {},
     "output_type": "display_data"
    },
    {
     "data": {
      "application/vnd.jupyter.widget-view+json": {
       "model_id": "92024ab16d42420f9cb231faeb3ac8e8",
       "version_major": 2,
       "version_minor": 0
      },
      "text/plain": [
       "Running Epoch 359 of 400:   0%|          | 0/5 [00:00<?, ?it/s]"
      ]
     },
     "metadata": {},
     "output_type": "display_data"
    },
    {
     "data": {
      "application/vnd.jupyter.widget-view+json": {
       "model_id": "92116e0118624c879330fde60534d3c2",
       "version_major": 2,
       "version_minor": 0
      },
      "text/plain": [
       "Running Epoch 360 of 400:   0%|          | 0/5 [00:00<?, ?it/s]"
      ]
     },
     "metadata": {},
     "output_type": "display_data"
    },
    {
     "data": {
      "application/vnd.jupyter.widget-view+json": {
       "model_id": "45b3324f0ab849ec985a3e1914f1991c",
       "version_major": 2,
       "version_minor": 0
      },
      "text/plain": [
       "Running Epoch 361 of 400:   0%|          | 0/5 [00:00<?, ?it/s]"
      ]
     },
     "metadata": {},
     "output_type": "display_data"
    },
    {
     "data": {
      "application/vnd.jupyter.widget-view+json": {
       "model_id": "2c3ab4a31c9b4b6982ff9e4fa2a98993",
       "version_major": 2,
       "version_minor": 0
      },
      "text/plain": [
       "Running Epoch 362 of 400:   0%|          | 0/5 [00:00<?, ?it/s]"
      ]
     },
     "metadata": {},
     "output_type": "display_data"
    },
    {
     "data": {
      "application/vnd.jupyter.widget-view+json": {
       "model_id": "352c3f6c0ad7486eb4a72bc7f02dad9a",
       "version_major": 2,
       "version_minor": 0
      },
      "text/plain": [
       "Running Epoch 363 of 400:   0%|          | 0/5 [00:00<?, ?it/s]"
      ]
     },
     "metadata": {},
     "output_type": "display_data"
    },
    {
     "data": {
      "application/vnd.jupyter.widget-view+json": {
       "model_id": "da8969adcf9447e9a8e95cdaadc3f306",
       "version_major": 2,
       "version_minor": 0
      },
      "text/plain": [
       "Running Epoch 364 of 400:   0%|          | 0/5 [00:00<?, ?it/s]"
      ]
     },
     "metadata": {},
     "output_type": "display_data"
    },
    {
     "data": {
      "application/vnd.jupyter.widget-view+json": {
       "model_id": "ab1794113cfe4782b16ac755d66ca25f",
       "version_major": 2,
       "version_minor": 0
      },
      "text/plain": [
       "Running Epoch 365 of 400:   0%|          | 0/5 [00:00<?, ?it/s]"
      ]
     },
     "metadata": {},
     "output_type": "display_data"
    },
    {
     "data": {
      "application/vnd.jupyter.widget-view+json": {
       "model_id": "de5f5e950632480dbce46b6c03ed34fb",
       "version_major": 2,
       "version_minor": 0
      },
      "text/plain": [
       "Running Epoch 366 of 400:   0%|          | 0/5 [00:00<?, ?it/s]"
      ]
     },
     "metadata": {},
     "output_type": "display_data"
    },
    {
     "data": {
      "application/vnd.jupyter.widget-view+json": {
       "model_id": "beecfd183e0d4b79a1d9ce0d93d4dbf3",
       "version_major": 2,
       "version_minor": 0
      },
      "text/plain": [
       "Running Epoch 367 of 400:   0%|          | 0/5 [00:00<?, ?it/s]"
      ]
     },
     "metadata": {},
     "output_type": "display_data"
    },
    {
     "data": {
      "application/vnd.jupyter.widget-view+json": {
       "model_id": "cbfd7afc292f4568aa72537c734636f6",
       "version_major": 2,
       "version_minor": 0
      },
      "text/plain": [
       "Running Epoch 368 of 400:   0%|          | 0/5 [00:00<?, ?it/s]"
      ]
     },
     "metadata": {},
     "output_type": "display_data"
    },
    {
     "data": {
      "application/vnd.jupyter.widget-view+json": {
       "model_id": "f990c522a4674f4abdb075ba66911b99",
       "version_major": 2,
       "version_minor": 0
      },
      "text/plain": [
       "Running Epoch 369 of 400:   0%|          | 0/5 [00:00<?, ?it/s]"
      ]
     },
     "metadata": {},
     "output_type": "display_data"
    },
    {
     "data": {
      "application/vnd.jupyter.widget-view+json": {
       "model_id": "236c48d76c8949319235df07f166616c",
       "version_major": 2,
       "version_minor": 0
      },
      "text/plain": [
       "Running Epoch 370 of 400:   0%|          | 0/5 [00:00<?, ?it/s]"
      ]
     },
     "metadata": {},
     "output_type": "display_data"
    },
    {
     "data": {
      "application/vnd.jupyter.widget-view+json": {
       "model_id": "795b989aa58b4210a7572415284be6aa",
       "version_major": 2,
       "version_minor": 0
      },
      "text/plain": [
       "Running Epoch 371 of 400:   0%|          | 0/5 [00:00<?, ?it/s]"
      ]
     },
     "metadata": {},
     "output_type": "display_data"
    },
    {
     "data": {
      "application/vnd.jupyter.widget-view+json": {
       "model_id": "324ebbd2479e45198e566b465d04f2c3",
       "version_major": 2,
       "version_minor": 0
      },
      "text/plain": [
       "Running Epoch 372 of 400:   0%|          | 0/5 [00:00<?, ?it/s]"
      ]
     },
     "metadata": {},
     "output_type": "display_data"
    },
    {
     "data": {
      "application/vnd.jupyter.widget-view+json": {
       "model_id": "377aea7ea5b94f1cb743cfb6995ab8ec",
       "version_major": 2,
       "version_minor": 0
      },
      "text/plain": [
       "Running Epoch 373 of 400:   0%|          | 0/5 [00:00<?, ?it/s]"
      ]
     },
     "metadata": {},
     "output_type": "display_data"
    },
    {
     "data": {
      "application/vnd.jupyter.widget-view+json": {
       "model_id": "f8f5118eb5c344b185fb76e40f0f214c",
       "version_major": 2,
       "version_minor": 0
      },
      "text/plain": [
       "Running Epoch 374 of 400:   0%|          | 0/5 [00:00<?, ?it/s]"
      ]
     },
     "metadata": {},
     "output_type": "display_data"
    },
    {
     "data": {
      "application/vnd.jupyter.widget-view+json": {
       "model_id": "76d1b19c43974ca7bd15f22d296b9ea1",
       "version_major": 2,
       "version_minor": 0
      },
      "text/plain": [
       "Running Epoch 375 of 400:   0%|          | 0/5 [00:00<?, ?it/s]"
      ]
     },
     "metadata": {},
     "output_type": "display_data"
    },
    {
     "data": {
      "application/vnd.jupyter.widget-view+json": {
       "model_id": "f120d1a32f5e45c7850e6a6729db4792",
       "version_major": 2,
       "version_minor": 0
      },
      "text/plain": [
       "Running Epoch 376 of 400:   0%|          | 0/5 [00:00<?, ?it/s]"
      ]
     },
     "metadata": {},
     "output_type": "display_data"
    },
    {
     "data": {
      "application/vnd.jupyter.widget-view+json": {
       "model_id": "aa566e0051b448ba9d77b4c6aeb515fd",
       "version_major": 2,
       "version_minor": 0
      },
      "text/plain": [
       "Running Epoch 377 of 400:   0%|          | 0/5 [00:00<?, ?it/s]"
      ]
     },
     "metadata": {},
     "output_type": "display_data"
    },
    {
     "data": {
      "application/vnd.jupyter.widget-view+json": {
       "model_id": "8e9b3bb446a3416d8132610a88f56fc8",
       "version_major": 2,
       "version_minor": 0
      },
      "text/plain": [
       "Running Epoch 378 of 400:   0%|          | 0/5 [00:00<?, ?it/s]"
      ]
     },
     "metadata": {},
     "output_type": "display_data"
    },
    {
     "data": {
      "application/vnd.jupyter.widget-view+json": {
       "model_id": "c15344a6f92b4a5ea06c31563e67406d",
       "version_major": 2,
       "version_minor": 0
      },
      "text/plain": [
       "Running Epoch 379 of 400:   0%|          | 0/5 [00:00<?, ?it/s]"
      ]
     },
     "metadata": {},
     "output_type": "display_data"
    },
    {
     "data": {
      "application/vnd.jupyter.widget-view+json": {
       "model_id": "149a2ceac5524d609a52c3849818f545",
       "version_major": 2,
       "version_minor": 0
      },
      "text/plain": [
       "Running Epoch 380 of 400:   0%|          | 0/5 [00:00<?, ?it/s]"
      ]
     },
     "metadata": {},
     "output_type": "display_data"
    },
    {
     "data": {
      "application/vnd.jupyter.widget-view+json": {
       "model_id": "c3f31c9329054f24b2e38288374675bd",
       "version_major": 2,
       "version_minor": 0
      },
      "text/plain": [
       "Running Epoch 381 of 400:   0%|          | 0/5 [00:00<?, ?it/s]"
      ]
     },
     "metadata": {},
     "output_type": "display_data"
    },
    {
     "data": {
      "application/vnd.jupyter.widget-view+json": {
       "model_id": "3a6355380ec04a1c9345a1b2d7181734",
       "version_major": 2,
       "version_minor": 0
      },
      "text/plain": [
       "Running Epoch 382 of 400:   0%|          | 0/5 [00:00<?, ?it/s]"
      ]
     },
     "metadata": {},
     "output_type": "display_data"
    },
    {
     "data": {
      "application/vnd.jupyter.widget-view+json": {
       "model_id": "6826df7d864844d381ab0f742dcd91d4",
       "version_major": 2,
       "version_minor": 0
      },
      "text/plain": [
       "Running Epoch 383 of 400:   0%|          | 0/5 [00:00<?, ?it/s]"
      ]
     },
     "metadata": {},
     "output_type": "display_data"
    },
    {
     "data": {
      "application/vnd.jupyter.widget-view+json": {
       "model_id": "73ec61bfbf29404999699c573bf19ab5",
       "version_major": 2,
       "version_minor": 0
      },
      "text/plain": [
       "Running Epoch 384 of 400:   0%|          | 0/5 [00:00<?, ?it/s]"
      ]
     },
     "metadata": {},
     "output_type": "display_data"
    },
    {
     "data": {
      "application/vnd.jupyter.widget-view+json": {
       "model_id": "f2337b2cb3514e239cb4cd16f4c06b4e",
       "version_major": 2,
       "version_minor": 0
      },
      "text/plain": [
       "Running Epoch 385 of 400:   0%|          | 0/5 [00:00<?, ?it/s]"
      ]
     },
     "metadata": {},
     "output_type": "display_data"
    },
    {
     "data": {
      "application/vnd.jupyter.widget-view+json": {
       "model_id": "ee4abd687f314a6b9397ba225863b034",
       "version_major": 2,
       "version_minor": 0
      },
      "text/plain": [
       "Running Epoch 386 of 400:   0%|          | 0/5 [00:00<?, ?it/s]"
      ]
     },
     "metadata": {},
     "output_type": "display_data"
    },
    {
     "data": {
      "application/vnd.jupyter.widget-view+json": {
       "model_id": "0b78f42f89bf48d6b37552c8bfc63f1b",
       "version_major": 2,
       "version_minor": 0
      },
      "text/plain": [
       "Running Epoch 387 of 400:   0%|          | 0/5 [00:00<?, ?it/s]"
      ]
     },
     "metadata": {},
     "output_type": "display_data"
    },
    {
     "data": {
      "application/vnd.jupyter.widget-view+json": {
       "model_id": "8bfd2725e5974a52a0d0aa2a0f67471d",
       "version_major": 2,
       "version_minor": 0
      },
      "text/plain": [
       "Running Epoch 388 of 400:   0%|          | 0/5 [00:00<?, ?it/s]"
      ]
     },
     "metadata": {},
     "output_type": "display_data"
    },
    {
     "data": {
      "application/vnd.jupyter.widget-view+json": {
       "model_id": "b4376186e8704089bf9cf955fba98998",
       "version_major": 2,
       "version_minor": 0
      },
      "text/plain": [
       "Running Epoch 389 of 400:   0%|          | 0/5 [00:00<?, ?it/s]"
      ]
     },
     "metadata": {},
     "output_type": "display_data"
    },
    {
     "data": {
      "application/vnd.jupyter.widget-view+json": {
       "model_id": "12807a4d205647b8afb13c8284f1aaff",
       "version_major": 2,
       "version_minor": 0
      },
      "text/plain": [
       "Running Epoch 390 of 400:   0%|          | 0/5 [00:00<?, ?it/s]"
      ]
     },
     "metadata": {},
     "output_type": "display_data"
    },
    {
     "data": {
      "application/vnd.jupyter.widget-view+json": {
       "model_id": "71cde8c441c8457792512a27e314ee90",
       "version_major": 2,
       "version_minor": 0
      },
      "text/plain": [
       "Running Epoch 391 of 400:   0%|          | 0/5 [00:00<?, ?it/s]"
      ]
     },
     "metadata": {},
     "output_type": "display_data"
    },
    {
     "data": {
      "application/vnd.jupyter.widget-view+json": {
       "model_id": "b566143428f545a99fe4318a591dbe93",
       "version_major": 2,
       "version_minor": 0
      },
      "text/plain": [
       "Running Epoch 392 of 400:   0%|          | 0/5 [00:00<?, ?it/s]"
      ]
     },
     "metadata": {},
     "output_type": "display_data"
    },
    {
     "data": {
      "application/vnd.jupyter.widget-view+json": {
       "model_id": "037575f3796d47b8b9f2e24d6a35f598",
       "version_major": 2,
       "version_minor": 0
      },
      "text/plain": [
       "Running Epoch 393 of 400:   0%|          | 0/5 [00:00<?, ?it/s]"
      ]
     },
     "metadata": {},
     "output_type": "display_data"
    },
    {
     "data": {
      "application/vnd.jupyter.widget-view+json": {
       "model_id": "f7e7e9b9a40a4640b8d719b438e029ae",
       "version_major": 2,
       "version_minor": 0
      },
      "text/plain": [
       "Running Epoch 394 of 400:   0%|          | 0/5 [00:00<?, ?it/s]"
      ]
     },
     "metadata": {},
     "output_type": "display_data"
    },
    {
     "data": {
      "application/vnd.jupyter.widget-view+json": {
       "model_id": "ad038c46fbfb4fcab50859e97f2b4a06",
       "version_major": 2,
       "version_minor": 0
      },
      "text/plain": [
       "Running Epoch 395 of 400:   0%|          | 0/5 [00:00<?, ?it/s]"
      ]
     },
     "metadata": {},
     "output_type": "display_data"
    },
    {
     "data": {
      "application/vnd.jupyter.widget-view+json": {
       "model_id": "e462488410f44a35ba8caa399b3cb3d9",
       "version_major": 2,
       "version_minor": 0
      },
      "text/plain": [
       "Running Epoch 396 of 400:   0%|          | 0/5 [00:00<?, ?it/s]"
      ]
     },
     "metadata": {},
     "output_type": "display_data"
    },
    {
     "data": {
      "application/vnd.jupyter.widget-view+json": {
       "model_id": "18c2f58eb41645e3bc71efe36821bd8d",
       "version_major": 2,
       "version_minor": 0
      },
      "text/plain": [
       "Running Epoch 397 of 400:   0%|          | 0/5 [00:00<?, ?it/s]"
      ]
     },
     "metadata": {},
     "output_type": "display_data"
    },
    {
     "data": {
      "application/vnd.jupyter.widget-view+json": {
       "model_id": "6b9a94e2684144199cb810be50dc3f15",
       "version_major": 2,
       "version_minor": 0
      },
      "text/plain": [
       "Running Epoch 398 of 400:   0%|          | 0/5 [00:00<?, ?it/s]"
      ]
     },
     "metadata": {},
     "output_type": "display_data"
    },
    {
     "data": {
      "application/vnd.jupyter.widget-view+json": {
       "model_id": "bc550dc882fc489a9fb76d32a746db7f",
       "version_major": 2,
       "version_minor": 0
      },
      "text/plain": [
       "Running Epoch 399 of 400:   0%|          | 0/5 [00:00<?, ?it/s]"
      ]
     },
     "metadata": {},
     "output_type": "display_data"
    },
    {
     "name": "stderr",
     "output_type": "stream",
     "text": [
      "INFO:simpletransformers.language_modeling.language_modeling_model: Training of gpt2 model complete. Saved to outputs/.\n",
      "INFO:simpletransformers.language_modeling.language_modeling_utils: Creating features from dataset file at cache_dir/\n"
     ]
    },
    {
     "data": {
      "application/vnd.jupyter.widget-view+json": {
       "model_id": "27dba11d934948378cd0c15a9c62b96d",
       "version_major": 2,
       "version_minor": 0
      },
      "text/plain": [
       "  0%|          | 0/115 [00:00<?, ?it/s]"
      ]
     },
     "metadata": {},
     "output_type": "display_data"
    },
    {
     "data": {
      "application/vnd.jupyter.widget-view+json": {
       "model_id": "91c781e109b84dc2899490154c1011e2",
       "version_major": 2,
       "version_minor": 0
      },
      "text/plain": [
       "  0%|          | 0/36 [00:00<?, ?it/s]"
      ]
     },
     "metadata": {},
     "output_type": "display_data"
    },
    {
     "name": "stderr",
     "output_type": "stream",
     "text": [
      "INFO:simpletransformers.language_modeling.language_modeling_utils: Saving features into cached file cache_dir/gpt2_cached_lm_126_test.txt\n"
     ]
    },
    {
     "data": {
      "application/vnd.jupyter.widget-view+json": {
       "model_id": "6670168c7c0346a190b3c2d51ed7a7bb",
       "version_major": 2,
       "version_minor": 0
      },
      "text/plain": [
       "Running Evaluation:   0%|          | 0/5 [00:00<?, ?it/s]"
      ]
     },
     "metadata": {},
     "output_type": "display_data"
    },
    {
     "name": "stderr",
     "output_type": "stream",
     "text": [
      "INFO:simpletransformers.language_modeling.language_modeling_model:{'eval_loss': 0.002050214831251651, 'perplexity': tensor(1.0021)}\n"
     ]
    }
   ],
   "source": [
    "import logging\n",
    "\n",
    "from simpletransformers.language_modeling import (\n",
    "    LanguageModelingModel,\n",
    "    LanguageModelingArgs,\n",
    ")\n",
    "\n",
    "logging.basicConfig(level=logging.INFO)\n",
    "transformers_logger = logging.getLogger(\"transformers\")\n",
    "transformers_logger.setLevel(logging.WARNING)\n",
    "\n",
    "model_args = LanguageModelingArgs()\n",
    "model_args.reprocess_input_data = True\n",
    "model_args.overwrite_output_dir = True\n",
    "model_args.num_train_epochs = 400\n",
    "model_args.dataset_type = \"simple\"\n",
    "model_args.mlm = False  # mlm must be False for CLM\n",
    "model_args.fp16=False\n",
    "#model_args.vocab_size = 30000\n",
    "model_args.save_model_every_epoch = False\n",
    "model_args.save_best_model = True\n",
    "\n",
    "train_file = \"data/train.txt\"\n",
    "test_file = \"data/test.txt\"\n",
    "\n",
    "model = LanguageModelingModel(\n",
    "    \"gpt2\", \"gpt2\", args=model_args, use_cuda=True, train_files=train_file, \n",
    ")\n",
    "\n",
    "# Train the model\n",
    "model.train_model(train_file, eval_file=test_file)\n",
    "\n",
    "# Evaluate the model\n",
    "result = model.eval_model(test_file)"
   ]
  },
  {
   "cell_type": "markdown",
   "id": "requested-classics",
   "metadata": {},
   "source": [
    "#### Explore recall of story using trained model"
   ]
  },
  {
   "cell_type": "code",
   "execution_count": 8,
   "id": "blank-works",
   "metadata": {},
   "outputs": [],
   "source": [
    "from simpletransformers.language_generation import LanguageGenerationModel, LanguageGenerationArgs\n",
    "import logging\n",
    "\n",
    "def generate_with_params(temperature=1.0):\n",
    "    model_args = LanguageGenerationArgs()\n",
    "    model_args.temperature = temperature\n",
    "    model_args.do_sampling= True\n",
    "    model_args.max_length = 500\n",
    "    model_args.num_beams = 1\n",
    "    model_args.repetition_penalty = 1.05\n",
    "    model_args.top_k = 50\n",
    "\n",
    "    model = LanguageGenerationModel(\"gpt2\", \"./outputs_set_1/\", args=model_args)\n",
    "    \n",
    "    return model.generate(bartlett[0])"
   ]
  },
  {
   "cell_type": "code",
   "execution_count": 9,
   "id": "enhanced-electronics",
   "metadata": {},
   "outputs": [
    {
     "name": "stderr",
     "output_type": "stream",
     "text": [
      "Setting `pad_token_id` to `eos_token_id`:50256 for open-end generation.\n",
      "Setting `pad_token_id` to `eos_token_id`:50256 for open-end generation.\n",
      "Setting `pad_token_id` to `eos_token_id`:50256 for open-end generation.\n",
      "Setting `pad_token_id` to `eos_token_id`:50256 for open-end generation.\n",
      "Setting `pad_token_id` to `eos_token_id`:50256 for open-end generation.\n",
      "Setting `pad_token_id` to `eos_token_id`:50256 for open-end generation.\n",
      "Setting `pad_token_id` to `eos_token_id`:50256 for open-end generation.\n",
      "Setting `pad_token_id` to `eos_token_id`:50256 for open-end generation.\n",
      "Setting `pad_token_id` to `eos_token_id`:50256 for open-end generation.\n",
      "Setting `pad_token_id` to `eos_token_id`:50256 for open-end generation.\n",
      "Setting `pad_token_id` to `eos_token_id`:50256 for open-end generation.\n",
      "Setting `pad_token_id` to `eos_token_id`:50256 for open-end generation.\n",
      "Setting `pad_token_id` to `eos_token_id`:50256 for open-end generation.\n",
      "Setting `pad_token_id` to `eos_token_id`:50256 for open-end generation.\n",
      "Setting `pad_token_id` to `eos_token_id`:50256 for open-end generation.\n",
      "Setting `pad_token_id` to `eos_token_id`:50256 for open-end generation.\n",
      "Setting `pad_token_id` to `eos_token_id`:50256 for open-end generation.\n",
      "Setting `pad_token_id` to `eos_token_id`:50256 for open-end generation.\n",
      "Setting `pad_token_id` to `eos_token_id`:50256 for open-end generation.\n",
      "Setting `pad_token_id` to `eos_token_id`:50256 for open-end generation.\n"
     ]
    }
   ],
   "source": [
    "generated = {}\n",
    "generated['set_1'] = {}\n",
    "\n",
    "for i in [0.1,0.5,1.0,1.5,2.0]:\n",
    "    gen_list = []\n",
    "    for n in range(4):\n",
    "        gen_list.append(generate_with_params(temperature=i))\n",
    "    generated['set_1'][i] = gen_list"
   ]
  },
  {
   "cell_type": "code",
   "execution_count": 24,
   "id": "transsexual-tribute",
   "metadata": {},
   "outputs": [
    {
     "data": {
      "text/plain": [
       "[\"One night two young men from Egulac went down to the river to hunt seals and while they were there it became foggy and calm.Then they heard war-cries, and they thought: 'Maybe this is a war-party'.They escaped to the shore, and hid behind a log.Now canoes came up, and they heard the noise of paddles, and saw one canoe coming up to them.There were five men in the canoe, and they said:What do you think? We wish to take you along. We are going up the river to make war on the people.One of the young men said,'I have no quarrel with you,' and pointed out to the other: 'You are a spy.'So the young man said,'I have no quarrel with you,' and replied: 'If I may say so, I will.'So the canoe went back up the river to a town on the other side of Kalama.The people came down to the water, and they began to fight, and many were killed.But presently the young man heard one of the warriors say,'Quick, let us go home: that man has no fear of the people. He has no fear of the sun, and he has no desire to fight.He told them: 'Behold I accompanied the enemy, and we went up the river to make war on the people.One of the young officers said,'I have no quarrel with you,' and said: 'I have no quarrel with you,' and then he added: 'Any one who attacks me will be killed.Let us go home: that man has no fear of the people. He has no fear of the sun, and he has not mind to fight.'So the warriors went ashore to where their camp was, and they began to fight, and many were killed.But presently the young man heard one of those warriors say,'Quick, let us go home: that person has no fear of the people. He has only fear of the sun, and he has not desire to fight.'So the warriors went ashore to a town on the other side of Kalama; and they began to fight, and many were killed.But presently the soldier heard one of the warriors say,'Quick, let us go home:' and moved on down the river to a town on the other side of Kalama.The people came down to the water, and they began to fight, and many were killed.But presently the young man heard one of these warriors say,'Quick, let us go home: that man has all the power over the people:\"]"
      ]
     },
     "execution_count": 24,
     "metadata": {},
     "output_type": "execute_result"
    }
   ],
   "source": [
    "#generated['set_1'][0.5][1]\n",
    "#generated['set_1'][1.5][1]\n",
    "generated['set_1'][1.5][2]"
   ]
  },
  {
   "cell_type": "code",
   "execution_count": 14,
   "id": "differential-principle",
   "metadata": {},
   "outputs": [
    {
     "name": "stdout",
     "output_type": "stream",
     "text": [
      "Temperature = 0.1:\n"
     ]
    },
    {
     "data": {
      "image/png": "[encoded data removed]",
      "text/plain": [
       "<Figure size 720x360 with 1 Axes>"
      ]
     },
     "metadata": {
      "needs_background": "light"
     },
     "output_type": "display_data"
    },
    {
     "name": "stdout",
     "output_type": "stream",
     "text": [
      "Temperature = 0.5:\n"
     ]
    },
    {
     "data": {
      "image/png": "[encoded data removed]",
      "text/plain": [
       "<Figure size 720x360 with 1 Axes>"
      ]
     },
     "metadata": {
      "needs_background": "light"
     },
     "output_type": "display_data"
    },
    {
     "name": "stdout",
     "output_type": "stream",
     "text": [
      "Temperature = 1.0:\n"
     ]
    },
    {
     "data": {
      "image/png": "[encoded data removed]",
      "text/plain": [
       "<Figure size 720x360 with 1 Axes>"
      ]
     },
     "metadata": {
      "needs_background": "light"
     },
     "output_type": "display_data"
    },
    {
     "name": "stdout",
     "output_type": "stream",
     "text": [
      "Temperature = 1.5:\n"
     ]
    },
    {
     "data": {
      "image/png": "[encoded data removed]",
      "text/plain": [
       "<Figure size 720x360 with 1 Axes>"
      ]
     },
     "metadata": {
      "needs_background": "light"
     },
     "output_type": "display_data"
    },
    {
     "name": "stdout",
     "output_type": "stream",
     "text": [
      "Temperature = 2.0:\n"
     ]
    },
    {
     "data": {
      "image/png": "[encoded data removed]",
      "text/plain": [
       "<Figure size 720x360 with 1 Axes>"
      ]
     },
     "metadata": {
      "needs_background": "light"
     },
     "output_type": "display_data"
    }
   ],
   "source": [
    "from wordcloud import WordCloud\n",
    "import matplotlib.pyplot as plt\n",
    "\n",
    "bartlett_stopwords = ' '.join(bartlett).replace('.', '').replace(',', '').split()\n",
    "\n",
    "for temp in [0.1,0.5,1.0,1.5,2.0]:\n",
    "    print(\"Temperature = {}:\".format(temp))\n",
    "    items = [item[0] for item in generated['set_1'][temp]]\n",
    "    text = ' '.join(items)\n",
    "\n",
    "    wordcloud = WordCloud(width=600, height=400, background_color=\"white\", max_font_size=50, stopwords=bartlett_stopwords).generate(text)\n",
    "    plt.figure(figsize=(10,5))\n",
    "    plt.imshow(wordcloud, interpolation=\"bilinear\")\n",
    "    plt.axis(\"off\")\n",
    "    plt.show()"
   ]
  }
 ],
 "metadata": {
  "kernelspec": {
   "display_name": "conda_amazonei_pytorch_latest_p36",
   "language": "python",
   "name": "conda_amazonei_pytorch_latest_p36"
  },
  "language_info": {
   "codemirror_mode": {
    "name": "ipython",
    "version": 3
   },
   "file_extension": ".py",
   "mimetype": "text/x-python",
   "name": "python",
   "nbconvert_exporter": "python",
   "pygments_lexer": "ipython3",
   "version": "3.6.6"
  }
 },
 "nbformat": 4,
 "nbformat_minor": 5
}
