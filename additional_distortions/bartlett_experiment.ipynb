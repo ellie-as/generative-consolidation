{
 "cells": [
  {
   "cell_type": "markdown",
   "id": "cbb8ddc3",
   "metadata": {},
   "source": [
    "### Bartlett experiment with GPT-2\n",
    "\n",
    "* This notebook fine-tunes GPT-2 on the story from the Bartlett experiment (1932) plus contextual data, in order to explore how generative models produce distortions\n",
    "* This context is taken from the cnn_dailymail dataset of news article content (see https://www.tensorflow.org/datasets/catalog/cnn_dailymail for further details)\n",
    "* We then explore recall of Bartlett story - can substitutions and confabulations be observed in generative recall?\n",
    "* How does temperature parameter for sampling explore level of distortion?"
   ]
  },
  {
   "cell_type": "markdown",
   "id": "6350cae9",
   "metadata": {},
   "source": [
    "#### Installation:"
   ]
  },
  {
   "cell_type": "code",
   "execution_count": null,
   "id": "61bcda51",
   "metadata": {},
   "outputs": [],
   "source": [
    "!pip install simpletransformers\n",
    "!pip install wordcloud"
   ]
  },
  {
   "cell_type": "markdown",
   "id": "b7822371",
   "metadata": {},
   "source": [
    "#### Imports:"
   ]
  },
  {
   "cell_type": "code",
   "execution_count": null,
   "id": "7eb64462",
   "metadata": {},
   "outputs": [],
   "source": [
    "import logging\n",
    "from wordcloud import WordCloud\n",
    "import matplotlib.pyplot as plt\n",
    "from simpletransformers.language_modeling import (\n",
    "    LanguageModelingModel,\n",
    "    LanguageModelingArgs,\n",
    ")\n",
    "from simpletransformers.language_generation import LanguageGenerationModel, LanguageGenerationArgs"
   ]
  },
  {
   "cell_type": "code",
   "execution_count": null,
   "id": "295764ce",
   "metadata": {},
   "outputs": [],
   "source": [
    "bartlett = [\"One night two young men from Egulac went down to the river to hunt seals and while they were there it became foggy and calm.\", \n",
    "            \"Then they heard war-cries, and they thought: 'Maybe this is a war-party'.\",\n",
    "            \"They escaped to the shore, and hid behind a log.\",\n",
    "            \"Now canoes came up, and they heard the noise of paddles, and saw one canoe coming up to them.\",\n",
    "            \"There were five men in the canoe, and they said:\"\n",
    "            \"What do you think? We wish to take you along. We are going up the river to make war on the people.\",\n",
    "            \"One of the young men said,'I have no arrows.'\",\n",
    "            \"'Arrows are in the canoe,'' they said.\",\n",
    "            \"'I will not go along. I might be killed. My relatives do not know where I have gone. But you,' he said, turning to the other, 'may go with them.'\",\n",
    "            \"So one of the young men went, but the other returned home.\",\n",
    "            \"And the warriors went on up the river to a town on the other side of Kalama.\",\n",
    "            \"The people came down to the water and they began to fight, and many were killed.\",\n",
    "            \"But presently the young man heard one of the warriors say, 'Quick, let us go home: that man has been hit.'\", \n",
    "            \"Now he thought: 'Oh, they are ghosts.' He did not feel sick, but they said he had been shot.\",\n",
    "            \"So the canoes went back to Egulac and the young man went ashore to his house and made a fire.\",\n",
    "            \"And he told everybody and said: 'Behold I accompanied the ghosts, and we went to fight. Many of our fellows were killed, and many of those who attacked us were killed. They said I was hit, and I did not feel sick.'\",\n",
    "            \"He told it all, and then he became quiet. When the sun rose he fell down.\", \n",
    "            \"Something black came out of his mouth. His face became contorted. The people jumped up and cried. He was dead.\"\n",
    "           ]"
   ]
  },
  {
   "cell_type": "code",
   "execution_count": null,
   "id": "0554ba5c",
   "metadata": {},
   "outputs": [],
   "source": [
    "sents_list = bartlett"
   ]
  },
  {
   "cell_type": "code",
   "execution_count": null,
   "id": "ab7153c4",
   "metadata": {},
   "outputs": [],
   "source": [
    "with open('train.txt', 'w') as fh:\n",
    "    fh.write('\\n'.join(sents_list))\n",
    "    \n",
    "with open('test.txt', 'w') as fh:\n",
    "    fh.write('\\n'.join(sents_list))"
   ]
  },
  {
   "cell_type": "markdown",
   "id": "95a8177a",
   "metadata": {},
   "source": [
    "#### Train model"
   ]
  },
  {
   "cell_type": "code",
   "execution_count": null,
   "id": "34a78b36",
   "metadata": {},
   "outputs": [],
   "source": [
    "logging.basicConfig(level=logging.INFO)\n",
    "transformers_logger = logging.getLogger(\"transformers\")\n",
    "transformers_logger.setLevel(logging.WARNING)\n",
    "\n",
    "model_args = LanguageModelingArgs()\n",
    "model_args.reprocess_input_data = True\n",
    "model_args.overwrite_output_dir = True\n",
    "model_args.num_train_epochs = 400\n",
    "model_args.dataset_type = \"simple\"\n",
    "model_args.mlm = False\n",
    "model_args.fp16=False\n",
    "model_args.save_model_every_epoch = False\n",
    "model_args.save_best_model = True\n",
    "\n",
    "train_file = \"train.txt\"\n",
    "test_file = \"test.txt\"\n",
    "\n",
    "model = LanguageModelingModel(\n",
    "    \"gpt2\", \"gpt2\", args=model_args, use_cuda=True, train_files=train_file, \n",
    ")\n",
    "\n",
    "# Train the model\n",
    "model.train_model(train_file, eval_file=test_file)\n",
    "\n",
    "# Evaluate the model\n",
    "result = model.eval_model(test_file)"
   ]
  },
  {
   "cell_type": "code",
   "execution_count": null,
   "id": "63df6f41",
   "metadata": {},
   "outputs": [],
   "source": [
    "#!rm -rf outputs"
   ]
  },
  {
   "cell_type": "markdown",
   "id": "58de224a",
   "metadata": {},
   "source": [
    "#### Explore recall of story using trained model"
   ]
  },
  {
   "cell_type": "code",
   "execution_count": null,
   "id": "1cc4cb38",
   "metadata": {},
   "outputs": [],
   "source": [
    "def generate_with_params(temperature=1.0):\n",
    "    model_args = LanguageGenerationArgs()\n",
    "    model_args.temperature = temperature\n",
    "    model_args.do_sampling= True\n",
    "    model_args.max_length = 500\n",
    "    model_args.num_beams = 1\n",
    "    model_args.repetition_penalty = 1.05\n",
    "    model_args.top_k = 50\n",
    "\n",
    "    model = LanguageGenerationModel(\"gpt2\", \"./outputs\", args=model_args)\n",
    "    \n",
    "    return model.generate(bartlett[0])"
   ]
  },
  {
   "cell_type": "code",
   "execution_count": null,
   "id": "bf59944f",
   "metadata": {},
   "outputs": [],
   "source": [
    "generated = {}\n",
    "generated['set_1'] = {}\n",
    "\n",
    "for i in [0.01,0.5,1.0,1.5,2.0]:\n",
    "    gen_list = []\n",
    "    for n in range(4):\n",
    "        gen_list.append(generate_with_params(temperature=i))\n",
    "    generated['set_1'][i] = gen_list"
   ]
  },
  {
   "cell_type": "code",
   "execution_count": null,
   "id": "89bdb520",
   "metadata": {},
   "outputs": [],
   "source": [
    "import re\n",
    "bartlett_stopwords = ' '.join(bartlett).lower().replace(':', ' ').split(' ')\n",
    "bartlett_stopwords = [re.sub(r\"[']\", '', b) for b in bartlett_stopwords]\n",
    "bartlett_stopwords = [re.sub(r\"[^a-zA-Z0-9-]\", ' ', b).strip() for b in bartlett_stopwords]"
   ]
  },
  {
   "cell_type": "code",
   "execution_count": null,
   "id": "a819d90c",
   "metadata": {},
   "outputs": [],
   "source": [
    "import matplotlib\n",
    "matplotlib.rcParams.update({'font.size': 14})\n",
    "\n",
    "for temp in [0.01,0.5,1.0,1.5,2.0]:\n",
    "    print(\"Temperature = {}:\".format(temp))\n",
    "    items = [item[0].lower() for item in generated['set_1'][temp]]\n",
    "    text = ' '.join(items).replace(':', ' ')\n",
    "    text = re.sub(r\"[']\", '', text)\n",
    "    text = re.sub(r\"[^a-zA-Z0-9-]\", ' ', text)\n",
    "    \n",
    "    print(len([t for t in text.split() if t not in bartlett_stopwords]))\n",
    "    \n",
    "    wordcloud = WordCloud(width=600, height=400, background_color=\"white\", max_font_size=50, stopwords=bartlett_stopwords).generate(text)\n",
    "    fig = plt.figure(figsize=(10,5))\n",
    "    plt.imshow(wordcloud, interpolation=\"bilinear\")\n",
    "    plt.axis(\"off\")\n",
    "    plt.title(\"Temperature = {}:\".format(temp))\n",
    "    fig.savefig('wordcloud_{}.png'.format(temp))"
   ]
  }
 ],
 "metadata": {
  "kernelspec": {
   "display_name": "conda_pytorch_latest_p36",
   "language": "python",
   "name": "conda_pytorch_latest_p36"
  },
  "language_info": {
   "codemirror_mode": {
    "name": "ipython",
    "version": 3
   },
   "file_extension": ".py",
   "mimetype": "text/x-python",
   "name": "python",
   "nbconvert_exporter": "python",
   "pygments_lexer": "ipython3",
   "version": "3.6.13"
  }
 },
 "nbformat": 4,
 "nbformat_minor": 5
}
