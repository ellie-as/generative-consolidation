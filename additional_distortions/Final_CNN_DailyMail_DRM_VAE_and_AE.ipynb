{
 "cells": [
  {
   "cell_type": "markdown",
   "metadata": {},
   "source": [
    "### Modelling memory distortions with a variational autoencoder: DRM experiment using news articles dataset\n",
    "\n",
    "The Deese-Roediger-McDermott task is a classic way to measure memory distortion. This notebook tries to recreate the human results in VAE and AE models.\n",
    "\n",
    "Steps:\n",
    "* Process dataset of CNN / Daily Mail news articles (https://www.tensorflow.org/datasets/catalog/cnn_dailymail) into lists of words (ignoring order)\n",
    "* Vectorize these (into vectors of word counts, removing most common and least common to reduce dimension)\n",
    "* Train VAE and normal AE to reconstruct word vectors\n",
    "* Explore whether we see 'intrusion of semantically related items' when network recalls a list\n",
    "* Use the word lists at https://www3.nd.edu/~memory/OLD/Materials/DRM.pdf to test this - are the lure words falsely recalled?\n",
    "* Explore what generating word lists from latent space tells us about the 'semantic memory' of the network"
   ]
  },
  {
   "cell_type": "code",
   "execution_count": null,
   "metadata": {
    "jupyter": {
     "outputs_hidden": true
    }
   },
   "outputs": [],
   "source": [
    "!pip install tensorflow==2.3.1\n",
    "!pip install tensorflow_datasets"
   ]
  },
  {
   "cell_type": "code",
   "execution_count": 1,
   "metadata": {},
   "outputs": [],
   "source": [
    "import pandas as pd\n",
    "from sklearn.feature_extraction.text import CountVectorizer\n",
    "import tensorflow_datasets as tfds\n",
    "import matplotlib.pyplot as plt\n",
    "import numpy as np\n",
    "import tensorflow as tf\n",
    "from tensorflow import keras\n",
    "from tensorflow.keras import layers\n",
    "\n",
    "tf.random.set_seed(1234)"
   ]
  },
  {
   "cell_type": "markdown",
   "metadata": {},
   "source": [
    "#### Load data and preprocess\n",
    "\n",
    "Each article has a time ID and place ID to represent the context of a memory.\n",
    "\n",
    "This is provided by adding 'PLACE_ID_X TIME_ID_Y' to the start of the article."
   ]
  },
  {
   "cell_type": "code",
   "execution_count": 2,
   "metadata": {},
   "outputs": [
    {
     "name": "stdout",
     "output_type": "stream",
     "text": [
      "287113\n"
     ]
    }
   ],
   "source": [
    "ds = tfds.load('cnn_dailymail', split='train')\n",
    "\n",
    "articles = []\n",
    "for example in ds: \n",
    "    articles.append(example[\"article\"].numpy().decode(\"utf-8\"))\n",
    "    \n",
    "print(len(articles))"
   ]
  },
  {
   "cell_type": "markdown",
   "metadata": {},
   "source": [
    "#### Load DRM word lists\n",
    "\n",
    "Load subset of lists from https://www3.nd.edu/~memory/OLD/Materials/DRM.pdf"
   ]
  },
  {
   "cell_type": "code",
   "execution_count": 3,
   "metadata": {},
   "outputs": [],
   "source": [
    "DRM_lists = []\n",
    "lures = []\n",
    "\n",
    "DRM_lists.append(['STEAL', 'ROBBER', 'JAIL', 'VILLAIN', 'BANDIT', 'CRIMINAL', 'ROB','COP', 'MONEY', 'BAD', 'BURGLAR', 'CROOK', 'CRIME', 'GUN', 'BANK'])\n",
    "lures.append('THIEF')\n",
    "\n",
    "DRM_lists.append(['CLINIC', 'HEALTH', 'MEDICINE', 'SICK', 'STETHOSCOPE', 'CURE', 'NURSE', 'SURGEON', 'PATIENT', 'HOSPITAL', 'DENTIST', 'PHYSICIAN', 'ILL'])\n",
    "lures.append('DOCTOR')\n",
    "\n",
    "DRM_lists.append(['CHILLY', 'HOT', 'WET', 'WINTER', 'FREEZE', 'FRIGID', 'HEAT', 'SNOW', 'ARCTIC', 'AIR', 'WEATHER', 'SHIVER', 'ICE', 'FROST', 'WARM'])\n",
    "lures.append('COLD')\n",
    "\n",
    "DRM_lists.append(['truck', 'bus', 'train', 'automobile', 'vehicle', 'drive', 'jeep', 'Ford', 'race', 'keys', 'garage', 'highway', 'sedan', 'van', 'taxi'])\n",
    "lures.append('car')\n",
    "\n",
    "DRM_lists.append(['bed', 'rest', 'awake', 'tired', 'dream', 'wake', 'snooze', 'blanket', 'doze', 'slumber', 'snore', 'nap', 'peace', 'yawn', 'drowsy'])\n",
    "lures.append('sleep')"
   ]
  },
  {
   "cell_type": "code",
   "execution_count": 4,
   "metadata": {},
   "outputs": [
    {
     "name": "stdout",
     "output_type": "stream",
     "text": [
      "10651500\n"
     ]
    }
   ],
   "source": [
    "all_sents = []\n",
    "\n",
    "for a in articles:\n",
    "    sents = a.split('. ')\n",
    "    all_sents.extend(sents)\n",
    "    \n",
    "print(len(all_sents))"
   ]
  },
  {
   "cell_type": "code",
   "execution_count": 5,
   "metadata": {},
   "outputs": [],
   "source": [
    "def check_lures(article, lure_list):\n",
    "    for l in lure_list:\n",
    "        if ' {} '.format(l.lower()) in article.lower():\n",
    "            return True\n",
    "    return False\n",
    "\n",
    "filtered = [i for i in all_sents if check_lures(i, lures)==True]\n",
    "\n",
    "flat_DRM = [item for sublist in DRM_lists for item in sublist]\n",
    "filtered = [i for i in filtered if check_lures(i, flat_DRM)==True]"
   ]
  },
  {
   "cell_type": "code",
   "execution_count": 6,
   "metadata": {},
   "outputs": [
    {
     "data": {
      "text/plain": [
       "17161"
      ]
     },
     "execution_count": 6,
     "metadata": {},
     "output_type": "execute_result"
    }
   ],
   "source": [
    "len(filtered)"
   ]
  },
  {
   "cell_type": "code",
   "execution_count": 7,
   "metadata": {},
   "outputs": [
    {
     "name": "stdout",
     "output_type": "stream",
     "text": [
      "THIEF\n",
      "308\n",
      "DOCTOR\n",
      "2531\n",
      "COLD\n",
      "3525\n",
      "car\n",
      "10108\n",
      "sleep\n",
      "1548\n",
      "THIEF\n",
      "312\n",
      "DOCTOR\n",
      "539\n",
      "COLD\n",
      "533\n",
      "car\n",
      "736\n",
      "sleep\n",
      "524\n"
     ]
    }
   ],
   "source": [
    "even_filtered = []\n",
    "\n",
    "for l in lures:\n",
    "    print(l)\n",
    "    print(len([f for f in filtered if l.lower() in f.lower()]))\n",
    "    even_filtered.extend([f for f in filtered if l.lower() in f.lower()][0:500])\n",
    "    \n",
    "for l in lures:\n",
    "    print(l)\n",
    "    print(len([f for f in even_filtered if l.lower() in f.lower()]))\n",
    "    \n",
    "filtered = even_filtered"
   ]
  },
  {
   "cell_type": "code",
   "execution_count": 8,
   "metadata": {},
   "outputs": [],
   "source": [
    "texts = [' '.join(l) for l in DRM_lists] + filtered"
   ]
  },
  {
   "cell_type": "code",
   "execution_count": 9,
   "metadata": {},
   "outputs": [
    {
     "data": {
      "text/plain": [
       "2313"
      ]
     },
     "execution_count": 9,
     "metadata": {},
     "output_type": "execute_result"
    }
   ],
   "source": [
    "len(texts)"
   ]
  },
  {
   "cell_type": "markdown",
   "metadata": {},
   "source": [
    "The cell below vectorizes the articles - it turns 'word1 word2 word3' into a vector with 1 at index for word1, 1 at index for word2, and 1 at index for word3. vectorizer.vocabulary_ stores the mapping of words to indices.\n",
    "\n",
    "To make the vocabulary manageable, I filter out words in greater than or fewer than a certain number of documents:"
   ]
  },
  {
   "cell_type": "code",
   "execution_count": 10,
   "metadata": {},
   "outputs": [
    {
     "name": "stdout",
     "output_type": "stream",
     "text": [
      "691\n"
     ]
    }
   ],
   "source": [
    "vectorizer = CountVectorizer(max_df=0.5, min_df=0.005)\n",
    "X=vectorizer.fit_transform(texts)\n",
    "print(len(vectorizer.get_feature_names()))"
   ]
  },
  {
   "cell_type": "code",
   "execution_count": 11,
   "metadata": {},
   "outputs": [],
   "source": [
    "texts = [\"ID_{} \".format(ind) + ' '.join(list(vectorizer.inverse_transform(item)[0])[0:40]) if ind<20 \n",
    "         else ' '.join(list(vectorizer.inverse_transform(item)[0])[0:40]) for ind, item in enumerate(X)]"
   ]
  },
  {
   "cell_type": "code",
   "execution_count": 12,
   "metadata": {},
   "outputs": [
    {
     "name": "stdout",
     "output_type": "stream",
     "text": [
      "711\n"
     ]
    }
   ],
   "source": [
    "vectorizer = CountVectorizer()\n",
    "X = vectorizer.fit_transform(texts)\n",
    "print(len(vectorizer.get_feature_names()))"
   ]
  },
  {
   "cell_type": "code",
   "execution_count": 13,
   "metadata": {},
   "outputs": [],
   "source": [
    "x_train = X.toarray()"
   ]
  },
  {
   "cell_type": "markdown",
   "metadata": {},
   "source": [
    "#### Function to build VAE:"
   ]
  },
  {
   "cell_type": "code",
   "execution_count": 26,
   "metadata": {},
   "outputs": [],
   "source": [
    "class Sampling(layers.Layer):\n",
    "    # Uses (z_mean, z_log_var) to sample z, the vector encoding a digit.\n",
    "\n",
    "    def call(self, inputs):\n",
    "        z_mean, z_log_var = inputs\n",
    "        batch = tf.shape(z_mean)[0]\n",
    "        dim = tf.shape(z_mean)[1]\n",
    "        epsilon = tf.keras.backend.random_normal(shape=(batch, dim))\n",
    "        return z_mean + tf.exp(0.5 * z_log_var) * epsilon\n",
    "\n",
    "## Build the encoder\n",
    "def build_encoder_decoder(latent_dim=100, input_dim = len(vectorizer.get_feature_names())):\n",
    "    encoder_inputs = keras.Input(shape=(input_dim,))\n",
    "    dropped_out = layers.Dropout(0.6, name=\"dropout_layer\")(encoder_inputs)\n",
    "    z_mean = layers.Dense(latent_dim, name=\"z_mean\")(dropped_out)\n",
    "    z_log_var = layers.Dense(latent_dim, name=\"z_log_var\")(encoder_inputs)\n",
    "    # This uses the special sampling layer defined above:\n",
    "    z = Sampling()([z_mean, z_log_var])\n",
    "    encoder = keras.Model(encoder_inputs, [z_mean, z_log_var, z], name=\"encoder\")\n",
    "\n",
    "    ## Build the decoder\n",
    "    latent_inputs = keras.Input(shape=(latent_dim,))\n",
    "    decoder_outputs = layers.Dense(input_dim)(latent_inputs)\n",
    "    decoder = keras.Model(latent_inputs, decoder_outputs, name=\"decoder\")\n",
    "    \n",
    "    return encoder, decoder\n"
   ]
  },
  {
   "cell_type": "code",
   "execution_count": 27,
   "metadata": {},
   "outputs": [],
   "source": [
    "## Define the VAE as a `Model` with a custom `train_step` \n",
    "# In inherits from the keras Model class, giving it all the properties of a usual keras model\n",
    "\n",
    "class VAE(keras.Model):\n",
    "    def __init__(self, encoder, decoder, beta, **kwargs):\n",
    "        super(VAE, self).__init__(**kwargs)\n",
    "        self.encoder = encoder\n",
    "        self.decoder = decoder\n",
    "        self.beta = beta\n",
    "\n",
    "    def train_step(self, data):\n",
    "        input_dim = len(vectorizer.get_feature_names())\n",
    "        if isinstance(data, tuple):\n",
    "            data = data[0]\n",
    "        with tf.GradientTape() as tape:\n",
    "            z_mean, z_log_var, z = self.encoder(data)\n",
    "            reconstruction = self.decoder(z)\n",
    "            reconstruction_loss = tf.reduce_mean(\n",
    "                keras.losses.binary_crossentropy(data, reconstruction)\n",
    "            )\n",
    "            #reconstruction_loss *= input_dim\n",
    "            kl_loss = 1 + z_log_var - tf.square(z_mean) - tf.exp(z_log_var)\n",
    "            kl_loss = tf.reduce_mean(kl_loss)\n",
    "            kl_loss *= -0.5\n",
    "            total_loss = reconstruction_loss + self.beta*kl_loss\n",
    "        grads = tape.gradient(total_loss, self.trainable_weights)\n",
    "        self.optimizer.apply_gradients(zip(grads, self.trainable_weights))\n",
    "        return {\n",
    "            \"loss\": total_loss,\n",
    "            \"reconstruction_loss\": reconstruction_loss,\n",
    "            \"kl_loss\": kl_loss,\n",
    "        }\n"
   ]
  },
  {
   "cell_type": "code",
   "execution_count": 71,
   "metadata": {},
   "outputs": [],
   "source": [
    "def recall_list(test_item, encoder, decoder, with_scores=False):\n",
    "    word_lookup = {v:k for k,v in vectorizer.vocabulary_.items()}\n",
    "    encoded = encoder.predict(vectorizer.transform([test_item]))\n",
    "    decoded = decoder.predict(encoded)\n",
    "    \n",
    "    if with_scores == True:\n",
    "        return([(word_lookup[index], decoded[0][index]) for index in np.argsort(-decoded)[0]]) \n",
    "    else:\n",
    "        return([word_lookup[index] for index in np.argsort(-decoded)[0]])\n"
   ]
  },
  {
   "cell_type": "code",
   "execution_count": 30,
   "metadata": {
    "scrolled": true
   },
   "outputs": [],
   "source": [
    "def train_vae(eps=1000, ld=200, beta=0.0001):\n",
    "    encoder, decoder = build_encoder_decoder(latent_dim=ld)\n",
    "    vae = VAE(encoder, decoder, beta)\n",
    "    vae.compile(optimizer='adam')\n",
    "    vae.fit(x_train, epochs=eps, batch_size=128, verbose=False, shuffle=True)\n",
    "    return vae\n"
   ]
  },
  {
   "cell_type": "code",
   "execution_count": 31,
   "metadata": {},
   "outputs": [],
   "source": [
    "def get_drm_results(vae):\n",
    "    lure_positions = []\n",
    "    recall_accuracies = []\n",
    "\n",
    "    for ind, DRM_list in enumerate(DRM_lists):\n",
    "        in_vocab = [i.lower() for i in DRM_list if i.lower() in vectorizer.vocabulary_.keys()]\n",
    "        print(\"Words in DRM list for lure '{}':\".format(lures[ind].lower()))\n",
    "        print(in_vocab)\n",
    "        test_item = \"id_{}\".format(ind) #' '.join([i.lower() for i in DRM_list])\n",
    "        encoded = vae.encoder.predict(vectorizer.transform([test_item]))\n",
    "        decoded = vae.decoder.predict(encoded)\n",
    "        print(\"Recalled list:\")\n",
    "        top_words = [word_lookup[index] for index in np.argsort(-decoded)[0]]\n",
    "        print(top_words[0:50])\n",
    "        print(len(top_words))\n",
    "        lure_positions.append(top_words.index(lures[ind].lower()))\n",
    "        \n",
    "        pred = top_words[0:len(in_vocab)]\n",
    "        true = in_vocab\n",
    "        correct = [p for p in pred if p in in_vocab]\n",
    "        acc = len(correct) / len(true)\n",
    "        recall_accuracies.append(acc)\n",
    "        \n",
    "        print(\"...........\")\n",
    "        \n",
    "    return lure_positions, recall_accuracies\n",
    "   "
   ]
  },
  {
   "cell_type": "markdown",
   "metadata": {},
   "source": [
    "### Plot charts"
   ]
  },
  {
   "cell_type": "code",
   "execution_count": 32,
   "metadata": {},
   "outputs": [],
   "source": [
    "vae = train_vae(eps=500, ld=100, beta=0.0005)"
   ]
  },
  {
   "cell_type": "code",
   "execution_count": 77,
   "metadata": {},
   "outputs": [],
   "source": [
    "vae_ld60 = train_vae(eps=500, ld=60, beta=0.0005)\n",
    "vae_ld70 = train_vae(eps=500, ld=70, beta=0.0005)\n",
    "vae_ld80 = train_vae(eps=500, ld=80, beta=0.0005)\n",
    "vae_ld90 = train_vae(eps=500, ld=90, beta=0.0005)\n",
    "vae_ld100 = train_vae(eps=500, ld=100, beta=0.0005)\n",
    "vae_ld110 = train_vae(eps=500, ld=110, beta=0.0005)\n",
    "vae_ld120 = train_vae(eps=500, ld=120, beta=0.0005)\n",
    "vae_ld130 = train_vae(eps=500, ld=130, beta=0.0005)"
   ]
  },
  {
   "cell_type": "code",
   "execution_count": 54,
   "metadata": {},
   "outputs": [
    {
     "name": "stdout",
     "output_type": "stream",
     "text": [
      "Words in DRM list for lure 'thief':\n",
      "['steal', 'jail', 'criminal', 'money', 'bad', 'burglar', 'crime', 'gun', 'bank']\n",
      "Recalled list:\n",
      "['thief', 'steal', 'gun', 'bad', 'bank', 'id_0', 'jail', 'make', 'last', 'money', 'made', 'crime', 'car', 'mental', 'said', 'claims', 'or', 'be', 'general', 'able']\n",
      "...........\n",
      "Words in DRM list for lure 'doctor':\n",
      "['clinic', 'health', 'medicine', 'sick', 'cure', 'nurse', 'patient', 'hospital', 'physician', 'ill']\n",
      "Recalled list:\n",
      "['hospital', 'doctor', 'said', 'health', 'cure', 'patient', 'or', 'car', 'it', 'have', 'of', 'medicine', 'at', 'make', 'cold', 'them', 'last', 'physician', 'too', 'sleep']\n",
      "...........\n",
      "Words in DRM list for lure 'cold':\n",
      "['hot', 'wet', 'winter', 'freeze', 'heat', 'snow', 'arctic', 'air', 'weather', 'ice', 'warm']\n",
      "Recalled list:\n",
      "['cold', 'hot', 'heat', 'winter', 'able', 'home', 'wet', 'don', 'son', 'weather', 'who', 'local', 'just', 'her', 'take', 'like', 'any', 'or', 'snow', 'says']\n",
      "...........\n",
      "Words in DRM list for lure 'car':\n",
      "['truck', 'bus', 'train', 'vehicle', 'drive', 'ford', 'race', 'keys', 'garage', 'highway', 'van', 'taxi']\n",
      "Recalled list:\n",
      "['car', 'train', 'drive', 'make', 'highway', 'take', 'van', 'vehicle', 'thief', 'avoid', 'said', 'steal', 'truck', 'keys', 'pictured', 'heat', 'bus', 'onto', 'in', 'return']\n",
      "...........\n",
      "Words in DRM list for lure 'sleep':\n",
      "['bed', 'rest', 'awake', 'tired', 'dream', 'wake', 'blanket', 'peace']\n",
      "Recalled list:\n",
      "['doctor', 'cold', 'or', 'bed', 'into', 'of', 'said', 'who', 'car', 'used', 'thief', 'them', 'make', 'her', 'in', 'because', 'not', 'after', 'it', 'gun']\n",
      "...........\n"
     ]
    }
   ],
   "source": [
    "for ind, DRM_list in enumerate(DRM_lists):\n",
    "    in_vocab = [i.lower() for i in DRM_list if i.lower() in vectorizer.vocabulary_.keys()]\n",
    "    print(\"Words in DRM list for lure '{}':\".format(lures[ind].lower()))\n",
    "    print(in_vocab)\n",
    "    test_item = 'id_{}'.format(ind) #' '.join([i.lower() for i in DRM_list])\n",
    "    encoded = vae_ld140.encoder.predict(vectorizer.transform([test_item]))\n",
    "    decoded = vae_ld140.decoder.predict(encoded)\n",
    "    print(\"Recalled list:\")\n",
    "    top_words = [word_lookup[index] for index in np.argsort(-decoded)[0][0:20]]\n",
    "    print(top_words)\n",
    "    print(\"...........\")\n"
   ]
  },
  {
   "cell_type": "code",
   "execution_count": 73,
   "metadata": {},
   "outputs": [
    {
     "data": {
      "text/plain": [
       "['THIEF', 'DOCTOR', 'COLD', 'car', 'sleep']"
      ]
     },
     "execution_count": 73,
     "metadata": {},
     "output_type": "execute_result"
    }
   ],
   "source": [
    "lures"
   ]
  },
  {
   "cell_type": "code",
   "execution_count": 86,
   "metadata": {},
   "outputs": [
    {
     "name": "stdout",
     "output_type": "stream",
     "text": [
      "LD = 60:\n",
      "0\n",
      "1\n",
      "2\n",
      "3\n",
      "4\n",
      "[0.095031634, 0.16796309, 0.11442423, 0.10697013, 0.18939541, 0.06952366, 0.18172324, 0.1745294, 0.17065775, 0.21137556, 0.11658339, 0.092280656, 0.30955303, 0.17560045, 0.1228325, 0.16200173, 0.11447257, 0.0027873293, 0.07365658, 0.22930747, 0.13614091, 0.20980169, 0.1641684, 0.18580545, 0.18915264]\n",
      "LD = 70:\n",
      "0\n",
      "1\n",
      "2\n",
      "3\n",
      "4\n",
      "[0.12256949, 0.098482, 0.14121273, 0.14113265, 0.101209514, 0.085446805, 0.1460055, 0.20778489, 0.20442472, 0.19932047, 0.093222775, 0.18606815, 0.18619034, 0.023137037, 0.20270145, 0.10589882, 0.1373542, 0.11672233, 0.09652052, 0.11341172, 0.083411455, 0.16614693, 0.098745346, 0.18367726, 0.24243227]\n",
      "LD = 80:\n",
      "0\n",
      "1\n",
      "2\n",
      "3\n",
      "4\n",
      "[0.11009711, 0.08950798, 0.17109397, 0.13299048, -0.0038102344, 0.058742642, 0.14277673, 0.11350484, 0.047901276, 0.11524624, 0.07115774, 0.030321375, 0.14876975, 0.17099652, 0.09033362, 0.12857422, 0.200754, 0.043524995, 0.19214873, 0.08305007, 0.056986965, 0.15122446, 0.092951044, -0.026875254, 0.06367502]\n",
      "LD = 90:\n",
      "0\n",
      "1\n",
      "2\n",
      "3\n",
      "4\n",
      "[0.074304506, 0.09094918, 0.05652544, 0.11364189, 0.13588372, 0.07862529, 0.08982805, 0.11329292, 0.14358959, 0.23039307, 0.027892318, 0.1585459, 0.113479905, 0.07311301, 0.13376167, 0.062106114, 0.16833806, 0.15791366, 0.22109187, 0.065304, 0.054262765, 0.056291573, 0.19973047, 0.21275926, 0.1116527]\n",
      "LD = 100:\n",
      "0\n",
      "1\n",
      "2\n",
      "3\n",
      "4\n",
      "[0.04269396, 0.15349309, 0.038913593, 0.18063667, 0.16780534, 0.1822365, 0.11177121, 0.13059643, 0.15328395, 0.046970673, 0.06418605, 0.042734474, 0.11435672, 0.034290757, 0.11801908, -0.04463172, 0.06743547, 0.07126129, 0.12414105, 0.060715612, 0.06222772, 0.12021339, 0.15819652, 0.14286052, 0.07606987]\n",
      "LD = 110:\n",
      "0\n",
      "1\n",
      "2\n",
      "3\n",
      "4\n",
      "[0.016752044, 0.16961378, 0.106107846, 0.082013436, 0.13102618, 0.0058745374, 0.094962284, 0.22231157, 0.1928445, 0.12003361, 0.064245336, 0.12812874, 0.22949088, 0.06926287, 0.099690765, 0.022119505, -0.04710265, -0.05718644, 0.056152146, 0.04520295, 0.092693426, 0.12472689, 0.08164581, 0.14829218, 0.11730006]\n",
      "LD = 120:\n",
      "0\n",
      "1\n",
      "2\n",
      "3\n",
      "4\n",
      "[0.0402578, 0.18114996, 0.10371019, -0.044592094, 0.102280244, 0.0050856136, -0.015122954, 0.20064178, 0.08369754, 0.109109126, 0.0893407, 0.029029971, 0.08412668, 0.16000734, 0.1336658, 0.02499464, 0.072539106, 0.08774096, 0.052356046, 0.14280587, 0.13200451, 0.11149979, 0.10263906, 0.11293209, 0.00084191374]\n",
      "LD = 130:\n",
      "0\n",
      "1\n",
      "2\n",
      "3\n",
      "4\n",
      "[-0.081275076, -0.009227909, 0.084437765, -0.039023776, 0.050853476, 0.07948997, 0.10182205, 0.08795083, 0.17476732, 0.063523754, 0.013200309, 0.05334659, 0.08384114, 0.11517669, 0.076736085, 0.05595555, 0.01456973, 0.06394678, 0.030633723, 0.04487244, 0.03141045, 0.09502334, 0.07668146, 0.0932199, 0.058788262]\n"
     ]
    }
   ],
   "source": [
    "all_probs = []\n",
    "\n",
    "for i in range(8):\n",
    "    print(\"LD = {}:\".format(60 + i*10))\n",
    "    probs = []\n",
    "    for j in range(5):\n",
    "        print(j)\n",
    "        vae = train_vae(eps=100, ld=60 + i*10, beta=0.0005)\n",
    "        for k in range(5):\n",
    "            try:\n",
    "                recalled = recall_list('id_{}'.format(k), vae.encoder, vae.decoder, with_scores=True)\n",
    "                terms = [item[0] for item in recalled]\n",
    "                scores = [item[1] for item in recalled]\n",
    "                term_ind = terms.index(lures[k].lower())\n",
    "                probs.append(scores[term_ind])\n",
    "            except Exception as e:\n",
    "                print(e)\n",
    "    print(probs) \n",
    "    all_probs.append(np.mean(probs))"
   ]
  },
  {
   "cell_type": "code",
   "execution_count": 87,
   "metadata": {},
   "outputs": [
    {
     "data": {
      "text/plain": [
       "[0.15062957,\n",
       " 0.13932918,\n",
       " 0.09902576,\n",
       " 0.11773107,\n",
       " 0.096819125,\n",
       " 0.09264809,\n",
       " 0.08410967,\n",
       " 0.056828834]"
      ]
     },
     "execution_count": 87,
     "metadata": {},
     "output_type": "execute_result"
    }
   ],
   "source": [
    "all_probs"
   ]
  },
  {
   "cell_type": "code",
   "execution_count": 104,
   "metadata": {},
   "outputs": [
    {
     "data": {
      "image/png": "[encoded data removed]",
      "text/plain": [
       "<Figure size 1152x576 with 1 Axes>"
      ]
     },
     "metadata": {
      "needs_background": "light"
     },
     "output_type": "display_data"
    },
    {
     "data": {
      "text/plain": [
       "<Figure size 1152x576 with 0 Axes>"
      ]
     },
     "metadata": {},
     "output_type": "display_data"
    }
   ],
   "source": [
    "plt.bar([60 + i*10 for i in range(8)], all_probs, width = 6)\n",
    "\n",
    "plt.xlabel('Number of latent dimensions') \n",
    "plt.ylabel('Mean output score') \n",
    "  \n",
    "# displaying the title\n",
    "plt.title(\"Mean output score for lure words for different latent dimensions\")\n",
    "\n",
    "size=15\n",
    "params = {'legend.fontsize': 'large',\n",
    "          'figure.figsize': (16,8),\n",
    "          'axes.labelsize': size,\n",
    "          'axes.titlesize': size*1.2,\n",
    "          'xtick.labelsize': size,\n",
    "          'ytick.labelsize': size}\n",
    "plt.rcParams.update(params)\n",
    "  \n",
    "plt.show()\n",
    "plt.savefig('mean_output_scores.png')"
   ]
  },
  {
   "cell_type": "code",
   "execution_count": 66,
   "metadata": {},
   "outputs": [
    {
     "data": {
      "text/plain": [
       "['THIEF', 'DOCTOR', 'COLD', 'car', 'sleep']"
      ]
     },
     "execution_count": 66,
     "metadata": {},
     "output_type": "execute_result"
    }
   ],
   "source": [
    "lures"
   ]
  },
  {
   "cell_type": "code",
   "execution_count": 61,
   "metadata": {},
   "outputs": [
    {
     "data": {
      "text/plain": [
       "Text(0.5, 1.0, \"Recalled words for input 'id_2' (lure word 'cold')\")"
      ]
     },
     "execution_count": 61,
     "metadata": {},
     "output_type": "execute_result"
    },
    {
     "data": {
      "image/png": "[encoded data removed]",
      "text/plain": [
       "<Figure size 864x1296 with 3 Axes>"
      ]
     },
     "metadata": {
      "needs_background": "light"
     },
     "output_type": "display_data"
    }
   ],
   "source": [
    "vae = vae_ld80\n",
    "\n",
    "size=15\n",
    "params = {'legend.fontsize': 'large',\n",
    "          'figure.figsize': (20,8),\n",
    "          'axes.labelsize': size,\n",
    "          'axes.titlesize': size*1.2,\n",
    "          'xtick.labelsize': size,\n",
    "          'ytick.labelsize': size,\n",
    "         'axes.titlepad': 25}\n",
    "plt.rcParams.update(params)\n",
    "\n",
    "fig, axs = plt.subplots(3,1, figsize=(12,18))\n",
    "fig.tight_layout(h_pad=5.5)\n",
    "\n",
    "recalled = recall_list('id_1', vae.encoder, vae.decoder, with_scores=True)[0:10]\n",
    "terms = [i[0] for i in recalled]\n",
    "scores = [i[1] for i in recalled]\n",
    "clrs = ['red' if x == 'doctor' else 'blue' for x in terms]\n",
    "\n",
    "axs[1].bar(terms, scores, color=clrs, alpha=0.5)\n",
    "axs[1].set_ylabel('Recall score')\n",
    "axs[1].set_title(\"Recalled words for input 'id_1' (lure word 'doctor')\")\n",
    "\n",
    "recalled = recall_list('id_3', vae.encoder, vae.decoder, with_scores=True)[0:10]\n",
    "terms = [i[0] for i in recalled]\n",
    "scores = [i[1] for i in recalled]\n",
    "clrs = ['red' if x == 'car' else 'blue' for x in terms]\n",
    "\n",
    "axs[0].bar(terms, scores, color=clrs, alpha=0.5)\n",
    "axs[0].set_ylabel('Recall score')\n",
    "axs[0].set_title(\"Recalled words for input 'id_3' (lure word 'car')\")\n",
    "\n",
    "recalled = recall_list('id_2', vae.encoder, vae.decoder, with_scores=True)[0:10]\n",
    "terms = [i[0] for i in recalled]\n",
    "scores = [i[1] for i in recalled]\n",
    "clrs = ['red' if x == 'cold' else 'blue' for x in terms]\n",
    "\n",
    "axs[2].bar(terms, scores, color=clrs, alpha=0.5)\n",
    "axs[2].set_ylabel('Recall score')\n",
    "axs[2].set_title(\"Recalled words for input 'id_2' (lure word 'cold')\")"
   ]
  },
  {
   "cell_type": "code",
   "execution_count": 38,
   "metadata": {},
   "outputs": [],
   "source": [
    "#fig.savefig('vae_eps500_ld100_beta0.0005.png', bbox_inches='tight')"
   ]
  },
  {
   "cell_type": "markdown",
   "metadata": {},
   "source": [
    "### Basic autoencoder for comparison\n",
    "\n",
    "Compare VAE with standard AE."
   ]
  },
  {
   "cell_type": "code",
   "execution_count": 39,
   "metadata": {
    "scrolled": true
   },
   "outputs": [],
   "source": [
    "def train_ae(n=40, opt='rmsprop', eps=1000):\n",
    "    num_words=len(vectorizer.get_feature_names())\n",
    "\n",
    "    input_layer = keras.Input(shape=(num_words,))\n",
    "    encoded = layers.Dropout(0.5)(input_layer)\n",
    "    encoded = layers.Dense(n, activation='relu')(encoded)\n",
    "    decoded = layers.Dense(num_words, activation='sigmoid')(encoded)\n",
    "\n",
    "    autoencoder = keras.Model(input_layer, decoded)\n",
    "\n",
    "    encoder = keras.Model(input_layer, encoded)\n",
    "\n",
    "    encoded_input = keras.Input(shape=(n,))\n",
    "    decoder_layer = autoencoder.layers[-1]\n",
    "    decoder = keras.Model(encoded_input, decoder_layer(encoded_input))\n",
    "\n",
    "    autoencoder.compile(optimizer=opt, loss='binary_crossentropy')\n",
    "\n",
    "    autoencoder.fit(x_train, x_train,\n",
    "                   epochs=eps,\n",
    "                   batch_size=128,\n",
    "                   shuffle=True,\n",
    "                   verbose=False)\n",
    "    \n",
    "    return autoencoder, encoder, decoder\n",
    "\n",
    "#autoencoder, encoder, decoder = train_ae(eps=2000, n=70, opt='rmsprop')"
   ]
  },
  {
   "cell_type": "code",
   "execution_count": 40,
   "metadata": {},
   "outputs": [],
   "source": [
    "word_lookup = {v:k for k,v in vectorizer.vocabulary_.items()}\n",
    "\n",
    "def recall_list(test_item, encoder, decoder, with_scores=False):\n",
    "    encoded = encoder.predict(vectorizer.transform([test_item]))\n",
    "    decoded = decoder.predict(encoded)\n",
    "    \n",
    "    if with_scores == True:\n",
    "        return([(word_lookup[index], decoded[0][index]) for index in np.argsort(-decoded)[0]][0:30]) \n",
    "    else:\n",
    "        return([word_lookup[index] for index in np.argsort(-decoded)[0]][0:30])"
   ]
  },
  {
   "cell_type": "code",
   "execution_count": 41,
   "metadata": {},
   "outputs": [],
   "source": [
    "def evaluate_model(encoder, decoder):\n",
    "    ints = []\n",
    "    for i in range(14):\n",
    "        true = texts[i].split()\n",
    "        pred = recall_list(\"id_{}\".format(i), encoder, decoder)[0:len(true)]\n",
    "        intersection = [val for val in true if val in pred]\n",
    "        ints.append(len(intersection))\n",
    "    print(sum(ints))\n",
    "    return(sum(ints))"
   ]
  },
  {
   "cell_type": "code",
   "execution_count": null,
   "metadata": {
    "scrolled": true
   },
   "outputs": [],
   "source": [
    "eps_to_try = [10,20,50,100,200,250,300,350,400, 500,1000, 2000]\n",
    "opt_to_try = ['sgd', 'rmsprop', 'adam']\n",
    "n_to_try = [5,10,20,30,40,50,60,80, 100, 150, 200,250,300,400]\n",
    "\n",
    "params = []\n",
    "scores = []\n",
    "\n",
    "for ep in eps_to_try:\n",
    "    for opt in opt_to_try:\n",
    "        for n in n_to_try:\n",
    "            autoencoder, encoder, decoder = train_ae(eps=ep, n=n, opt=opt)\n",
    "            score = evaluate_model(encoder, decoder)\n",
    "            params.append([ep,n,opt])\n",
    "            scores.append(score)\n",
    "            print([ep,n,opt])\n",
    "            print(score)\n",
    "            \n",
    "params[np.argmax(scores)]"
   ]
  },
  {
   "cell_type": "code",
   "execution_count": 46,
   "metadata": {
    "scrolled": true
   },
   "outputs": [],
   "source": [
    "# eps = 6000\n",
    "autoencoder, encoder, decoder = train_ae(eps=10000, n=30, opt='adam')"
   ]
  },
  {
   "cell_type": "code",
   "execution_count": 47,
   "metadata": {},
   "outputs": [
    {
     "name": "stdout",
     "output_type": "stream",
     "text": [
      "Words in DRM list for lure 'thief':\n",
      "['steal', 'jail', 'criminal', 'money', 'bad', 'burglar', 'crime', 'gun', 'bank']\n",
      "Recalled list:\n",
      "['id_0', 'burglar', 'bank', 'jail', 'thief', 'health', 'gun', 'cold', 'john', 'bad', 'cure', 'steal', 'is', 'money', 'sleep', 'from', 'has', 'found', 'she', 'needed']\n",
      "...........\n",
      "Words in DRM list for lure 'doctor':\n",
      "['clinic', 'health', 'medicine', 'sick', 'cure', 'nurse', 'patient', 'hospital', 'physician', 'ill']\n",
      "Recalled list:\n",
      "['id_1', 'cure', 'sick', 'health', 'ill', 'doctor', 'its', 'medicine', 'at', 'clinic', 'nurse', 'patient', 'including', 'physician', 'hospital', 'by', 'first', 'police', 'money', 'found']\n",
      "...........\n",
      "Words in DRM list for lure 'cold':\n",
      "['hot', 'wet', 'winter', 'freeze', 'heat', 'snow', 'arctic', 'air', 'weather', 'ice', 'warm']\n",
      "Recalled list:\n",
      "['id_2', 'sleep', 'air', 'hot', 'cold', 'escape', 'wet', 'from', 'winter', 'car', 'in', 'warm', 'freeze', 'arctic', 'is', 'heat', 'weather', 'through', 'night', 'its']\n",
      "...........\n",
      "Words in DRM list for lure 'car':\n",
      "['truck', 'bus', 'train', 'vehicle', 'drive', 'ford', 'race', 'keys', 'garage', 'highway', 'van', 'taxi']\n",
      "Recalled list:\n",
      "['id_3', 'car', 'train', 'snap', 'pair', 'allow', 'taxi', 'sleep', 'truck', 'drive', 'race', 'drug', 'ford', 'garage', 'bus', 'in', 'keys', 'air', 'from', 'bank']\n",
      "...........\n",
      "Words in DRM list for lure 'sleep':\n",
      "['bed', 'rest', 'awake', 'tired', 'dream', 'wake', 'blanket', 'peace']\n",
      "Recalled list:\n",
      "['id_4', 'sleep', 'blanket', 'parked', 'snap', 'tired', 'thief', 'bed', 'jail', 'gun', 'burglar', 'stolen', 'car', 'under', 'bank', 'wake', 'rest', 'in', 'up', 'for']\n",
      "...........\n"
     ]
    }
   ],
   "source": [
    "for ind, DRM_list in enumerate(DRM_lists):\n",
    "    in_vocab = [i.lower() for i in DRM_list if i.lower() in vectorizer.vocabulary_.keys()]\n",
    "    print(\"Words in DRM list for lure '{}':\".format(lures[ind].lower()))\n",
    "    print(in_vocab)\n",
    "    test_item = 'id_{}'.format(ind) #' '.join([i.lower() for i in DRM_list])\n",
    "    encoded = encoder.predict(vectorizer.transform([test_item]))\n",
    "    decoded = decoder.predict(encoded)\n",
    "    print(\"Recalled list:\")\n",
    "    top_words = [word_lookup[index] for index in np.argsort(-decoded)[0][0:20]]\n",
    "    print(top_words)\n",
    "    print(\"...........\")\n",
    "    "
   ]
  },
  {
   "cell_type": "code",
   "execution_count": 50,
   "metadata": {},
   "outputs": [
    {
     "data": {
      "image/png": "[encoded data removed]",
      "text/plain": [
       "<Figure size 864x1296 with 3 Axes>"
      ]
     },
     "metadata": {
      "needs_background": "light"
     },
     "output_type": "display_data"
    }
   ],
   "source": [
    "size=15\n",
    "params = {'legend.fontsize': 'large',\n",
    "          'figure.figsize': (20,8),\n",
    "          'axes.labelsize': size,\n",
    "          'axes.titlesize': size*1.2,\n",
    "          'xtick.labelsize': size,\n",
    "          'ytick.labelsize': size,\n",
    "         'axes.titlepad': 25}\n",
    "plt.rcParams.update(params)\n",
    "\n",
    "fig, axs = plt.subplots(3,1, figsize=(12,18))\n",
    "fig.tight_layout(h_pad=5.5)\n",
    "\n",
    "recalled = recall_list('id_1', encoder, decoder, with_scores=True)[0:10]\n",
    "terms = [i[0] for i in recalled]\n",
    "scores = [i[1] for i in recalled]\n",
    "clrs = ['red' if x == 'doctor' else 'blue' for x in terms]\n",
    "\n",
    "axs[1].bar(terms, scores, color=clrs, alpha=0.5)\n",
    "axs[1].set_ylabel('Recall score')\n",
    "axs[1].set_title(\"Recalled words for input 'id_1' (lure word 'doctor')\")\n",
    "\n",
    "recalled = recall_list('id_0', encoder, decoder, with_scores=True)[0:10]\n",
    "terms = [i[0] for i in recalled]\n",
    "scores = [i[1] for i in recalled]\n",
    "clrs = ['red' if x == 'thief' else 'blue' for x in terms]\n",
    "\n",
    "axs[0].bar(terms, scores, color=clrs, alpha=0.5)\n",
    "axs[0].set_ylabel('Recall score')\n",
    "axs[0].set_title(\"Recalled words for input 'id_0' (lure word 'thief')\")\n",
    "\n",
    "recalled = recall_list('id_2', encoder, decoder, with_scores=True)[0:10]\n",
    "terms = [i[0] for i in recalled]\n",
    "scores = [i[1] for i in recalled]\n",
    "clrs = ['red' if x == 'cold' else 'blue' for x in terms]\n",
    "\n",
    "axs[2].bar(terms, scores, color=clrs, alpha=0.5)\n",
    "axs[2].set_ylabel('Recall score')\n",
    "axs[2].set_title(\"Recalled words for input 'id_2' (lure word 'cold')\")\n",
    "\n",
    "fig.savefig('ae_10000eps_30dim_adam.png', bbox_inches='tight')"
   ]
  },
  {
   "cell_type": "code",
   "execution_count": null,
   "metadata": {},
   "outputs": [],
   "source": []
  }
 ],
 "metadata": {
  "kernelspec": {
   "display_name": "Python 3",
   "language": "python",
   "name": "python3"
  },
  "language_info": {
   "codemirror_mode": {
    "name": "ipython",
    "version": 3
   },
   "file_extension": ".py",
   "mimetype": "text/x-python",
   "name": "python",
   "nbconvert_exporter": "python",
   "pygments_lexer": "ipython3",
   "version": "3.7.1"
  }
 },
 "nbformat": 4,
 "nbformat_minor": 4
}
