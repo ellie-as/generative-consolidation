{
 "cells": [
  {
   "cell_type": "markdown",
   "metadata": {},
   "source": [
    "### Modelling Durrant et al. (2011)\n",
    "\n",
    "To explore the effect of sleep on statistical learning, Durrant et al. (2011) constructed two types of sequence, both made up of regular tones at differing frequencies. One type had a structure in which the preceding two tones determined the next, except for a few transitions which were random to avoid repetition. The other type was the reverse – most transitions were random. After listening to a structured sequence, participants were tested on their ability distinguish short structured and unstructured sequences. Delayed recall was then tested, after a night’s sleep for one group, and after a waking rest for the other. Durrant et al. (2011) found that sleep improved performance more than waking rest, suggesting systems consolidation promotes statistical learning.\n",
    "\n",
    "Here, we generate a set of sequences based on the transition structure in Durrant et al. (2011). A model with the GPT-2 architecture is trained from scratch on the structured sequences only. At the end of each epoch of the training, the perplexity is calculated for a two test sets of structured and unstructured sequences. We find that the difference in perplexity of these two sets increases over time, corresponding to improved ability to distinguish them. In addition, outputs from the trained model are structured in the same way as the training data.\n",
    "\n",
    "Tested with conda_pytorch_latest_p36 kernel in AWS SageMaker."
   ]
  },
  {
   "cell_type": "markdown",
   "metadata": {},
   "source": [
    "#### Installation:"
   ]
  },
  {
   "cell_type": "code",
   "execution_count": null,
   "metadata": {},
   "outputs": [],
   "source": [
    "!pip install simpletransformers"
   ]
  },
  {
   "cell_type": "markdown",
   "metadata": {},
   "source": [
    "#### Imports:"
   ]
  },
  {
   "cell_type": "code",
   "execution_count": null,
   "metadata": {},
   "outputs": [],
   "source": [
    "import pandas as pd\n",
    "import random\n",
    "import logging\n",
    "from random import shuffle\n",
    "from matplotlib import pyplot as plt\n",
    "from simpletransformers.language_modeling import (\n",
    "    LanguageModelingModel,\n",
    "    LanguageModelingArgs,\n",
    ")\n",
    "from simpletransformers.language_generation import (\n",
    "    LanguageGenerationModel,\n",
    ")"
   ]
  },
  {
   "cell_type": "markdown",
   "metadata": {},
   "source": [
    "#### Construct training data"
   ]
  },
  {
   "cell_type": "code",
   "execution_count": null,
   "metadata": {},
   "outputs": [],
   "source": [
    "# Transition structure copied from Durrant et al. (2011):\n",
    "transition_structure = {\n",
    "    (1,1): 4,\n",
    "    (1,2): 3,\n",
    "    (1,3): 2,\n",
    "    (1,4): 1,\n",
    "    (1,5): 5,\n",
    "    (2,1): 5,\n",
    "    (2,2): 4,\n",
    "    (2,3): 3,\n",
    "    (2,4): 2,\n",
    "    (2,5): 1,\n",
    "    (3,1): 3,\n",
    "    (3,2): 2,\n",
    "    (3,3): 1,\n",
    "    (3,4): 5,\n",
    "    (3,5): 4,\n",
    "    (4,1): 1,\n",
    "    (4,2): 5,\n",
    "    (4,3): 4,\n",
    "    (4,4): 3,\n",
    "    (4,5): 2, \n",
    "    (5,1): 2,\n",
    "    (5,2): 1,\n",
    "    (5,3): 5,\n",
    "    (5,4): 4,\n",
    "    (5,5): 3\n",
    "}\n",
    "\n",
    "def get_sequence():\n",
    "    start = [random.randint(1,5),random.randint(1,5)]\n",
    "    for i in range(50):\n",
    "        num = random.uniform(0, 1)\n",
    "        if num > 0.1:\n",
    "            next_val = transition_structure[tuple(start[-2:])]\n",
    "        else:\n",
    "            if 0 < num < 0.02:\n",
    "                next_val = 1\n",
    "            if 0.02 < num < 0.04:\n",
    "                next_val = 2\n",
    "            if 0.04 < num < 0.06:\n",
    "                next_val = 3\n",
    "            if 0.06 < num < 0.08:\n",
    "                next_val = 4\n",
    "            if 0.08 < num < 0.1:\n",
    "                next_val = 5\n",
    "        start.append(next_val)\n",
    "    return ','.join([str(i) for i in start])\n",
    "\n",
    "seqs = [get_sequence() for i in range(5000)]\n",
    "seqs[0:3]"
   ]
  },
  {
   "cell_type": "code",
   "execution_count": null,
   "metadata": {},
   "outputs": [],
   "source": [
    "def get_random_sequence():\n",
    "    start = [random.randint(1,5),random.randint(1,5)]\n",
    "    for i in range(50):\n",
    "        next_val = random.randint(1,5)\n",
    "        start.append(next_val)\n",
    "    return ','.join([str(i) for i in start])\n",
    "\n",
    "text_file = open(\"train.txt\", \"w\")\n",
    "walks = [get_sequence() for i in range(5000)]\n",
    "shuffle(walks)\n",
    "n = text_file.write('\\n'.join(walks))\n",
    "text_file.close()\n",
    "\n",
    "text_file = open(\"structured_test.txt\", \"w\")\n",
    "walks = [get_sequence() for i in range(1000)]\n",
    "shuffle(walks)\n",
    "n = text_file.write('\\n'.join(walks))\n",
    "text_file.close()\n",
    "\n",
    "text_file = open(\"unstructured_test.txt\", \"w\")\n",
    "walks = [get_random_sequence() for i in range(1000)]\n",
    "shuffle(walks)\n",
    "n = text_file.write('\\n'.join(walks))\n",
    "text_file.close()"
   ]
  },
  {
   "cell_type": "markdown",
   "metadata": {},
   "source": [
    "#### Train generative model\n",
    "\n",
    "Train GPT-2 from scratch on dataset created above."
   ]
  },
  {
   "cell_type": "code",
   "execution_count": null,
   "metadata": {},
   "outputs": [],
   "source": [
    "logging.basicConfig(level=logging.INFO)\n",
    "transformers_logger = logging.getLogger(\"transformers\")\n",
    "transformers_logger.setLevel(logging.WARNING)\n",
    "\n",
    "model_args = LanguageModelingArgs()\n",
    "model_args.reprocess_input_data = True\n",
    "model_args.overwrite_output_dir = True\n",
    "model_args.num_train_epochs = 3\n",
    "model_args.dataset_type = \"simple\"\n",
    "model_args.save_model_every_epoch = False\n",
    "model_args.evaluate_during_training = False\n",
    "model_args.mlm = False\n",
    "model_args.learning_rate = 1e-5\n",
    "model_args.vocab_size=10\n",
    "model_args.use_early_stopping = True\n",
    "model_args.manual_seed = 123\n",
    "\n",
    "train_file = \"train.txt\"\n",
    "structured_test_file = \"structured_test.txt\"\n",
    "unstructured_test_file = \"unstructured_test.txt\"\n",
    "\n",
    "perplexity_structured = []\n",
    "perplexity_unstructured = []\n",
    "\n",
    "for num in [1, 2, 3]:\n",
    "    model_args.num_train_epochs = num\n",
    "    model = LanguageModelingModel(\n",
    "        \"gpt2\", None, train_files='train.txt', args=model_args\n",
    "    )\n",
    "\n",
    "    # Train the model\n",
    "    model.train_model(train_file)\n",
    "    \n",
    "    p = model.eval_model(structured_test_file)\n",
    "    perplexity_structured.append(p)\n",
    "    p = model.eval_model(unstructured_test_file)\n",
    "    perplexity_unstructured.append(p)"
   ]
  },
  {
   "cell_type": "markdown",
   "metadata": {},
   "source": [
    "Let's sample some outputs fron the trained model:"
   ]
  },
  {
   "cell_type": "code",
   "execution_count": null,
   "metadata": {},
   "outputs": [],
   "source": [
    "model = LanguageGenerationModel(\n",
    "    \"gpt2\", \"outputs\"\n",
    ")\n",
    "\n",
    "model.generate('1,')"
   ]
  },
  {
   "cell_type": "markdown",
   "metadata": {},
   "source": [
    "#### Plot perplexity against time"
   ]
  },
  {
   "cell_type": "code",
   "execution_count": null,
   "metadata": {},
   "outputs": [],
   "source": [
    "perplexity_structured = [p['perplexity'] for p in perplexity_structured]\n",
    "perplexity_unstructured = [p['perplexity'] for p in perplexity_unstructured]\n",
    "\n",
    "perplexity_structured = [float(p.detach().numpy()) for p in perplexity_structured]\n",
    "perplexity_unstructured = [float(p.detach().numpy()) for p in perplexity_unstructured]"
   ]
  },
  {
   "cell_type": "code",
   "execution_count": null,
   "metadata": {},
   "outputs": [],
   "source": [
    "plt.figure()\n",
    "plt.rcParams.update({'font.size' : 15})\n",
    "\n",
    "epochs = [1,2,3]\n",
    "groups = [perplexity_structured, perplexity_unstructured]\n",
    "\n",
    "df = pd.DataFrame({'Structured': perplexity_structured, 'Unstructured': perplexity_unstructured}, index=epochs)\n",
    "plot = df.plot.bar(title='Perplexity of unstructured vs. structured sequences', \n",
    "            color={'Structured': 'lightcoral', 'Unstructured': 'skyblue'},\n",
    "           xlabel='Epoch', figsize=(7,5), ylabel='Perplexity')\n",
    "\n",
    "plt.savefig('durrant_data.png')"
   ]
  }
 ],
 "metadata": {
  "kernelspec": {
   "display_name": "conda_pytorch_latest_p36",
   "language": "python",
   "name": "conda_pytorch_latest_p36"
  },
  "language_info": {
   "codemirror_mode": {
    "name": "ipython",
    "version": 3
   },
   "file_extension": ".py",
   "mimetype": "text/x-python",
   "name": "python",
   "nbconvert_exporter": "python",
   "pygments_lexer": "ipython3",
   "version": "3.6.13"
  }
 },
 "nbformat": 4,
 "nbformat_minor": 4
}
